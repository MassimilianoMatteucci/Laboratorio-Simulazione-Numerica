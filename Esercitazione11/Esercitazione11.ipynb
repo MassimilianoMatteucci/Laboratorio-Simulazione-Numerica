{
 "cells": [
  {
   "cell_type": "markdown",
   "metadata": {},
   "source": [
    "# <span style=\"color:green\"> Numerical Simulation Laboratory </span>\n",
    "## <span style=\"color:green\"> Matteucci Massimiliano 932234 </span>\n",
    "## <span style=\"color:green\"> Esercitazione 11 </span>\n",
    "## <span style=\"color:green\"> Esercizio 1 </span>"
   ]
  },
  {
   "cell_type": "code",
   "execution_count": 1,
   "metadata": {
    "executionInfo": {
     "elapsed": 14,
     "status": "ok",
     "timestamp": 1630417022037,
     "user": {
      "displayName": "Massimiliano Matteucci",
      "photoUrl": "",
      "userId": "10645043906402067426"
     },
     "user_tz": -120
    },
    "id": "P3xcHY5F0t37"
   },
   "outputs": [],
   "source": [
    "# target parameters of f(x) = m*x + b\n",
    "m = 2 # slope\n",
    "b = 1 # intersect"
   ]
  },
  {
   "cell_type": "markdown",
   "metadata": {
    "id": "qZ5_4F7x0t39"
   },
   "source": [
    "Now let's generate a set of input data which will slightly deviate from our ideal behaviour using a random noise (that actually is set to zero):"
   ]
  },
  {
   "cell_type": "code",
   "execution_count": 2,
   "metadata": {
    "executionInfo": {
     "elapsed": 286,
     "status": "ok",
     "timestamp": 1630417028703,
     "user": {
      "displayName": "Massimiliano Matteucci",
      "photoUrl": "",
      "userId": "10645043906402067426"
     },
     "user_tz": -120
    },
    "id": "As0b3aRO0t3-"
   },
   "outputs": [],
   "source": [
    "import numpy as np\n",
    "\n",
    "# generate training inputs\n",
    "np.random.seed(0)\n",
    "x_train = np.random.uniform(-1, 1, 500)\n",
    "x_valid = np.random.uniform(-1, 1, 100)\n",
    "x_valid.sort()\n",
    "y_target = m * x_valid + b # ideal (target) linear function\n",
    "\n",
    "sigma = 0.0 # noise standard deviation, for the moment it is absent\n",
    "y_train = np.random.normal(m * x_train + b, sigma) # actual measures from which we want to guess regression parameters\n",
    "y_valid = np.random.normal(m * x_valid + b, sigma)"
   ]
  },
  {
   "cell_type": "code",
   "execution_count": 3,
   "metadata": {
    "colab": {
     "base_uri": "https://localhost:8080/",
     "height": 265
    },
    "executionInfo": {
     "elapsed": 1334,
     "status": "ok",
     "timestamp": 1630417033545,
     "user": {
      "displayName": "Massimiliano Matteucci",
      "photoUrl": "",
      "userId": "10645043906402067426"
     },
     "user_tz": -120
    },
    "id": "DZ2LsRuV0t3_",
    "outputId": "e9873717-1a38-43d8-95f6-0d96460c323b"
   },
   "outputs": [
    {
     "data": {
      "image/png": "[encoded data removed]",
      "text/plain": [
       "<Figure size 432x288 with 1 Axes>"
      ]
     },
     "metadata": {
      "needs_background": "light"
     },
     "output_type": "display_data"
    }
   ],
   "source": [
    "# plot validation and target dataset\n",
    "import matplotlib.pyplot as plt\n",
    "plt.plot(x_valid, y_target, label='target')\n",
    "plt.scatter(x_valid, y_valid, color='r', label='validation data')\n",
    "plt.legend()\n",
    "plt.grid(True)\n",
    "plt.show()"
   ]
  },
  {
   "cell_type": "markdown",
   "metadata": {
    "id": "BYubLneC0t4A"
   },
   "source": [
    "If you remember how a single node of a neural network works, you can easily spot that **just a single neuron can make the job**. So let's start using a simple Sequential model with just one layer on one neuron only!"
   ]
  },
  {
   "cell_type": "code",
   "execution_count": 4,
   "metadata": {
    "executionInfo": {
     "elapsed": 2568,
     "status": "ok",
     "timestamp": 1630417040774,
     "user": {
      "displayName": "Massimiliano Matteucci",
      "photoUrl": "",
      "userId": "10645043906402067426"
     },
     "user_tz": -120
    },
    "id": "1FmR0uub0t4B"
   },
   "outputs": [],
   "source": [
    "# compose the NN model\n",
    "import tensorflow as tf\n",
    "from tensorflow import keras\n",
    "\n",
    "from tensorflow.keras.models import Sequential\n",
    "from tensorflow.keras.layers import Dense, Activation\n",
    "from tensorflow.keras import backend as K\n",
    "from tensorflow.keras.utils import get_custom_objects\n",
    "\n",
    "model = tf.keras.Sequential()\n",
    "model.add(Dense(1, input_shape=(1,)))\n",
    "\n",
    "# compile the model choosing optimizer, loss and metrics objects\n",
    "model.compile(optimizer='sgd', loss='mse', metrics=['mse'])"
   ]
  },
  {
   "cell_type": "code",
   "execution_count": 5,
   "metadata": {
    "colab": {
     "base_uri": "https://localhost:8080/"
    },
    "executionInfo": {
     "elapsed": 3285,
     "status": "ok",
     "timestamp": 1630417048079,
     "user": {
      "displayName": "Massimiliano Matteucci",
      "photoUrl": "",
      "userId": "10645043906402067426"
     },
     "user_tz": -120
    },
    "id": "WUTNlnrH0t4E",
    "outputId": "62fd2e52-8a97-46b3-e7ff-5b6e07c37792"
   },
   "outputs": [
    {
     "name": "stdout",
     "output_type": "stream",
     "text": [
      "Epoch 1/30\n",
      "16/16 [==============================] - 1s 12ms/step - loss: 1.1883 - mse: 1.1883 - val_loss: 0.9615 - val_mse: 0.9615\n",
      "Epoch 2/30\n",
      "16/16 [==============================] - 0s 3ms/step - loss: 0.7449 - mse: 0.7449 - val_loss: 0.6267 - val_mse: 0.6267\n",
      "Epoch 3/30\n",
      "16/16 [==============================] - 0s 3ms/step - loss: 0.4914 - mse: 0.4914 - val_loss: 0.4272 - val_mse: 0.4272\n",
      "Epoch 4/30\n",
      "16/16 [==============================] - 0s 3ms/step - loss: 0.3394 - mse: 0.3394 - val_loss: 0.3030 - val_mse: 0.3030\n",
      "Epoch 5/30\n",
      "16/16 [==============================] - 0s 2ms/step - loss: 0.2436 - mse: 0.2436 - val_loss: 0.2222 - val_mse: 0.2222\n",
      "Epoch 6/30\n",
      "16/16 [==============================] - 0s 3ms/step - loss: 0.1806 - mse: 0.1806 - val_loss: 0.1672 - val_mse: 0.1672\n",
      "Epoch 7/30\n",
      "16/16 [==============================] - 0s 2ms/step - loss: 0.1372 - mse: 0.1372 - val_loss: 0.1283 - val_mse: 0.1283\n",
      "Epoch 8/30\n",
      "16/16 [==============================] - 0s 2ms/step - loss: 0.1060 - mse: 0.1060 - val_loss: 0.0996 - val_mse: 0.0996\n",
      "Epoch 9/30\n",
      "16/16 [==============================] - 0s 3ms/step - loss: 0.0828 - mse: 0.0828 - val_loss: 0.0784 - val_mse: 0.0784\n",
      "Epoch 10/30\n",
      "16/16 [==============================] - 0s 3ms/step - loss: 0.0655 - mse: 0.0655 - val_loss: 0.0620 - val_mse: 0.0620\n",
      "Epoch 11/30\n",
      "16/16 [==============================] - 0s 2ms/step - loss: 0.0520 - mse: 0.0520 - val_loss: 0.0494 - val_mse: 0.0494\n",
      "Epoch 12/30\n",
      "16/16 [==============================] - 0s 4ms/step - loss: 0.0415 - mse: 0.0415 - val_loss: 0.0394 - val_mse: 0.0394\n",
      "Epoch 13/30\n",
      "16/16 [==============================] - 0s 2ms/step - loss: 0.0332 - mse: 0.0332 - val_loss: 0.0315 - val_mse: 0.0315\n",
      "Epoch 14/30\n",
      "16/16 [==============================] - 0s 2ms/step - loss: 0.0266 - mse: 0.0266 - val_loss: 0.0253 - val_mse: 0.0253\n",
      "Epoch 15/30\n",
      "16/16 [==============================] - 0s 3ms/step - loss: 0.0213 - mse: 0.0213 - val_loss: 0.0202 - val_mse: 0.0202\n",
      "Epoch 16/30\n",
      "16/16 [==============================] - 0s 2ms/step - loss: 0.0171 - mse: 0.0171 - val_loss: 0.0162 - val_mse: 0.0162\n",
      "Epoch 17/30\n",
      "16/16 [==============================] - 0s 3ms/step - loss: 0.0137 - mse: 0.0137 - val_loss: 0.0130 - val_mse: 0.0130\n",
      "Epoch 18/30\n",
      "16/16 [==============================] - 0s 2ms/step - loss: 0.0110 - mse: 0.0110 - val_loss: 0.0105 - val_mse: 0.0105\n",
      "Epoch 19/30\n",
      "16/16 [==============================] - 0s 2ms/step - loss: 0.0089 - mse: 0.0089 - val_loss: 0.0084 - val_mse: 0.0084\n",
      "Epoch 20/30\n",
      "16/16 [==============================] - 0s 3ms/step - loss: 0.0071 - mse: 0.0071 - val_loss: 0.0068 - val_mse: 0.0068\n",
      "Epoch 21/30\n",
      "16/16 [==============================] - 0s 4ms/step - loss: 0.0057 - mse: 0.0057 - val_loss: 0.0054 - val_mse: 0.0054\n",
      "Epoch 22/30\n",
      "16/16 [==============================] - 0s 2ms/step - loss: 0.0046 - mse: 0.0046 - val_loss: 0.0043 - val_mse: 0.0043\n",
      "Epoch 23/30\n",
      "16/16 [==============================] - 0s 2ms/step - loss: 0.0037 - mse: 0.0037 - val_loss: 0.0035 - val_mse: 0.0035\n",
      "Epoch 24/30\n",
      "16/16 [==============================] - 0s 2ms/step - loss: 0.0030 - mse: 0.0030 - val_loss: 0.0028 - val_mse: 0.0028\n",
      "Epoch 25/30\n",
      "16/16 [==============================] - 0s 2ms/step - loss: 0.0024 - mse: 0.0024 - val_loss: 0.0023 - val_mse: 0.0023\n",
      "Epoch 26/30\n",
      "16/16 [==============================] - 0s 2ms/step - loss: 0.0019 - mse: 0.0019 - val_loss: 0.0018 - val_mse: 0.0018\n",
      "Epoch 27/30\n",
      "16/16 [==============================] - 0s 2ms/step - loss: 0.0015 - mse: 0.0015 - val_loss: 0.0015 - val_mse: 0.0015\n",
      "Epoch 28/30\n",
      "16/16 [==============================] - 0s 4ms/step - loss: 0.0012 - mse: 0.0012 - val_loss: 0.0012 - val_mse: 0.0012\n",
      "Epoch 29/30\n",
      "16/16 [==============================] - 0s 3ms/step - loss: 9.9246e-04 - mse: 9.9246e-04 - val_loss: 9.3879e-04 - val_mse: 9.3879e-04\n",
      "Epoch 30/30\n",
      "16/16 [==============================] - 0s 3ms/step - loss: 7.9721e-04 - mse: 7.9721e-04 - val_loss: 7.5535e-04 - val_mse: 7.5535e-04\n",
      "500 500\n"
     ]
    }
   ],
   "source": [
    "# fit the model using training dataset\n",
    "# over 10 epochs of 32 batch size each\n",
    "# report training progress against validation data\n",
    "history = model.fit(x=x_train, y=y_train, \n",
    "          batch_size=32, epochs=30,\n",
    "          shuffle=True, # a good idea is to shuffle input before at each epoch\n",
    "          validation_data=(x_valid, y_valid))\n",
    "print(x_train.size, y_train.size)"
   ]
  },
  {
   "cell_type": "code",
   "execution_count": 6,
   "metadata": {
    "colab": {
     "base_uri": "https://localhost:8080/"
    },
    "executionInfo": {
     "elapsed": 1381,
     "status": "ok",
     "timestamp": 1630417058664,
     "user": {
      "displayName": "Massimiliano Matteucci",
      "photoUrl": "",
      "userId": "10645043906402067426"
     },
     "user_tz": -120
    },
    "id": "1ij93isMswT_",
    "outputId": "4be45747-7ecd-4213-ca50-9a860c87ef1b"
   },
   "outputs": [
    {
     "data": {
      "text/plain": [
       "[array([[1.9543936]], dtype=float32), array([0.9995963], dtype=float32)]"
      ]
     },
     "execution_count": 6,
     "metadata": {},
     "output_type": "execute_result"
    }
   ],
   "source": [
    "model.get_weights()"
   ]
  },
  {
   "cell_type": "code",
   "execution_count": 7,
   "metadata": {
    "colab": {
     "base_uri": "https://localhost:8080/"
    },
    "executionInfo": {
     "elapsed": 308,
     "status": "ok",
     "timestamp": 1630417062725,
     "user": {
      "displayName": "Massimiliano Matteucci",
      "photoUrl": "",
      "userId": "10645043906402067426"
     },
     "user_tz": -120
    },
    "id": "WCYz514U0t4H",
    "outputId": "23dd4542-be36-4eaf-f802-5d95986ca815"
   },
   "outputs": [
    {
     "name": "stdout",
     "output_type": "stream",
     "text": [
      "4/4 [==============================] - 0s 3ms/step - loss: 7.5535e-04 - mse: 7.5535e-04\n",
      "\n",
      "Test loss: 0.0007553526666015387\n",
      "Test accuracy: 0.0007553526666015387\n"
     ]
    }
   ],
   "source": [
    "# evaluate model\n",
    "score = model.evaluate(x_valid, y_valid, batch_size=32, verbose=1)\n",
    "\n",
    "# print performance\n",
    "print()\n",
    "print('Test loss:', score[0])\n",
    "print('Test accuracy:', score[1])"
   ]
  },
  {
   "cell_type": "code",
   "execution_count": 8,
   "metadata": {
    "colab": {
     "base_uri": "https://localhost:8080/"
    },
    "executionInfo": {
     "elapsed": 277,
     "status": "ok",
     "timestamp": 1630417066683,
     "user": {
      "displayName": "Massimiliano Matteucci",
      "photoUrl": "",
      "userId": "10645043906402067426"
     },
     "user_tz": -120
    },
    "id": "Z8yC4PaH0t4I",
    "outputId": "72134b10-b9a6-4036-97bb-ff3ab1c02431"
   },
   "outputs": [
    {
     "name": "stdout",
     "output_type": "stream",
     "text": [
      "4/4 [==============================] - 0s 3ms/step - loss: 7.5535e-04 - mse: 7.5535e-04\n",
      "\n",
      "Test loss: 0.0007553526666015387\n",
      "Test accuracy: 0.0007553526666015387\n"
     ]
    }
   ],
   "source": [
    "# evaluate model with the exact curve\n",
    "score = model.evaluate(x_valid, y_target, batch_size=32, verbose=1)\n",
    "\n",
    "# print performance\n",
    "print()\n",
    "print('Test loss:', score[0])\n",
    "print('Test accuracy:', score[1])"
   ]
  },
  {
   "cell_type": "code",
   "execution_count": 9,
   "metadata": {
    "colab": {
     "base_uri": "https://localhost:8080/",
     "height": 295
    },
    "executionInfo": {
     "elapsed": 372,
     "status": "ok",
     "timestamp": 1630417070747,
     "user": {
      "displayName": "Massimiliano Matteucci",
      "photoUrl": "",
      "userId": "10645043906402067426"
     },
     "user_tz": -120
    },
    "id": "HFAuGBwA0t4J",
    "outputId": "c1233cbe-5a48-4b98-f6df-70a0a9ad08eb"
   },
   "outputs": [
    {
     "data": {
      "image/png": "[encoded data removed]",
      "text/plain": [
       "<Figure size 432x288 with 1 Axes>"
      ]
     },
     "metadata": {
      "needs_background": "light"
     },
     "output_type": "display_data"
    }
   ],
   "source": [
    "\n",
    "# look into training history\n",
    "# Plot training & validation loss values\n",
    "plt.plot(history.history['loss'])\n",
    "plt.plot(history.history['val_loss'])\n",
    "plt.title('Model loss')\n",
    "plt.ylabel('Loss')\n",
    "plt.xlabel('Epoch')\n",
    "plt.legend(['Train', 'Test'], loc='best')\n",
    "plt.show()"
   ]
  },
  {
   "cell_type": "code",
   "execution_count": 10,
   "metadata": {
    "colab": {
     "base_uri": "https://localhost:8080/",
     "height": 265
    },
    "executionInfo": {
     "elapsed": 853,
     "status": "ok",
     "timestamp": 1630417074958,
     "user": {
      "displayName": "Massimiliano Matteucci",
      "photoUrl": "",
      "userId": "10645043906402067426"
     },
     "user_tz": -120
    },
    "id": "yRsU-C-d0t4K",
    "outputId": "0f47b4e8-8038-42dc-cf3c-13d1c9943199"
   },
   "outputs": [
    {
     "data": {
      "image/png": "[encoded data removed]",
      "text/plain": [
       "<Figure size 432x288 with 1 Axes>"
      ]
     },
     "metadata": {
      "needs_background": "light"
     },
     "output_type": "display_data"
    }
   ],
   "source": [
    "model.get_weights()\n",
    "x_predicted = np.random.uniform(-1, 1, 100)\n",
    "y_predicted = model.predict(x_predicted)\n",
    "plt.scatter(x_predicted, y_predicted,color='r')\n",
    "plt.plot(x_valid, y_target)\n",
    "plt.grid(True)\n",
    "plt.show()"
   ]
  },
  {
   "cell_type": "markdown",
   "metadata": {
    "id": "xNzJm-sD0t4L"
   },
   "source": [
    "## <span style=\"color:green\"> Esercizio 1 </span>\n",
    "\n",
    "In order to make practice with NN, explore how does the previous linear regression depend on the number of epochs, $N_{\\mathrm{epochs}}$, the number of data points $N_{\\mathrm{train}}$ and on the noise $\\sigma$. Try to improve the previous result operating on these parameters."
   ]
  },
  {
   "cell_type": "markdown",
   "metadata": {
    "id": "HVN0V38frEOL"
   },
   "source": [
    "Aumentiamo il numero di epoche"
   ]
  },
  {
   "cell_type": "code",
   "execution_count": 11,
   "metadata": {
    "colab": {
     "base_uri": "https://localhost:8080/"
    },
    "executionInfo": {
     "elapsed": 3363,
     "status": "ok",
     "timestamp": 1630417092438,
     "user": {
      "displayName": "Massimiliano Matteucci",
      "photoUrl": "",
      "userId": "10645043906402067426"
     },
     "user_tz": -120
    },
    "id": "fBvND5ZLGXY5",
    "outputId": "f6631e3d-942a-4611-cb67-693ce9d194ac"
   },
   "outputs": [
    {
     "name": "stdout",
     "output_type": "stream",
     "text": [
      "Epoch 1/50\n",
      "16/16 [==============================] - 0s 8ms/step - loss: 0.7814 - mse: 0.7814 - val_loss: 0.5557 - val_mse: 0.5557\n",
      "Epoch 2/50\n",
      "16/16 [==============================] - 0s 2ms/step - loss: 0.4175 - mse: 0.4175 - val_loss: 0.2999 - val_mse: 0.2999\n",
      "Epoch 3/50\n",
      "16/16 [==============================] - 0s 2ms/step - loss: 0.2253 - mse: 0.2253 - val_loss: 0.1639 - val_mse: 0.1639\n",
      "Epoch 4/50\n",
      "16/16 [==============================] - 0s 2ms/step - loss: 0.1233 - mse: 0.1233 - val_loss: 0.0913 - val_mse: 0.0913\n",
      "Epoch 5/50\n",
      "16/16 [==============================] - 0s 2ms/step - loss: 0.0689 - mse: 0.0689 - val_loss: 0.0521 - val_mse: 0.0521\n",
      "Epoch 6/50\n",
      "16/16 [==============================] - 0s 2ms/step - loss: 0.0395 - mse: 0.0395 - val_loss: 0.0308 - val_mse: 0.0308\n",
      "Epoch 7/50\n",
      "16/16 [==============================] - 0s 2ms/step - loss: 0.0235 - mse: 0.0235 - val_loss: 0.0189 - val_mse: 0.0189\n",
      "Epoch 8/50\n",
      "16/16 [==============================] - 0s 2ms/step - loss: 0.0145 - mse: 0.0145 - val_loss: 0.0121 - val_mse: 0.0121\n",
      "Epoch 9/50\n",
      "16/16 [==============================] - 0s 2ms/step - loss: 0.0094 - mse: 0.0094 - val_loss: 0.0081 - val_mse: 0.0081\n",
      "Epoch 10/50\n",
      "16/16 [==============================] - 0s 2ms/step - loss: 0.0064 - mse: 0.0064 - val_loss: 0.0056 - val_mse: 0.0056\n",
      "Epoch 11/50\n",
      "16/16 [==============================] - 0s 3ms/step - loss: 0.0045 - mse: 0.0045 - val_loss: 0.0040 - val_mse: 0.0040\n",
      "Epoch 12/50\n",
      "16/16 [==============================] - 0s 3ms/step - loss: 0.0033 - mse: 0.0033 - val_loss: 0.0030 - val_mse: 0.0030\n",
      "Epoch 13/50\n",
      "16/16 [==============================] - 0s 3ms/step - loss: 0.0025 - mse: 0.0025 - val_loss: 0.0023 - val_mse: 0.0023\n",
      "Epoch 14/50\n",
      "16/16 [==============================] - 0s 3ms/step - loss: 0.0019 - mse: 0.0019 - val_loss: 0.0018 - val_mse: 0.0018\n",
      "Epoch 15/50\n",
      "16/16 [==============================] - 0s 3ms/step - loss: 0.0015 - mse: 0.0015 - val_loss: 0.0014 - val_mse: 0.0014\n",
      "Epoch 16/50\n",
      "16/16 [==============================] - 0s 2ms/step - loss: 0.0012 - mse: 0.0012 - val_loss: 0.0011 - val_mse: 0.0011\n",
      "Epoch 17/50\n",
      "16/16 [==============================] - 0s 2ms/step - loss: 9.1425e-04 - mse: 9.1425e-04 - val_loss: 8.6552e-04 - val_mse: 8.6552e-04\n",
      "Epoch 18/50\n",
      "16/16 [==============================] - 0s 3ms/step - loss: 7.2673e-04 - mse: 7.2673e-04 - val_loss: 6.9025e-04 - val_mse: 6.9025e-04\n",
      "Epoch 19/50\n",
      "16/16 [==============================] - 0s 3ms/step - loss: 5.8094e-04 - mse: 5.8094e-04 - val_loss: 5.5217e-04 - val_mse: 5.5217e-04\n",
      "Epoch 20/50\n",
      "16/16 [==============================] - 0s 2ms/step - loss: 4.6556e-04 - mse: 4.6556e-04 - val_loss: 4.4197e-04 - val_mse: 4.4197e-04\n",
      "Epoch 21/50\n",
      "16/16 [==============================] - 0s 2ms/step - loss: 3.7321e-04 - mse: 3.7321e-04 - val_loss: 3.5370e-04 - val_mse: 3.5370e-04\n",
      "Epoch 22/50\n",
      "16/16 [==============================] - 0s 2ms/step - loss: 2.9898e-04 - mse: 2.9898e-04 - val_loss: 2.8337e-04 - val_mse: 2.8337e-04\n",
      "Epoch 23/50\n",
      "16/16 [==============================] - 0s 2ms/step - loss: 2.3979e-04 - mse: 2.3979e-04 - val_loss: 2.2712e-04 - val_mse: 2.2712e-04\n",
      "Epoch 24/50\n",
      "16/16 [==============================] - 0s 2ms/step - loss: 1.9238e-04 - mse: 1.9238e-04 - val_loss: 1.8274e-04 - val_mse: 1.8274e-04\n",
      "Epoch 25/50\n",
      "16/16 [==============================] - 0s 2ms/step - loss: 1.5478e-04 - mse: 1.5478e-04 - val_loss: 1.4694e-04 - val_mse: 1.4694e-04\n",
      "Epoch 26/50\n",
      "16/16 [==============================] - 0s 2ms/step - loss: 1.2448e-04 - mse: 1.2448e-04 - val_loss: 1.1819e-04 - val_mse: 1.1819e-04\n",
      "Epoch 27/50\n",
      "16/16 [==============================] - 0s 2ms/step - loss: 1.0019e-04 - mse: 1.0019e-04 - val_loss: 9.4960e-05 - val_mse: 9.4960e-05\n",
      "Epoch 28/50\n",
      "16/16 [==============================] - 0s 2ms/step - loss: 8.0507e-05 - mse: 8.0507e-05 - val_loss: 7.6218e-05 - val_mse: 7.6218e-05\n",
      "Epoch 29/50\n",
      "16/16 [==============================] - 0s 2ms/step - loss: 6.4605e-05 - mse: 6.4605e-05 - val_loss: 6.1217e-05 - val_mse: 6.1217e-05\n",
      "Epoch 30/50\n",
      "16/16 [==============================] - 0s 3ms/step - loss: 5.1936e-05 - mse: 5.1936e-05 - val_loss: 4.9298e-05 - val_mse: 4.9298e-05\n",
      "Epoch 31/50\n",
      "16/16 [==============================] - 0s 4ms/step - loss: 4.1799e-05 - mse: 4.1799e-05 - val_loss: 3.9621e-05 - val_mse: 3.9621e-05\n",
      "Epoch 32/50\n",
      "16/16 [==============================] - 0s 2ms/step - loss: 3.3611e-05 - mse: 3.3611e-05 - val_loss: 3.1868e-05 - val_mse: 3.1868e-05\n",
      "Epoch 33/50\n",
      "16/16 [==============================] - 0s 3ms/step - loss: 2.7028e-05 - mse: 2.7028e-05 - val_loss: 2.5646e-05 - val_mse: 2.5646e-05\n",
      "Epoch 34/50\n",
      "16/16 [==============================] - 0s 2ms/step - loss: 2.1757e-05 - mse: 2.1757e-05 - val_loss: 2.0621e-05 - val_mse: 2.0621e-05\n",
      "Epoch 35/50\n",
      "16/16 [==============================] - 0s 2ms/step - loss: 1.7497e-05 - mse: 1.7497e-05 - val_loss: 1.6556e-05 - val_mse: 1.6556e-05\n",
      "Epoch 36/50\n",
      "16/16 [==============================] - 0s 2ms/step - loss: 1.4051e-05 - mse: 1.4051e-05 - val_loss: 1.3310e-05 - val_mse: 1.3310e-05\n",
      "Epoch 37/50\n",
      "16/16 [==============================] - 0s 2ms/step - loss: 1.1296e-05 - mse: 1.1296e-05 - val_loss: 1.0690e-05 - val_mse: 1.0690e-05\n",
      "Epoch 38/50\n",
      "16/16 [==============================] - 0s 3ms/step - loss: 9.0743e-06 - mse: 9.0743e-06 - val_loss: 8.5859e-06 - val_mse: 8.5859e-06\n",
      "Epoch 39/50\n",
      "16/16 [==============================] - 0s 3ms/step - loss: 7.2867e-06 - mse: 7.2867e-06 - val_loss: 6.8960e-06 - val_mse: 6.8960e-06\n",
      "Epoch 40/50\n",
      "16/16 [==============================] - 0s 2ms/step - loss: 5.8505e-06 - mse: 5.8505e-06 - val_loss: 5.5442e-06 - val_mse: 5.5442e-06\n",
      "Epoch 41/50\n",
      "16/16 [==============================] - 0s 2ms/step - loss: 4.7061e-06 - mse: 4.7061e-06 - val_loss: 4.4674e-06 - val_mse: 4.4674e-06\n",
      "Epoch 42/50\n",
      "16/16 [==============================] - 0s 4ms/step - loss: 3.7898e-06 - mse: 3.7898e-06 - val_loss: 3.5884e-06 - val_mse: 3.5884e-06\n",
      "Epoch 43/50\n",
      "16/16 [==============================] - 0s 2ms/step - loss: 3.0447e-06 - mse: 3.0447e-06 - val_loss: 2.8840e-06 - val_mse: 2.8840e-06\n",
      "Epoch 44/50\n",
      "16/16 [==============================] - 0s 2ms/step - loss: 2.4479e-06 - mse: 2.4479e-06 - val_loss: 2.3165e-06 - val_mse: 2.3165e-06\n",
      "Epoch 45/50\n",
      "16/16 [==============================] - 0s 2ms/step - loss: 1.9659e-06 - mse: 1.9659e-06 - val_loss: 1.8630e-06 - val_mse: 1.8630e-06\n",
      "Epoch 46/50\n",
      "16/16 [==============================] - 0s 3ms/step - loss: 1.5809e-06 - mse: 1.5809e-06 - val_loss: 1.4950e-06 - val_mse: 1.4950e-06\n",
      "Epoch 47/50\n",
      "16/16 [==============================] - 0s 2ms/step - loss: 1.2689e-06 - mse: 1.2689e-06 - val_loss: 1.1997e-06 - val_mse: 1.1997e-06\n",
      "Epoch 48/50\n",
      "16/16 [==============================] - 0s 2ms/step - loss: 1.0182e-06 - mse: 1.0182e-06 - val_loss: 9.6298e-07 - val_mse: 9.6298e-07\n",
      "Epoch 49/50\n",
      "16/16 [==============================] - 0s 4ms/step - loss: 8.1791e-07 - mse: 8.1791e-07 - val_loss: 7.7481e-07 - val_mse: 7.7481e-07\n",
      "Epoch 50/50\n",
      "16/16 [==============================] - 0s 2ms/step - loss: 6.5764e-07 - mse: 6.5764e-07 - val_loss: 6.2225e-07 - val_mse: 6.2225e-07\n",
      "500 500\n"
     ]
    }
   ],
   "source": [
    "model = tf.keras.Sequential()\n",
    "model.add(Dense(1, input_shape=(1,)))\n",
    "\n",
    "# compile the model choosing optimizer, loss and metrics objects\n",
    "model.compile(optimizer='sgd', loss='mse', metrics=['mse'])\n",
    "# fit the model using training dataset\n",
    "# over 10 epochs of 32 batch size each\n",
    "# report training progress against validation data\n",
    "history = model.fit(x=x_train, y=y_train, \n",
    "          batch_size=32, epochs=50,\n",
    "          shuffle=True, # a good idea is to shuffle input before at each epoch\n",
    "          validation_data=(x_valid, y_valid))\n",
    "print(x_train.size, y_train.size)"
   ]
  },
  {
   "cell_type": "code",
   "execution_count": 12,
   "metadata": {
    "colab": {
     "base_uri": "https://localhost:8080/"
    },
    "executionInfo": {
     "elapsed": 438,
     "status": "ok",
     "timestamp": 1630417099518,
     "user": {
      "displayName": "Massimiliano Matteucci",
      "photoUrl": "",
      "userId": "10645043906402067426"
     },
     "user_tz": -120
    },
    "id": "wAaPCmf5r52v",
    "outputId": "fb772304-ffdb-4c95-d50d-02d318bbf084"
   },
   "outputs": [
    {
     "name": "stdout",
     "output_type": "stream",
     "text": [
      "4/4 [==============================] - 0s 3ms/step - loss: 6.2225e-07 - mse: 6.2225e-07\n",
      "\n",
      "Test loss: 6.222468869054865e-07\n",
      "Test accuracy: 6.222468869054865e-07\n"
     ]
    }
   ],
   "source": [
    "# evaluate model\n",
    "score = model.evaluate(x_valid, y_valid, batch_size=32, verbose=1)\n",
    "\n",
    "# print performance\n",
    "print()\n",
    "print('Test loss:', score[0])\n",
    "print('Test accuracy:', score[1])"
   ]
  },
  {
   "cell_type": "code",
   "execution_count": 13,
   "metadata": {
    "colab": {
     "base_uri": "https://localhost:8080/"
    },
    "executionInfo": {
     "elapsed": 278,
     "status": "ok",
     "timestamp": 1630417103010,
     "user": {
      "displayName": "Massimiliano Matteucci",
      "photoUrl": "",
      "userId": "10645043906402067426"
     },
     "user_tz": -120
    },
    "id": "yY3dVwA_r_mt",
    "outputId": "3c56e4e1-d5cf-4094-ccbb-75bce6c7f8f2"
   },
   "outputs": [
    {
     "name": "stdout",
     "output_type": "stream",
     "text": [
      "4/4 [==============================] - 0s 3ms/step - loss: 6.2225e-07 - mse: 6.2225e-07\n",
      "\n",
      "Test loss: 6.222468869054865e-07\n",
      "Test accuracy: 6.222468869054865e-07\n"
     ]
    }
   ],
   "source": [
    "# evaluate model with the exact curve\n",
    "score = model.evaluate(x_valid, y_target, batch_size=32, verbose=1)\n",
    "\n",
    "# print performance\n",
    "print()\n",
    "print('Test loss:', score[0])\n",
    "print('Test accuracy:', score[1])"
   ]
  },
  {
   "cell_type": "code",
   "execution_count": 14,
   "metadata": {
    "colab": {
     "base_uri": "https://localhost:8080/"
    },
    "executionInfo": {
     "elapsed": 446,
     "status": "ok",
     "timestamp": 1630417107952,
     "user": {
      "displayName": "Massimiliano Matteucci",
      "photoUrl": "",
      "userId": "10645043906402067426"
     },
     "user_tz": -120
    },
    "id": "U-qbI92qsn26",
    "outputId": "f920ebf4-f657-41c1-d159-e5c930ccacfb"
   },
   "outputs": [
    {
     "data": {
      "text/plain": [
       "[array([[1.9986911]], dtype=float32), array([0.9999874], dtype=float32)]"
      ]
     },
     "execution_count": 14,
     "metadata": {},
     "output_type": "execute_result"
    }
   ],
   "source": [
    "model.get_weights()"
   ]
  },
  {
   "cell_type": "code",
   "execution_count": 15,
   "metadata": {
    "colab": {
     "base_uri": "https://localhost:8080/",
     "height": 295
    },
    "executionInfo": {
     "elapsed": 427,
     "status": "ok",
     "timestamp": 1630417112472,
     "user": {
      "displayName": "Massimiliano Matteucci",
      "photoUrl": "",
      "userId": "10645043906402067426"
     },
     "user_tz": -120
    },
    "id": "af9-uDuhsGne",
    "outputId": "98221b1e-9133-4fec-eec3-376a136b93d5"
   },
   "outputs": [
    {
     "data": {
      "image/png": "[encoded data removed]",
      "text/plain": [
       "<Figure size 432x288 with 1 Axes>"
      ]
     },
     "metadata": {
      "needs_background": "light"
     },
     "output_type": "display_data"
    }
   ],
   "source": [
    "\n",
    "# look into training history\n",
    "# Plot training & validation loss values\n",
    "plt.plot(history.history['loss'])\n",
    "plt.plot(history.history['val_loss'])\n",
    "plt.title('Model loss')\n",
    "plt.ylabel('Loss')\n",
    "plt.xlabel('Epoch')\n",
    "plt.legend(['Train', 'Test'], loc='best')\n",
    "plt.show()"
   ]
  },
  {
   "cell_type": "markdown",
   "metadata": {
    "id": "ZMIJmh4AtFww"
   },
   "source": [
    "Aumentando il numero di epoche dal grafico della loss non osserviamo cambiamenti significativi, infatti dalle 20 epoche in poi il grafico rimane costante."
   ]
  },
  {
   "cell_type": "markdown",
   "metadata": {
    "id": "76ghUOlRuW6b"
   },
   "source": [
    "Aumento il numero dei dati di training"
   ]
  },
  {
   "cell_type": "code",
   "execution_count": 16,
   "metadata": {
    "colab": {
     "base_uri": "https://localhost:8080/"
    },
    "executionInfo": {
     "elapsed": 3049,
     "status": "ok",
     "timestamp": 1630417274324,
     "user": {
      "displayName": "Massimiliano Matteucci",
      "photoUrl": "",
      "userId": "10645043906402067426"
     },
     "user_tz": -120
    },
    "id": "BO1eWCoNtsyU",
    "outputId": "4075bb23-8241-46e9-9e83-ae21769afb65"
   },
   "outputs": [
    {
     "name": "stdout",
     "output_type": "stream",
     "text": [
      "Epoch 1/30\n",
      "47/47 [==============================] - 0s 4ms/step - loss: 1.0061 - mse: 1.0061 - val_loss: 0.5552 - val_mse: 0.5552\n",
      "Epoch 2/30\n",
      "47/47 [==============================] - 0s 1ms/step - loss: 0.3479 - mse: 0.3479 - val_loss: 0.2337 - val_mse: 0.2337\n",
      "Epoch 3/30\n",
      "47/47 [==============================] - 0s 1ms/step - loss: 0.1567 - mse: 0.1567 - val_loss: 0.1147 - val_mse: 0.1147\n",
      "Epoch 4/30\n",
      "47/47 [==============================] - 0s 1ms/step - loss: 0.0788 - mse: 0.0788 - val_loss: 0.0594 - val_mse: 0.0594\n",
      "Epoch 5/30\n",
      "47/47 [==============================] - 0s 1ms/step - loss: 0.0411 - mse: 0.0411 - val_loss: 0.0312 - val_mse: 0.0312\n",
      "Epoch 6/30\n",
      "47/47 [==============================] - 0s 1ms/step - loss: 0.0216 - mse: 0.0216 - val_loss: 0.0165 - val_mse: 0.0165\n",
      "Epoch 7/30\n",
      "47/47 [==============================] - 0s 1ms/step - loss: 0.0114 - mse: 0.0114 - val_loss: 0.0087 - val_mse: 0.0087\n",
      "Epoch 8/30\n",
      "47/47 [==============================] - 0s 1ms/step - loss: 0.0060 - mse: 0.0060 - val_loss: 0.0046 - val_mse: 0.0046\n",
      "Epoch 9/30\n",
      "47/47 [==============================] - 0s 1ms/step - loss: 0.0032 - mse: 0.0032 - val_loss: 0.0024 - val_mse: 0.0024\n",
      "Epoch 10/30\n",
      "47/47 [==============================] - 0s 2ms/step - loss: 0.0017 - mse: 0.0017 - val_loss: 0.0013 - val_mse: 0.0013\n",
      "Epoch 11/30\n",
      "47/47 [==============================] - 0s 2ms/step - loss: 8.9468e-04 - mse: 8.9468e-04 - val_loss: 6.8157e-04 - val_mse: 6.8157e-04\n",
      "Epoch 12/30\n",
      "47/47 [==============================] - 0s 2ms/step - loss: 4.7301e-04 - mse: 4.7301e-04 - val_loss: 3.6057e-04 - val_mse: 3.6057e-04\n",
      "Epoch 13/30\n",
      "47/47 [==============================] - 0s 1ms/step - loss: 2.5018e-04 - mse: 2.5018e-04 - val_loss: 1.9074e-04 - val_mse: 1.9074e-04\n",
      "Epoch 14/30\n",
      "47/47 [==============================] - 0s 2ms/step - loss: 1.3237e-04 - mse: 1.3237e-04 - val_loss: 1.0088e-04 - val_mse: 1.0088e-04\n",
      "Epoch 15/30\n",
      "47/47 [==============================] - 0s 1ms/step - loss: 7.0016e-05 - mse: 7.0016e-05 - val_loss: 5.3379e-05 - val_mse: 5.3379e-05\n",
      "Epoch 16/30\n",
      "47/47 [==============================] - 0s 1ms/step - loss: 3.7042e-05 - mse: 3.7042e-05 - val_loss: 2.8248e-05 - val_mse: 2.8248e-05\n",
      "Epoch 17/30\n",
      "47/47 [==============================] - 0s 1ms/step - loss: 1.9605e-05 - mse: 1.9605e-05 - val_loss: 1.4941e-05 - val_mse: 1.4941e-05\n",
      "Epoch 18/30\n",
      "47/47 [==============================] - 0s 1ms/step - loss: 1.0368e-05 - mse: 1.0368e-05 - val_loss: 7.9021e-06 - val_mse: 7.9021e-06\n",
      "Epoch 19/30\n",
      "47/47 [==============================] - 0s 1ms/step - loss: 5.4837e-06 - mse: 5.4837e-06 - val_loss: 4.1811e-06 - val_mse: 4.1811e-06\n",
      "Epoch 20/30\n",
      "47/47 [==============================] - 0s 2ms/step - loss: 2.9013e-06 - mse: 2.9013e-06 - val_loss: 2.2118e-06 - val_mse: 2.2118e-06\n",
      "Epoch 21/30\n",
      "47/47 [==============================] - 0s 1ms/step - loss: 1.5351e-06 - mse: 1.5351e-06 - val_loss: 1.1703e-06 - val_mse: 1.1703e-06\n",
      "Epoch 22/30\n",
      "47/47 [==============================] - 0s 1ms/step - loss: 8.1233e-07 - mse: 8.1233e-07 - val_loss: 6.1971e-07 - val_mse: 6.1971e-07\n",
      "Epoch 23/30\n",
      "47/47 [==============================] - 0s 1ms/step - loss: 4.3008e-07 - mse: 4.3008e-07 - val_loss: 3.2794e-07 - val_mse: 3.2794e-07\n",
      "Epoch 24/30\n",
      "47/47 [==============================] - 0s 1ms/step - loss: 2.2754e-07 - mse: 2.2754e-07 - val_loss: 1.7336e-07 - val_mse: 1.7336e-07\n",
      "Epoch 25/30\n",
      "47/47 [==============================] - 0s 2ms/step - loss: 1.2041e-07 - mse: 1.2041e-07 - val_loss: 9.1922e-08 - val_mse: 9.1922e-08\n",
      "Epoch 26/30\n",
      "47/47 [==============================] - 0s 1ms/step - loss: 6.3738e-08 - mse: 6.3738e-08 - val_loss: 4.8547e-08 - val_mse: 4.8547e-08\n",
      "Epoch 27/30\n",
      "47/47 [==============================] - 0s 2ms/step - loss: 3.3698e-08 - mse: 3.3698e-08 - val_loss: 2.5700e-08 - val_mse: 2.5700e-08\n",
      "Epoch 28/30\n",
      "47/47 [==============================] - 0s 2ms/step - loss: 1.7835e-08 - mse: 1.7835e-08 - val_loss: 1.3613e-08 - val_mse: 1.3613e-08\n",
      "Epoch 29/30\n",
      "47/47 [==============================] - 0s 1ms/step - loss: 9.4659e-09 - mse: 9.4659e-09 - val_loss: 7.2138e-09 - val_mse: 7.2138e-09\n",
      "Epoch 30/30\n",
      "47/47 [==============================] - 0s 1ms/step - loss: 5.0209e-09 - mse: 5.0209e-09 - val_loss: 3.8299e-09 - val_mse: 3.8299e-09\n",
      "1500 1500\n"
     ]
    }
   ],
   "source": [
    "model = tf.keras.Sequential()\n",
    "model.add(Dense(1, input_shape=(1,)))\n",
    "\n",
    "# compile the model choosing optimizer, loss and metrics objects\n",
    "model.compile(optimizer='sgd', loss='mse', metrics=['mse'])\n",
    "x_train = np.random.uniform(-1, 1, 1500)\n",
    "y_train = np.random.normal(m * x_train + b, sigma)\n",
    "# fit the model using training dataset\n",
    "# over 10 epochs of 32 batch size each\n",
    "# report training progress against validation data\n",
    "history = model.fit(x=x_train, y=y_train, \n",
    "          batch_size=32, epochs=30,\n",
    "          shuffle=True, # a good idea is to shuffle input before at each epoch\n",
    "          validation_data=(x_valid, y_valid))\n",
    "print(x_train.size, y_train.size)"
   ]
  },
  {
   "cell_type": "code",
   "execution_count": 17,
   "metadata": {
    "colab": {
     "base_uri": "https://localhost:8080/"
    },
    "executionInfo": {
     "elapsed": 262,
     "status": "ok",
     "timestamp": 1630417281581,
     "user": {
      "displayName": "Massimiliano Matteucci",
      "photoUrl": "",
      "userId": "10645043906402067426"
     },
     "user_tz": -120
    },
    "id": "ettS56Q4usIv",
    "outputId": "4bd1d898-3023-46cc-ec90-c74d5cfd99a9"
   },
   "outputs": [
    {
     "data": {
      "text/plain": [
       "[array([[1.9998972]], dtype=float32), array([1.000002], dtype=float32)]"
      ]
     },
     "execution_count": 17,
     "metadata": {},
     "output_type": "execute_result"
    }
   ],
   "source": [
    "\n",
    "model.get_weights()"
   ]
  },
  {
   "cell_type": "code",
   "execution_count": 18,
   "metadata": {
    "colab": {
     "base_uri": "https://localhost:8080/"
    },
    "executionInfo": {
     "elapsed": 266,
     "status": "ok",
     "timestamp": 1630417285029,
     "user": {
      "displayName": "Massimiliano Matteucci",
      "photoUrl": "",
      "userId": "10645043906402067426"
     },
     "user_tz": -120
    },
    "id": "uUeDnSofu776",
    "outputId": "0b91564e-c052-4750-d6f6-492d053fbbf6"
   },
   "outputs": [
    {
     "name": "stdout",
     "output_type": "stream",
     "text": [
      "4/4 [==============================] - 0s 3ms/step - loss: 3.8299e-09 - mse: 3.8299e-09\n",
      "\n",
      "Test loss: 3.829895955931306e-09\n",
      "Test accuracy: 3.829895955931306e-09\n"
     ]
    }
   ],
   "source": [
    "# evaluate model\n",
    "score = model.evaluate(x_valid, y_valid, batch_size=32, verbose=1)\n",
    "\n",
    "# print performance\n",
    "print()\n",
    "print('Test loss:', score[0])\n",
    "print('Test accuracy:', score[1])"
   ]
  },
  {
   "cell_type": "code",
   "execution_count": 19,
   "metadata": {
    "colab": {
     "base_uri": "https://localhost:8080/",
     "height": 295
    },
    "executionInfo": {
     "elapsed": 317,
     "status": "ok",
     "timestamp": 1630417288667,
     "user": {
      "displayName": "Massimiliano Matteucci",
      "photoUrl": "",
      "userId": "10645043906402067426"
     },
     "user_tz": -120
    },
    "id": "bjgC0SuOvF2q",
    "outputId": "f46dd9cc-ed86-470a-abba-5e6df1d0028b"
   },
   "outputs": [
    {
     "data": {
      "image/png": "[encoded data removed]",
      "text/plain": [
       "<Figure size 432x288 with 1 Axes>"
      ]
     },
     "metadata": {
      "needs_background": "light"
     },
     "output_type": "display_data"
    }
   ],
   "source": [
    "\n",
    "# look into training history\n",
    "# Plot training & validation loss values\n",
    "plt.plot(history.history['loss'])\n",
    "plt.plot(history.history['val_loss'])\n",
    "plt.title('Model loss')\n",
    "plt.ylabel('Loss')\n",
    "plt.xlabel('Epoch')\n",
    "plt.legend(['Train', 'Test'], loc='best')\n",
    "plt.show()"
   ]
  },
  {
   "cell_type": "markdown",
   "metadata": {
    "id": "V2S7IsMyvPAV"
   },
   "source": [
    "Aumentando il numero di valori di training osserviamo come le loss del train e del test diminuiscono più velocemente nel corso delle epoche, con un miglioramento della precisione del test e delle variabili della retta."
   ]
  },
  {
   "cell_type": "markdown",
   "metadata": {
    "id": "kjYGw6F3vuJU"
   },
   "source": [
    "Adesso introduciamo il rumore nelle misure"
   ]
  },
  {
   "cell_type": "code",
   "execution_count": 20,
   "metadata": {
    "executionInfo": {
     "elapsed": 306,
     "status": "ok",
     "timestamp": 1630417347026,
     "user": {
      "displayName": "Massimiliano Matteucci",
      "photoUrl": "",
      "userId": "10645043906402067426"
     },
     "user_tz": -120
    },
    "id": "AidbosSawOU6"
   },
   "outputs": [],
   "source": [
    "model = tf.keras.Sequential()\n",
    "model.add(Dense(1, input_shape=(1,)))\n",
    "\n",
    "# compile the model choosing optimizer, loss and metrics objects\n",
    "model.compile(optimizer='sgd', loss='mse', metrics=['mse'])\n",
    "# generate training inputs\n",
    "x_train = np.random.uniform(-1, 1, 500)\n",
    "\n",
    "sigma = 0.5 # noise standard deviation, for the moment it is absent\n",
    "y_train = np.random.normal(m * x_train + b, sigma) # actual measures from which we want to guess regression parameters\n",
    "y_valid = np.random.normal(m * x_valid + b, sigma)"
   ]
  },
  {
   "cell_type": "code",
   "execution_count": 21,
   "metadata": {
    "colab": {
     "base_uri": "https://localhost:8080/",
     "height": 265
    },
    "executionInfo": {
     "elapsed": 360,
     "status": "ok",
     "timestamp": 1630417349676,
     "user": {
      "displayName": "Massimiliano Matteucci",
      "photoUrl": "",
      "userId": "10645043906402067426"
     },
     "user_tz": -120
    },
    "id": "NSdSbASOw7g5",
    "outputId": "66c3d640-b029-4d09-e5bd-11478c1d60c8"
   },
   "outputs": [
    {
     "data": {
      "image/png": "[encoded data removed]",
      "text/plain": [
       "<Figure size 432x288 with 1 Axes>"
      ]
     },
     "metadata": {
      "needs_background": "light"
     },
     "output_type": "display_data"
    }
   ],
   "source": [
    "plt.plot(x_valid, y_target, label='target')\n",
    "plt.scatter(x_valid, y_valid, color='r', label='validation data')\n",
    "plt.legend()\n",
    "plt.grid(True)\n",
    "plt.show()"
   ]
  },
  {
   "cell_type": "code",
   "execution_count": 22,
   "metadata": {
    "colab": {
     "base_uri": "https://localhost:8080/"
    },
    "executionInfo": {
     "elapsed": 3299,
     "status": "ok",
     "timestamp": 1630417357311,
     "user": {
      "displayName": "Massimiliano Matteucci",
      "photoUrl": "",
      "userId": "10645043906402067426"
     },
     "user_tz": -120
    },
    "id": "oKYLZLwzxSYo",
    "outputId": "08ba0aeb-3c6e-47f6-a7bb-f5a68643a442"
   },
   "outputs": [
    {
     "name": "stdout",
     "output_type": "stream",
     "text": [
      "Epoch 1/30\n",
      "16/16 [==============================] - 0s 10ms/step - loss: 3.7845 - mse: 3.7845 - val_loss: 3.6756 - val_mse: 3.6756\n",
      "Epoch 2/30\n",
      "16/16 [==============================] - 0s 2ms/step - loss: 2.9038 - mse: 2.9038 - val_loss: 2.8753 - val_mse: 2.8753\n",
      "Epoch 3/30\n",
      "16/16 [==============================] - 0s 2ms/step - loss: 2.2880 - mse: 2.2880 - val_loss: 2.3073 - val_mse: 2.3073\n",
      "Epoch 4/30\n",
      "16/16 [==============================] - 0s 2ms/step - loss: 1.8474 - mse: 1.8474 - val_loss: 1.8802 - val_mse: 1.8802\n",
      "Epoch 5/30\n",
      "16/16 [==============================] - 0s 2ms/step - loss: 1.5132 - mse: 1.5132 - val_loss: 1.5578 - val_mse: 1.5578\n",
      "Epoch 6/30\n",
      "16/16 [==============================] - 0s 2ms/step - loss: 1.2600 - mse: 1.2600 - val_loss: 1.3087 - val_mse: 1.3087\n",
      "Epoch 7/30\n",
      "16/16 [==============================] - 0s 2ms/step - loss: 1.0631 - mse: 1.0631 - val_loss: 1.1106 - val_mse: 1.1106\n",
      "Epoch 8/30\n",
      "16/16 [==============================] - 0s 2ms/step - loss: 0.9055 - mse: 0.9055 - val_loss: 0.9510 - val_mse: 0.9510\n",
      "Epoch 9/30\n",
      "16/16 [==============================] - 0s 2ms/step - loss: 0.7783 - mse: 0.7783 - val_loss: 0.8231 - val_mse: 0.8231\n",
      "Epoch 10/30\n",
      "16/16 [==============================] - 0s 3ms/step - loss: 0.6765 - mse: 0.6765 - val_loss: 0.7206 - val_mse: 0.7206\n",
      "Epoch 11/30\n",
      "16/16 [==============================] - 0s 4ms/step - loss: 0.5945 - mse: 0.5945 - val_loss: 0.6377 - val_mse: 0.6377\n",
      "Epoch 12/30\n",
      "16/16 [==============================] - 0s 4ms/step - loss: 0.5286 - mse: 0.5286 - val_loss: 0.5701 - val_mse: 0.5701\n",
      "Epoch 13/30\n",
      "16/16 [==============================] - 0s 2ms/step - loss: 0.4741 - mse: 0.4741 - val_loss: 0.5156 - val_mse: 0.5156\n",
      "Epoch 14/30\n",
      "16/16 [==============================] - 0s 2ms/step - loss: 0.4305 - mse: 0.4305 - val_loss: 0.4710 - val_mse: 0.4710\n",
      "Epoch 15/30\n",
      "16/16 [==============================] - 0s 2ms/step - loss: 0.3946 - mse: 0.3946 - val_loss: 0.4348 - val_mse: 0.4348\n",
      "Epoch 16/30\n",
      "16/16 [==============================] - 0s 4ms/step - loss: 0.3656 - mse: 0.3656 - val_loss: 0.4055 - val_mse: 0.4055\n",
      "Epoch 17/30\n",
      "16/16 [==============================] - 0s 2ms/step - loss: 0.3422 - mse: 0.3422 - val_loss: 0.3814 - val_mse: 0.3814\n",
      "Epoch 18/30\n",
      "16/16 [==============================] - 0s 2ms/step - loss: 0.3229 - mse: 0.3229 - val_loss: 0.3622 - val_mse: 0.3622\n",
      "Epoch 19/30\n",
      "16/16 [==============================] - 0s 4ms/step - loss: 0.3073 - mse: 0.3073 - val_loss: 0.3461 - val_mse: 0.3461\n",
      "Epoch 20/30\n",
      "16/16 [==============================] - 0s 2ms/step - loss: 0.2944 - mse: 0.2944 - val_loss: 0.3332 - val_mse: 0.3332\n",
      "Epoch 21/30\n",
      "16/16 [==============================] - 0s 2ms/step - loss: 0.2841 - mse: 0.2841 - val_loss: 0.3229 - val_mse: 0.3229\n",
      "Epoch 22/30\n",
      "16/16 [==============================] - 0s 3ms/step - loss: 0.2758 - mse: 0.2758 - val_loss: 0.3142 - val_mse: 0.3142\n",
      "Epoch 23/30\n",
      "16/16 [==============================] - 0s 2ms/step - loss: 0.2689 - mse: 0.2689 - val_loss: 0.3074 - val_mse: 0.3074\n",
      "Epoch 24/30\n",
      "16/16 [==============================] - 0s 3ms/step - loss: 0.2634 - mse: 0.2634 - val_loss: 0.3018 - val_mse: 0.3018\n",
      "Epoch 25/30\n",
      "16/16 [==============================] - 0s 2ms/step - loss: 0.2588 - mse: 0.2588 - val_loss: 0.2972 - val_mse: 0.2972\n",
      "Epoch 26/30\n",
      "16/16 [==============================] - 0s 2ms/step - loss: 0.2552 - mse: 0.2552 - val_loss: 0.2936 - val_mse: 0.2936\n",
      "Epoch 27/30\n",
      "16/16 [==============================] - 0s 2ms/step - loss: 0.2523 - mse: 0.2523 - val_loss: 0.2905 - val_mse: 0.2905\n",
      "Epoch 28/30\n",
      "16/16 [==============================] - 0s 2ms/step - loss: 0.2497 - mse: 0.2497 - val_loss: 0.2880 - val_mse: 0.2880\n",
      "Epoch 29/30\n",
      "16/16 [==============================] - 0s 3ms/step - loss: 0.2478 - mse: 0.2478 - val_loss: 0.2860 - val_mse: 0.2860\n",
      "Epoch 30/30\n",
      "16/16 [==============================] - 0s 2ms/step - loss: 0.2462 - mse: 0.2462 - val_loss: 0.2844 - val_mse: 0.2844\n",
      "500 500\n"
     ]
    }
   ],
   "source": [
    "# fit the model using training dataset\n",
    "# over 10 epochs of 32 batch size each\n",
    "# report training progress against validation data\n",
    "history = model.fit(x=x_train, y=y_train, \n",
    "          batch_size=32, epochs=30,\n",
    "          shuffle=True, # a good idea is to shuffle input before at each epoch\n",
    "          validation_data=(x_valid, y_valid))\n",
    "print(x_train.size, y_train.size)"
   ]
  },
  {
   "cell_type": "code",
   "execution_count": 23,
   "metadata": {
    "colab": {
     "base_uri": "https://localhost:8080/"
    },
    "executionInfo": {
     "elapsed": 260,
     "status": "ok",
     "timestamp": 1630417362382,
     "user": {
      "displayName": "Massimiliano Matteucci",
      "photoUrl": "",
      "userId": "10645043906402067426"
     },
     "user_tz": -120
    },
    "id": "GGVLoISdzRUm",
    "outputId": "35bc0813-812d-4037-ffcd-35ae753010f3"
   },
   "outputs": [
    {
     "data": {
      "text/plain": [
       "[array([[1.8324175]], dtype=float32), array([1.0147583], dtype=float32)]"
      ]
     },
     "execution_count": 23,
     "metadata": {},
     "output_type": "execute_result"
    }
   ],
   "source": [
    "model.get_weights()"
   ]
  },
  {
   "cell_type": "code",
   "execution_count": 24,
   "metadata": {
    "colab": {
     "base_uri": "https://localhost:8080/"
    },
    "executionInfo": {
     "elapsed": 395,
     "status": "ok",
     "timestamp": 1630417365877,
     "user": {
      "displayName": "Massimiliano Matteucci",
      "photoUrl": "",
      "userId": "10645043906402067426"
     },
     "user_tz": -120
    },
    "id": "rNFcDmS4xgUl",
    "outputId": "98d08bca-cd2c-4835-8409-ea1032fe0bb9"
   },
   "outputs": [
    {
     "name": "stdout",
     "output_type": "stream",
     "text": [
      "4/4 [==============================] - 0s 2ms/step - loss: 0.2844 - mse: 0.2844\n",
      "\n",
      "Test loss: 0.2843763530254364\n",
      "Test accuracy: 0.2843763530254364\n"
     ]
    }
   ],
   "source": [
    "# evaluate model\n",
    "score = model.evaluate(x_valid, y_valid, batch_size=32, verbose=1)\n",
    "\n",
    "# print performance\n",
    "print()\n",
    "print('Test loss:', score[0])\n",
    "print('Test accuracy:', score[1])"
   ]
  },
  {
   "cell_type": "code",
   "execution_count": 25,
   "metadata": {
    "colab": {
     "base_uri": "https://localhost:8080/"
    },
    "executionInfo": {
     "elapsed": 22,
     "status": "ok",
     "timestamp": 1630417373163,
     "user": {
      "displayName": "Massimiliano Matteucci",
      "photoUrl": "",
      "userId": "10645043906402067426"
     },
     "user_tz": -120
    },
    "id": "BqeQCm_ZxumV",
    "outputId": "3111d5a8-486e-42bd-9e47-418fcb240a98"
   },
   "outputs": [
    {
     "name": "stdout",
     "output_type": "stream",
     "text": [
      "4/4 [==============================] - 0s 3ms/step - loss: 0.0103 - mse: 0.0103\n",
      "\n",
      "Test loss: 0.010346764698624611\n",
      "Test accuracy: 0.010346764698624611\n"
     ]
    }
   ],
   "source": [
    "# evaluate model with the exact curve\n",
    "score = model.evaluate(x_valid, y_target, batch_size=32, verbose=1)\n",
    "\n",
    "# print performance\n",
    "print()\n",
    "print('Test loss:', score[0])\n",
    "print('Test accuracy:', score[1])"
   ]
  },
  {
   "cell_type": "code",
   "execution_count": 26,
   "metadata": {
    "colab": {
     "base_uri": "https://localhost:8080/",
     "height": 295
    },
    "executionInfo": {
     "elapsed": 616,
     "status": "ok",
     "timestamp": 1630417378372,
     "user": {
      "displayName": "Massimiliano Matteucci",
      "photoUrl": "",
      "userId": "10645043906402067426"
     },
     "user_tz": -120
    },
    "id": "Q6kMG24kx6x_",
    "outputId": "bf482f9a-3c51-4c38-d20f-0f91a88fa8f3"
   },
   "outputs": [
    {
     "data": {
      "image/png": "[encoded data removed]",
      "text/plain": [
       "<Figure size 432x288 with 1 Axes>"
      ]
     },
     "metadata": {
      "needs_background": "light"
     },
     "output_type": "display_data"
    }
   ],
   "source": [
    "\n",
    "# look into training history\n",
    "# Plot training & validation loss values\n",
    "plt.plot(history.history['loss'])\n",
    "plt.plot(history.history['val_loss'])\n",
    "plt.title('Model loss')\n",
    "plt.ylabel('Loss')\n",
    "plt.xlabel('Epoch')\n",
    "plt.legend(['Train', 'Test'], loc='best')\n",
    "plt.show()"
   ]
  },
  {
   "cell_type": "code",
   "execution_count": 27,
   "metadata": {
    "colab": {
     "base_uri": "https://localhost:8080/",
     "height": 265
    },
    "executionInfo": {
     "elapsed": 532,
     "status": "ok",
     "timestamp": 1630417386181,
     "user": {
      "displayName": "Massimiliano Matteucci",
      "photoUrl": "",
      "userId": "10645043906402067426"
     },
     "user_tz": -120
    },
    "id": "0PgW_VtAzwQq",
    "outputId": "728c87ae-7345-4302-ae9c-283b2e1df718"
   },
   "outputs": [
    {
     "data": {
      "image/png": "[encoded data removed]",
      "text/plain": [
       "<Figure size 432x288 with 1 Axes>"
      ]
     },
     "metadata": {
      "needs_background": "light"
     },
     "output_type": "display_data"
    }
   ],
   "source": [
    "model.get_weights()\n",
    "x_predicted = np.random.uniform(-1, 1, 100)\n",
    "y_predicted = model.predict(x_predicted)\n",
    "plt.scatter(x_predicted, y_predicted,color='r')\n",
    "plt.plot(x_valid, y_target)\n",
    "plt.grid(True)\n",
    "plt.show()\n"
   ]
  },
  {
   "cell_type": "markdown",
   "metadata": {
    "id": "ypCaCHH4yBWN"
   },
   "source": [
    "Introducendo il rumore osserviamo un netto peggioramento della precisione del modello sulle singole misure mentre per la precisione sulla funzione target non si riscontrano grandi cambiamenti."
   ]
  },
  {
   "cell_type": "markdown",
   "metadata": {
    "id": "OQsJxnbLyxLH"
   },
   "source": [
    "Mantenendo lo stesso rumore andiamo adesso ad aumentare il numero di punti di  training"
   ]
  },
  {
   "cell_type": "code",
   "execution_count": 28,
   "metadata": {
    "executionInfo": {
     "elapsed": 9,
     "status": "ok",
     "timestamp": 1630417445618,
     "user": {
      "displayName": "Massimiliano Matteucci",
      "photoUrl": "",
      "userId": "10645043906402067426"
     },
     "user_tz": -120
    },
    "id": "rz1v9EL5zfe5"
   },
   "outputs": [],
   "source": [
    "model = tf.keras.Sequential()\n",
    "model.add(Dense(1, input_shape=(1,)))\n",
    "\n",
    "# compile the model choosing optimizer, loss and metrics objects\n",
    "model.compile(optimizer='sgd', loss='mse', metrics=['mse'])\n",
    "# generate training inputs\n",
    "x_train = np.random.uniform(-1, 1, 2500)\n",
    "\n",
    "sigma = 0.5 # noise standard deviation, for the moment it is absent\n",
    "y_train = np.random.normal(m * x_train + b, sigma) # actual measures from which we want to guess regression parameters\n",
    "y_valid = np.random.normal(m * x_valid + b, sigma)"
   ]
  },
  {
   "cell_type": "code",
   "execution_count": 29,
   "metadata": {
    "colab": {
     "base_uri": "https://localhost:8080/"
    },
    "executionInfo": {
     "elapsed": 5705,
     "status": "ok",
     "timestamp": 1630417453711,
     "user": {
      "displayName": "Massimiliano Matteucci",
      "photoUrl": "",
      "userId": "10645043906402067426"
     },
     "user_tz": -120
    },
    "id": "kIMbvQjhzfe9",
    "outputId": "316393f4-afca-46a8-fb4c-5459137d94be"
   },
   "outputs": [
    {
     "name": "stdout",
     "output_type": "stream",
     "text": [
      "Epoch 1/30\n",
      "79/79 [==============================] - 0s 3ms/step - loss: 1.4321 - mse: 1.4321 - val_loss: 0.8685 - val_mse: 0.8685\n",
      "Epoch 2/30\n",
      "79/79 [==============================] - 0s 1ms/step - loss: 0.5668 - mse: 0.5668 - val_loss: 0.4491 - val_mse: 0.4491\n",
      "Epoch 3/30\n",
      "79/79 [==============================] - 0s 1ms/step - loss: 0.3503 - mse: 0.3503 - val_loss: 0.3114 - val_mse: 0.3114\n",
      "Epoch 4/30\n",
      "79/79 [==============================] - 0s 1ms/step - loss: 0.2768 - mse: 0.2768 - val_loss: 0.2628 - val_mse: 0.2628\n",
      "Epoch 5/30\n",
      "79/79 [==============================] - 0s 1ms/step - loss: 0.2522 - mse: 0.2522 - val_loss: 0.2457 - val_mse: 0.2457\n",
      "Epoch 6/30\n",
      "79/79 [==============================] - 0s 2ms/step - loss: 0.2439 - mse: 0.2439 - val_loss: 0.2389 - val_mse: 0.2389\n",
      "Epoch 7/30\n",
      "79/79 [==============================] - 0s 1ms/step - loss: 0.2405 - mse: 0.2405 - val_loss: 0.2357 - val_mse: 0.2357\n",
      "Epoch 8/30\n",
      "79/79 [==============================] - 0s 1ms/step - loss: 0.2394 - mse: 0.2394 - val_loss: 0.2344 - val_mse: 0.2344\n",
      "Epoch 9/30\n",
      "79/79 [==============================] - 0s 1ms/step - loss: 0.2391 - mse: 0.2391 - val_loss: 0.2341 - val_mse: 0.2341\n",
      "Epoch 10/30\n",
      "79/79 [==============================] - 0s 1ms/step - loss: 0.2390 - mse: 0.2390 - val_loss: 0.2340 - val_mse: 0.2340\n",
      "Epoch 11/30\n",
      "79/79 [==============================] - 0s 1ms/step - loss: 0.2390 - mse: 0.2390 - val_loss: 0.2338 - val_mse: 0.2338\n",
      "Epoch 12/30\n",
      "79/79 [==============================] - 0s 2ms/step - loss: 0.2389 - mse: 0.2389 - val_loss: 0.2340 - val_mse: 0.2340\n",
      "Epoch 13/30\n",
      "79/79 [==============================] - 0s 1ms/step - loss: 0.2389 - mse: 0.2389 - val_loss: 0.2342 - val_mse: 0.2342\n",
      "Epoch 14/30\n",
      "79/79 [==============================] - 0s 1ms/step - loss: 0.2389 - mse: 0.2389 - val_loss: 0.2338 - val_mse: 0.2338\n",
      "Epoch 15/30\n",
      "79/79 [==============================] - 0s 1ms/step - loss: 0.2390 - mse: 0.2390 - val_loss: 0.2337 - val_mse: 0.2337\n",
      "Epoch 16/30\n",
      "79/79 [==============================] - 0s 1ms/step - loss: 0.2389 - mse: 0.2389 - val_loss: 0.2337 - val_mse: 0.2337\n",
      "Epoch 17/30\n",
      "79/79 [==============================] - 0s 2ms/step - loss: 0.2389 - mse: 0.2389 - val_loss: 0.2340 - val_mse: 0.2340\n",
      "Epoch 18/30\n",
      "79/79 [==============================] - 0s 1ms/step - loss: 0.2389 - mse: 0.2389 - val_loss: 0.2338 - val_mse: 0.2338\n",
      "Epoch 19/30\n",
      "79/79 [==============================] - 0s 1ms/step - loss: 0.2389 - mse: 0.2389 - val_loss: 0.2340 - val_mse: 0.2340\n",
      "Epoch 20/30\n",
      "79/79 [==============================] - 0s 1ms/step - loss: 0.2389 - mse: 0.2389 - val_loss: 0.2341 - val_mse: 0.2341\n",
      "Epoch 21/30\n",
      "79/79 [==============================] - 0s 1ms/step - loss: 0.2389 - mse: 0.2389 - val_loss: 0.2342 - val_mse: 0.2342\n",
      "Epoch 22/30\n",
      "79/79 [==============================] - 0s 1ms/step - loss: 0.2389 - mse: 0.2389 - val_loss: 0.2339 - val_mse: 0.2339\n",
      "Epoch 23/30\n",
      "79/79 [==============================] - 0s 1ms/step - loss: 0.2389 - mse: 0.2389 - val_loss: 0.2343 - val_mse: 0.2343\n",
      "Epoch 24/30\n",
      "79/79 [==============================] - 0s 1ms/step - loss: 0.2389 - mse: 0.2389 - val_loss: 0.2341 - val_mse: 0.2341\n",
      "Epoch 25/30\n",
      "79/79 [==============================] - 0s 1ms/step - loss: 0.2389 - mse: 0.2389 - val_loss: 0.2339 - val_mse: 0.2339\n",
      "Epoch 26/30\n",
      "79/79 [==============================] - 0s 1ms/step - loss: 0.2389 - mse: 0.2389 - val_loss: 0.2338 - val_mse: 0.2338\n",
      "Epoch 27/30\n",
      "79/79 [==============================] - 0s 1ms/step - loss: 0.2390 - mse: 0.2390 - val_loss: 0.2340 - val_mse: 0.2340\n",
      "Epoch 28/30\n",
      "79/79 [==============================] - 0s 1ms/step - loss: 0.2389 - mse: 0.2389 - val_loss: 0.2339 - val_mse: 0.2339\n",
      "Epoch 29/30\n",
      "79/79 [==============================] - 0s 2ms/step - loss: 0.2389 - mse: 0.2389 - val_loss: 0.2340 - val_mse: 0.2340\n",
      "Epoch 30/30\n",
      "79/79 [==============================] - 0s 1ms/step - loss: 0.2389 - mse: 0.2389 - val_loss: 0.2341 - val_mse: 0.2341\n",
      "2500 2500\n"
     ]
    }
   ],
   "source": [
    "# fit the model using training dataset\n",
    "# over 10 epochs of 32 batch size each\n",
    "# report training progress against validation data\n",
    "history = model.fit(x=x_train, y=y_train, \n",
    "          batch_size=32, epochs=30,\n",
    "          shuffle=True, # a good idea is to shuffle input before at each epoch\n",
    "          validation_data=(x_valid, y_valid))\n",
    "print(x_train.size, y_train.size)"
   ]
  },
  {
   "cell_type": "code",
   "execution_count": 30,
   "metadata": {
    "colab": {
     "base_uri": "https://localhost:8080/"
    },
    "executionInfo": {
     "elapsed": 275,
     "status": "ok",
     "timestamp": 1630417458489,
     "user": {
      "displayName": "Massimiliano Matteucci",
      "photoUrl": "",
      "userId": "10645043906402067426"
     },
     "user_tz": -120
    },
    "id": "o9kwycpezfe_",
    "outputId": "17ad1494-b650-4771-969b-a1a9ffe8d083"
   },
   "outputs": [
    {
     "data": {
      "text/plain": [
       "[array([[2.0030966]], dtype=float32), array([0.97214735], dtype=float32)]"
      ]
     },
     "execution_count": 30,
     "metadata": {},
     "output_type": "execute_result"
    }
   ],
   "source": [
    "model.get_weights()"
   ]
  },
  {
   "cell_type": "code",
   "execution_count": 31,
   "metadata": {
    "colab": {
     "base_uri": "https://localhost:8080/"
    },
    "executionInfo": {
     "elapsed": 289,
     "status": "ok",
     "timestamp": 1630417462300,
     "user": {
      "displayName": "Massimiliano Matteucci",
      "photoUrl": "",
      "userId": "10645043906402067426"
     },
     "user_tz": -120
    },
    "id": "ZF4HlF1ZzffC",
    "outputId": "54ae658a-3f38-403a-a7fc-6cdff499e641"
   },
   "outputs": [
    {
     "name": "stdout",
     "output_type": "stream",
     "text": [
      "4/4 [==============================] - 0s 3ms/step - loss: 0.2341 - mse: 0.2341\n",
      "\n",
      "Test loss: 0.23414750397205353\n",
      "Test accuracy: 0.23414750397205353\n"
     ]
    }
   ],
   "source": [
    "# evaluate model\n",
    "score = model.evaluate(x_valid, y_valid, batch_size=32, verbose=1)\n",
    "\n",
    "# print performance\n",
    "print()\n",
    "print('Test loss:', score[0])\n",
    "print('Test accuracy:', score[1])"
   ]
  },
  {
   "cell_type": "code",
   "execution_count": 32,
   "metadata": {
    "colab": {
     "base_uri": "https://localhost:8080/"
    },
    "executionInfo": {
     "elapsed": 282,
     "status": "ok",
     "timestamp": 1630417466236,
     "user": {
      "displayName": "Massimiliano Matteucci",
      "photoUrl": "",
      "userId": "10645043906402067426"
     },
     "user_tz": -120
    },
    "id": "9134hDnmzffD",
    "outputId": "e64e7136-c548-4f7c-e6f2-626ab08d27d8"
   },
   "outputs": [
    {
     "name": "stdout",
     "output_type": "stream",
     "text": [
      "4/4 [==============================] - 0s 2ms/step - loss: 7.7710e-04 - mse: 7.7710e-04\n",
      "\n",
      "Test loss: 0.0007771008531562984\n",
      "Test accuracy: 0.0007771008531562984\n"
     ]
    }
   ],
   "source": [
    "# evaluate model with the exact curve\n",
    "score = model.evaluate(x_valid, y_target, batch_size=32, verbose=1)\n",
    "\n",
    "# print performance\n",
    "print()\n",
    "print('Test loss:', score[0])\n",
    "print('Test accuracy:', score[1])"
   ]
  },
  {
   "cell_type": "code",
   "execution_count": 33,
   "metadata": {
    "colab": {
     "base_uri": "https://localhost:8080/",
     "height": 295
    },
    "executionInfo": {
     "elapsed": 360,
     "status": "ok",
     "timestamp": 1630417470252,
     "user": {
      "displayName": "Massimiliano Matteucci",
      "photoUrl": "",
      "userId": "10645043906402067426"
     },
     "user_tz": -120
    },
    "id": "nGjmcUlfzffE",
    "outputId": "f4f1900c-2c8a-4f59-b7c4-9f72ee8e40b6"
   },
   "outputs": [
    {
     "data": {
      "image/png": "[encoded data removed]",
      "text/plain": [
       "<Figure size 432x288 with 1 Axes>"
      ]
     },
     "metadata": {
      "needs_background": "light"
     },
     "output_type": "display_data"
    }
   ],
   "source": [
    "\n",
    "# look into training history\n",
    "# Plot training & validation loss values\n",
    "plt.plot(history.history['loss'])\n",
    "plt.plot(history.history['val_loss'])\n",
    "plt.title('Model loss')\n",
    "plt.ylabel('Loss')\n",
    "plt.xlabel('Epoch')\n",
    "plt.legend(['Train', 'Test'], loc='best')\n",
    "plt.show()"
   ]
  },
  {
   "cell_type": "code",
   "execution_count": 34,
   "metadata": {
    "colab": {
     "base_uri": "https://localhost:8080/",
     "height": 265
    },
    "executionInfo": {
     "elapsed": 830,
     "status": "ok",
     "timestamp": 1630417533698,
     "user": {
      "displayName": "Massimiliano Matteucci",
      "photoUrl": "",
      "userId": "10645043906402067426"
     },
     "user_tz": -120
    },
    "id": "h0d2Xk1v8NmC",
    "outputId": "ad297f60-5538-4397-be07-1ee0791ef793"
   },
   "outputs": [
    {
     "data": {
      "image/png": "[encoded data removed]",
      "text/plain": [
       "<Figure size 432x288 with 1 Axes>"
      ]
     },
     "metadata": {
      "needs_background": "light"
     },
     "output_type": "display_data"
    }
   ],
   "source": [
    "model.get_weights()\n",
    "x_predicted = np.random.uniform(-1, 1, 100)\n",
    "y_predicted = model.predict(x_predicted)\n",
    "plt.scatter(x_predicted, y_predicted,color='r')\n",
    "plt.plot(x_valid, y_target)\n",
    "plt.grid(True)\n",
    "plt.show()"
   ]
  },
  {
   "cell_type": "markdown",
   "metadata": {
    "id": "zFSAgV2W5OKD"
   },
   "source": [
    "Nonostante l'aumentare di punti di training osserviamo come il la rete costituita da un solo neurone non riesce ad adattarsi bene al rumore difatti le loss sono molto maggiori rispetto ai casi senza."
   ]
  },
  {
   "cell_type": "markdown",
   "metadata": {
    "id": "fPiS-Ote0t4M"
   },
   "source": [
    "## <span style=\"color:green\"> Esercizio 2 </span>\n",
    "\n",
    "Try to extend the model to obtain a reasonable fit of the following polynomial of order 3:\n",
    "\n",
    "$$\n",
    "f(x)=4-3x-2x^2+3x^3\n",
    "$$\n",
    "for $x \\in [-1,1]$."
   ]
  },
  {
   "cell_type": "code",
   "execution_count": 35,
   "metadata": {
    "executionInfo": {
     "elapsed": 270,
     "status": "ok",
     "timestamp": 1630417604641,
     "user": {
      "displayName": "Massimiliano Matteucci",
      "photoUrl": "",
      "userId": "10645043906402067426"
     },
     "user_tz": -120
    },
    "id": "svpcHJjDGX9k"
   },
   "outputs": [],
   "source": [
    "import numpy as np\n",
    "\n",
    "a=3\n",
    "b=-2\n",
    "c=-3\n",
    "d=4\n",
    "# generate training inputs\n",
    "np.random.seed(0)\n",
    "x_train = np.random.uniform(-1, 1, 2000)\n",
    "x_valid = np.random.uniform(-1, 1, 500)\n",
    "x_valid.sort()\n",
    "y_target = a * x_valid**3 + b* x_valid**2+c*x_valid+d# ideal (target) linear function\n",
    "\n",
    "sigma = 0.2 # noise standard deviation, for the moment it is absent\n",
    "y_train = np.random.normal(a * x_train**3 + b* x_train**2+c*x_train+d, sigma) # actual measures from which we want to guess regression parameters\n",
    "y_valid = np.random.normal(a * x_valid**3 + b* x_valid**2+c*x_valid+d, sigma)\n"
   ]
  },
  {
   "cell_type": "code",
   "execution_count": 36,
   "metadata": {
    "colab": {
     "base_uri": "https://localhost:8080/",
     "height": 265
    },
    "executionInfo": {
     "elapsed": 393,
     "status": "ok",
     "timestamp": 1630417609678,
     "user": {
      "displayName": "Massimiliano Matteucci",
      "photoUrl": "",
      "userId": "10645043906402067426"
     },
     "user_tz": -120
    },
    "id": "tP1Qasd_GXyq",
    "outputId": "e16f41a6-fb7e-4a54-e17c-3d5ea6be873b"
   },
   "outputs": [
    {
     "data": {
      "image/png": "[encoded data removed]",
      "text/plain": [
       "<Figure size 432x288 with 1 Axes>"
      ]
     },
     "metadata": {
      "needs_background": "light"
     },
     "output_type": "display_data"
    }
   ],
   "source": [
    "# plot validation and target dataset\n",
    "import matplotlib.pyplot as plt\n",
    "plt.plot(x_valid, y_target, label='target')\n",
    "plt.scatter(x_valid, y_valid, color='r', label='validation data')\n",
    "# plt.legend()\n",
    "plt.grid(True)\n",
    "plt.show()"
   ]
  },
  {
   "cell_type": "code",
   "execution_count": 130,
   "metadata": {
    "executionInfo": {
     "elapsed": 245,
     "status": "ok",
     "timestamp": 1630423568476,
     "user": {
      "displayName": "Massimiliano Matteucci",
      "photoUrl": "",
      "userId": "10645043906402067426"
     },
     "user_tz": -120
    },
    "id": "hLe1IumFulpX"
   },
   "outputs": [],
   "source": [
    "def Grafici(model):\n",
    "  y_predicted = model.predict(x_predicted)\n",
    "  y_predicted1 = model.predict(x_predicted1)\n",
    "  y_predicted2 = model.predict(x_predicted2)\n",
    "  plt.scatter(x_predicted1, y_predicted1,color='y')\n",
    "  plt.scatter(x_predicted2, y_predicted2,color='y')\n",
    "  plt.scatter(x_predicted, y_predicted,color='r')\n",
    "  plt.plot(x_valid, y_target)\n",
    "  plt.grid(True)\n",
    "\n",
    "x_predicted = np.random.uniform(-1, 1, 100)\n",
    "x_predicted1 = np.random.uniform(-1.3, -1, 50)\n",
    "x_predicted2 = np.random.uniform(1, 1.3, 50)\n",
    "x_valid = np.random.uniform(-1.3,1.3,500)\n",
    "x_valid.sort()\n",
    "y_target = a * x_valid**3 + b* x_valid**2+c*x_valid+d\n",
    "\n",
    "\n",
    "\n"
   ]
  },
  {
   "cell_type": "code",
   "execution_count": 132,
   "metadata": {
    "executionInfo": {
     "elapsed": 275,
     "status": "ok",
     "timestamp": 1630423592636,
     "user": {
      "displayName": "Massimiliano Matteucci",
      "photoUrl": "",
      "userId": "10645043906402067426"
     },
     "user_tz": -120
    },
    "id": "9CMgZnIFYb0m"
   },
   "outputs": [],
   "source": [
    "# compose the NN model\n",
    "\n",
    "\n",
    "model = tf.keras.Sequential()\n",
    "model.add(Dense(4,activation='elu', input_shape=(1,)))\n",
    "model.add(Dense(4,activation='elu'))\n",
    "model.add(Dense(1))\n",
    "\n",
    "\n",
    "\n",
    "# compile the model choosing optimizer, loss and metrics objects\n",
    "model.compile(optimizer='sgd', loss='mse', metrics=['mse'])"
   ]
  },
  {
   "cell_type": "code",
   "execution_count": 133,
   "metadata": {
    "colab": {
     "base_uri": "https://localhost:8080/"
    },
    "executionInfo": {
     "elapsed": 6053,
     "status": "ok",
     "timestamp": 1630423601053,
     "user": {
      "displayName": "Massimiliano Matteucci",
      "photoUrl": "",
      "userId": "10645043906402067426"
     },
     "user_tz": -120
    },
    "id": "bSK0id7SuSne",
    "outputId": "b478f66b-c82c-4658-fb30-25652b7c39b8"
   },
   "outputs": [
    {
     "name": "stdout",
     "output_type": "stream",
     "text": [
      "Epoch 1/50\n",
      "63/63 [==============================] - 0s 3ms/step - loss: 2.8354 - mse: 2.8354 - val_loss: 0.7098 - val_mse: 0.7098\n",
      "Epoch 2/50\n",
      "63/63 [==============================] - 0s 2ms/step - loss: 0.5019 - mse: 0.5019 - val_loss: 0.3825 - val_mse: 0.3825\n",
      "Epoch 3/50\n",
      "63/63 [==============================] - 0s 2ms/step - loss: 0.3331 - mse: 0.3331 - val_loss: 0.3665 - val_mse: 0.3665\n",
      "Epoch 4/50\n",
      "63/63 [==============================] - 0s 2ms/step - loss: 0.2996 - mse: 0.2996 - val_loss: 0.3141 - val_mse: 0.3141\n",
      "Epoch 5/50\n",
      "63/63 [==============================] - 0s 1ms/step - loss: 0.2690 - mse: 0.2690 - val_loss: 0.3230 - val_mse: 0.3230\n",
      "Epoch 6/50\n",
      "63/63 [==============================] - 0s 2ms/step - loss: 0.2396 - mse: 0.2396 - val_loss: 0.3140 - val_mse: 0.3140\n",
      "Epoch 7/50\n",
      "63/63 [==============================] - 0s 2ms/step - loss: 0.2124 - mse: 0.2124 - val_loss: 0.2787 - val_mse: 0.2787\n",
      "Epoch 8/50\n",
      "63/63 [==============================] - 0s 2ms/step - loss: 0.1870 - mse: 0.1870 - val_loss: 0.3030 - val_mse: 0.3030\n",
      "Epoch 9/50\n",
      "63/63 [==============================] - 0s 2ms/step - loss: 0.1646 - mse: 0.1646 - val_loss: 0.2704 - val_mse: 0.2704\n",
      "Epoch 10/50\n",
      "63/63 [==============================] - 0s 2ms/step - loss: 0.1441 - mse: 0.1441 - val_loss: 0.2740 - val_mse: 0.2740\n",
      "Epoch 11/50\n",
      "63/63 [==============================] - 0s 2ms/step - loss: 0.1277 - mse: 0.1277 - val_loss: 0.2650 - val_mse: 0.2650\n",
      "Epoch 12/50\n",
      "63/63 [==============================] - 0s 2ms/step - loss: 0.1136 - mse: 0.1136 - val_loss: 0.2493 - val_mse: 0.2493\n",
      "Epoch 13/50\n",
      "63/63 [==============================] - 0s 2ms/step - loss: 0.1024 - mse: 0.1024 - val_loss: 0.2947 - val_mse: 0.2947\n",
      "Epoch 14/50\n",
      "63/63 [==============================] - 0s 2ms/step - loss: 0.0928 - mse: 0.0928 - val_loss: 0.2788 - val_mse: 0.2788\n",
      "Epoch 15/50\n",
      "63/63 [==============================] - 0s 2ms/step - loss: 0.0855 - mse: 0.0855 - val_loss: 0.3033 - val_mse: 0.3033\n",
      "Epoch 16/50\n",
      "63/63 [==============================] - 0s 2ms/step - loss: 0.0793 - mse: 0.0793 - val_loss: 0.3220 - val_mse: 0.3220\n",
      "Epoch 17/50\n",
      "63/63 [==============================] - 0s 2ms/step - loss: 0.0744 - mse: 0.0744 - val_loss: 0.3237 - val_mse: 0.3237\n",
      "Epoch 18/50\n",
      "63/63 [==============================] - 0s 2ms/step - loss: 0.0705 - mse: 0.0705 - val_loss: 0.3367 - val_mse: 0.3367\n",
      "Epoch 19/50\n",
      "63/63 [==============================] - 0s 2ms/step - loss: 0.0674 - mse: 0.0674 - val_loss: 0.3552 - val_mse: 0.3552\n",
      "Epoch 20/50\n",
      "63/63 [==============================] - 0s 2ms/step - loss: 0.0654 - mse: 0.0654 - val_loss: 0.3679 - val_mse: 0.3679\n",
      "Epoch 21/50\n",
      "63/63 [==============================] - 0s 2ms/step - loss: 0.0632 - mse: 0.0632 - val_loss: 0.3844 - val_mse: 0.3844\n",
      "Epoch 22/50\n",
      "63/63 [==============================] - 0s 2ms/step - loss: 0.0618 - mse: 0.0618 - val_loss: 0.3696 - val_mse: 0.3696\n",
      "Epoch 23/50\n",
      "63/63 [==============================] - 0s 2ms/step - loss: 0.0605 - mse: 0.0605 - val_loss: 0.4099 - val_mse: 0.4099\n",
      "Epoch 24/50\n",
      "63/63 [==============================] - 0s 2ms/step - loss: 0.0597 - mse: 0.0597 - val_loss: 0.3993 - val_mse: 0.3993\n",
      "Epoch 25/50\n",
      "63/63 [==============================] - 0s 2ms/step - loss: 0.0589 - mse: 0.0589 - val_loss: 0.4101 - val_mse: 0.4101\n",
      "Epoch 26/50\n",
      "63/63 [==============================] - 0s 2ms/step - loss: 0.0582 - mse: 0.0582 - val_loss: 0.3896 - val_mse: 0.3896\n",
      "Epoch 27/50\n",
      "63/63 [==============================] - 0s 2ms/step - loss: 0.0580 - mse: 0.0580 - val_loss: 0.4369 - val_mse: 0.4369\n",
      "Epoch 28/50\n",
      "63/63 [==============================] - 0s 2ms/step - loss: 0.0572 - mse: 0.0572 - val_loss: 0.4488 - val_mse: 0.4488\n",
      "Epoch 29/50\n",
      "63/63 [==============================] - 0s 2ms/step - loss: 0.0571 - mse: 0.0571 - val_loss: 0.4377 - val_mse: 0.4377\n",
      "Epoch 30/50\n",
      "63/63 [==============================] - 0s 2ms/step - loss: 0.0567 - mse: 0.0567 - val_loss: 0.4135 - val_mse: 0.4135\n",
      "Epoch 31/50\n",
      "63/63 [==============================] - 0s 2ms/step - loss: 0.0561 - mse: 0.0561 - val_loss: 0.4409 - val_mse: 0.4409\n",
      "Epoch 32/50\n",
      "63/63 [==============================] - 0s 2ms/step - loss: 0.0564 - mse: 0.0564 - val_loss: 0.4660 - val_mse: 0.4660\n",
      "Epoch 33/50\n",
      "63/63 [==============================] - 0s 1ms/step - loss: 0.0561 - mse: 0.0561 - val_loss: 0.4821 - val_mse: 0.4821\n",
      "Epoch 34/50\n",
      "63/63 [==============================] - 0s 2ms/step - loss: 0.0561 - mse: 0.0561 - val_loss: 0.4760 - val_mse: 0.4760\n",
      "Epoch 35/50\n",
      "63/63 [==============================] - 0s 2ms/step - loss: 0.0557 - mse: 0.0557 - val_loss: 0.4948 - val_mse: 0.4948\n",
      "Epoch 36/50\n",
      "63/63 [==============================] - 0s 1ms/step - loss: 0.0553 - mse: 0.0553 - val_loss: 0.4519 - val_mse: 0.4519\n",
      "Epoch 37/50\n",
      "63/63 [==============================] - 0s 2ms/step - loss: 0.0553 - mse: 0.0553 - val_loss: 0.4772 - val_mse: 0.4772\n",
      "Epoch 38/50\n",
      "63/63 [==============================] - 0s 2ms/step - loss: 0.0551 - mse: 0.0551 - val_loss: 0.4668 - val_mse: 0.4668\n",
      "Epoch 39/50\n",
      "63/63 [==============================] - 0s 2ms/step - loss: 0.0553 - mse: 0.0553 - val_loss: 0.5039 - val_mse: 0.5039\n",
      "Epoch 40/50\n",
      "63/63 [==============================] - 0s 2ms/step - loss: 0.0551 - mse: 0.0551 - val_loss: 0.5030 - val_mse: 0.5030\n",
      "Epoch 41/50\n",
      "63/63 [==============================] - 0s 2ms/step - loss: 0.0547 - mse: 0.0547 - val_loss: 0.5019 - val_mse: 0.5019\n",
      "Epoch 42/50\n",
      "63/63 [==============================] - 0s 2ms/step - loss: 0.0548 - mse: 0.0548 - val_loss: 0.5109 - val_mse: 0.5109\n",
      "Epoch 43/50\n",
      "63/63 [==============================] - 0s 2ms/step - loss: 0.0548 - mse: 0.0548 - val_loss: 0.4966 - val_mse: 0.4966\n",
      "Epoch 44/50\n",
      "63/63 [==============================] - 0s 2ms/step - loss: 0.0543 - mse: 0.0543 - val_loss: 0.5152 - val_mse: 0.5152\n",
      "Epoch 45/50\n",
      "63/63 [==============================] - 0s 2ms/step - loss: 0.0543 - mse: 0.0543 - val_loss: 0.5101 - val_mse: 0.5101\n",
      "Epoch 46/50\n",
      "63/63 [==============================] - 0s 2ms/step - loss: 0.0544 - mse: 0.0544 - val_loss: 0.5051 - val_mse: 0.5051\n",
      "Epoch 47/50\n",
      "63/63 [==============================] - 0s 2ms/step - loss: 0.0540 - mse: 0.0540 - val_loss: 0.4923 - val_mse: 0.4923\n",
      "Epoch 48/50\n",
      "63/63 [==============================] - 0s 2ms/step - loss: 0.0544 - mse: 0.0544 - val_loss: 0.4962 - val_mse: 0.4962\n",
      "Epoch 49/50\n",
      "63/63 [==============================] - 0s 2ms/step - loss: 0.0545 - mse: 0.0545 - val_loss: 0.5161 - val_mse: 0.5161\n",
      "Epoch 50/50\n",
      "63/63 [==============================] - 0s 2ms/step - loss: 0.0540 - mse: 0.0540 - val_loss: 0.5161 - val_mse: 0.5161\n"
     ]
    }
   ],
   "source": [
    "# fit the model using training dataset\n",
    "# over 10 epochs of 32 batch size each\n",
    "# report training progress against validation data\n",
    "history = model.fit(x=x_train, y=y_train,batch_size=32, \n",
    "          epochs=50, \n",
    "          shuffle=True, # a good idea is to shuffle input before at each epoch\n",
    "          validation_data=(x_valid,y_valid))"
   ]
  },
  {
   "cell_type": "code",
   "execution_count": 134,
   "metadata": {
    "colab": {
     "base_uri": "https://localhost:8080/",
     "height": 295
    },
    "executionInfo": {
     "elapsed": 386,
     "status": "ok",
     "timestamp": 1630423606043,
     "user": {
      "displayName": "Massimiliano Matteucci",
      "photoUrl": "",
      "userId": "10645043906402067426"
     },
     "user_tz": -120
    },
    "id": "NoCg2Rm_uhtD",
    "outputId": "6dd5921b-f630-46b1-d188-5fdea8e11780"
   },
   "outputs": [
    {
     "data": {
      "image/png": "[encoded data removed]",
      "text/plain": [
       "<Figure size 432x288 with 1 Axes>"
      ]
     },
     "metadata": {
      "needs_background": "light"
     },
     "output_type": "display_data"
    }
   ],
   "source": [
    "# look into training history\n",
    "# Plot training & validation loss values\n",
    "plt.plot(history.history['loss'])\n",
    "plt.plot(history.history['val_loss'])\n",
    "plt.title('Model loss')\n",
    "plt.ylabel('Loss')\n",
    "plt.xlabel('Epoch')\n",
    "plt.legend(['Train', 'Test'], loc='best')\n",
    "plt.show()"
   ]
  },
  {
   "cell_type": "code",
   "execution_count": 135,
   "metadata": {
    "colab": {
     "base_uri": "https://localhost:8080/",
     "height": 212
    },
    "executionInfo": {
     "elapsed": 706,
     "status": "ok",
     "timestamp": 1630423612039,
     "user": {
      "displayName": "Massimiliano Matteucci",
      "photoUrl": "",
      "userId": "10645043906402067426"
     },
     "user_tz": -120
    },
    "id": "90AxBnl7xOi1",
    "outputId": "99131828-4b5c-44fb-f6f8-d18e49124e8e"
   },
   "outputs": [
    {
     "data": {
      "image/png": "[encoded data removed]",
      "text/plain": [
       "<Figure size 1080x216 with 1 Axes>"
      ]
     },
     "metadata": {
      "needs_background": "light"
     },
     "output_type": "display_data"
    }
   ],
   "source": [
    "\n",
    "Grafici(model)\n",
    "plt.show()"
   ]
  },
  {
   "cell_type": "code",
   "execution_count": 158,
   "metadata": {
    "executionInfo": {
     "elapsed": 1624,
     "status": "ok",
     "timestamp": 1630424504333,
     "user": {
      "displayName": "Massimiliano Matteucci",
      "photoUrl": "",
      "userId": "10645043906402067426"
     },
     "user_tz": -120
    },
    "id": "_T-1l8Qz_5r7"
   },
   "outputs": [],
   "source": [
    "# compose the NN model\n",
    "\n",
    "\n",
    "model1 = tf.keras.Sequential()\n",
    "model1.add(Dense(4,activation='elu', input_shape=(1,)))\n",
    "model1.add(Dense(8,activation='elu'))\n",
    "model1.add(Dense(1))\n",
    "\n",
    "# compile the model choosing optimizer, loss and metrics objects\n",
    "model1.compile(optimizer='sgd', loss='mse', metrics=['mse'])"
   ]
  },
  {
   "cell_type": "code",
   "execution_count": 159,
   "metadata": {
    "colab": {
     "base_uri": "https://localhost:8080/"
    },
    "executionInfo": {
     "elapsed": 10645,
     "status": "ok",
     "timestamp": 1630424520454,
     "user": {
      "displayName": "Massimiliano Matteucci",
      "photoUrl": "",
      "userId": "10645043906402067426"
     },
     "user_tz": -120
    },
    "id": "O2qYyyef_5sk",
    "outputId": "80179f90-d94f-4201-f1a1-e1cb1a8852a5"
   },
   "outputs": [
    {
     "name": "stdout",
     "output_type": "stream",
     "text": [
      "Epoch 1/50\n",
      "63/63 [==============================] - 1s 4ms/step - loss: 1.7596 - mse: 1.7596 - val_loss: 0.7113 - val_mse: 0.7113\n",
      "Epoch 2/50\n",
      "63/63 [==============================] - 0s 2ms/step - loss: 0.6203 - mse: 0.6203 - val_loss: 0.7170 - val_mse: 0.7170\n",
      "Epoch 3/50\n",
      "63/63 [==============================] - 0s 2ms/step - loss: 0.6096 - mse: 0.6096 - val_loss: 0.6855 - val_mse: 0.6855\n",
      "Epoch 4/50\n",
      "63/63 [==============================] - 0s 2ms/step - loss: 0.6038 - mse: 0.6038 - val_loss: 0.6844 - val_mse: 0.6844\n",
      "Epoch 5/50\n",
      "63/63 [==============================] - 0s 2ms/step - loss: 0.5973 - mse: 0.5973 - val_loss: 0.6808 - val_mse: 0.6808\n",
      "Epoch 6/50\n",
      "63/63 [==============================] - 0s 2ms/step - loss: 0.5873 - mse: 0.5873 - val_loss: 0.6677 - val_mse: 0.6677\n",
      "Epoch 7/50\n",
      "63/63 [==============================] - 0s 2ms/step - loss: 0.5826 - mse: 0.5826 - val_loss: 0.6510 - val_mse: 0.6510\n",
      "Epoch 8/50\n",
      "63/63 [==============================] - 0s 2ms/step - loss: 0.5753 - mse: 0.5753 - val_loss: 0.6288 - val_mse: 0.6288\n",
      "Epoch 9/50\n",
      "63/63 [==============================] - 0s 1ms/step - loss: 0.5662 - mse: 0.5662 - val_loss: 0.6295 - val_mse: 0.6295\n",
      "Epoch 10/50\n",
      "63/63 [==============================] - 0s 1ms/step - loss: 0.5563 - mse: 0.5563 - val_loss: 0.5952 - val_mse: 0.5952\n",
      "Epoch 11/50\n",
      "63/63 [==============================] - 0s 2ms/step - loss: 0.5444 - mse: 0.5444 - val_loss: 0.5756 - val_mse: 0.5756\n",
      "Epoch 12/50\n",
      "63/63 [==============================] - 0s 2ms/step - loss: 0.5241 - mse: 0.5241 - val_loss: 0.5736 - val_mse: 0.5736\n",
      "Epoch 13/50\n",
      "63/63 [==============================] - 0s 2ms/step - loss: 0.5000 - mse: 0.5000 - val_loss: 0.5325 - val_mse: 0.5325\n",
      "Epoch 14/50\n",
      "63/63 [==============================] - 0s 2ms/step - loss: 0.4774 - mse: 0.4774 - val_loss: 0.5112 - val_mse: 0.5112\n",
      "Epoch 15/50\n",
      "63/63 [==============================] - 0s 2ms/step - loss: 0.4451 - mse: 0.4451 - val_loss: 0.4594 - val_mse: 0.4594\n",
      "Epoch 16/50\n",
      "63/63 [==============================] - 0s 1ms/step - loss: 0.4089 - mse: 0.4089 - val_loss: 0.4028 - val_mse: 0.4028\n",
      "Epoch 17/50\n",
      "63/63 [==============================] - 0s 1ms/step - loss: 0.3681 - mse: 0.3681 - val_loss: 0.3694 - val_mse: 0.3694\n",
      "Epoch 18/50\n",
      "63/63 [==============================] - 0s 2ms/step - loss: 0.3305 - mse: 0.3305 - val_loss: 0.3213 - val_mse: 0.3213\n",
      "Epoch 19/50\n",
      "63/63 [==============================] - 0s 2ms/step - loss: 0.2913 - mse: 0.2913 - val_loss: 0.2970 - val_mse: 0.2970\n",
      "Epoch 20/50\n",
      "63/63 [==============================] - 0s 2ms/step - loss: 0.2584 - mse: 0.2584 - val_loss: 0.3066 - val_mse: 0.3066\n",
      "Epoch 21/50\n",
      "63/63 [==============================] - 0s 2ms/step - loss: 0.2293 - mse: 0.2293 - val_loss: 0.2371 - val_mse: 0.2371\n",
      "Epoch 22/50\n",
      "63/63 [==============================] - 0s 2ms/step - loss: 0.2073 - mse: 0.2073 - val_loss: 0.3050 - val_mse: 0.3050\n",
      "Epoch 23/50\n",
      "63/63 [==============================] - 0s 2ms/step - loss: 0.1887 - mse: 0.1887 - val_loss: 0.3114 - val_mse: 0.3114\n",
      "Epoch 24/50\n",
      "63/63 [==============================] - 0s 2ms/step - loss: 0.1720 - mse: 0.1720 - val_loss: 0.3118 - val_mse: 0.3118\n",
      "Epoch 25/50\n",
      "63/63 [==============================] - 0s 2ms/step - loss: 0.1590 - mse: 0.1590 - val_loss: 0.2773 - val_mse: 0.2773\n",
      "Epoch 26/50\n",
      "63/63 [==============================] - 0s 2ms/step - loss: 0.1477 - mse: 0.1477 - val_loss: 0.3471 - val_mse: 0.3471\n",
      "Epoch 27/50\n",
      "63/63 [==============================] - 0s 2ms/step - loss: 0.1382 - mse: 0.1382 - val_loss: 0.3343 - val_mse: 0.3343\n",
      "Epoch 28/50\n",
      "63/63 [==============================] - 0s 2ms/step - loss: 0.1304 - mse: 0.1304 - val_loss: 0.3091 - val_mse: 0.3091\n",
      "Epoch 29/50\n",
      "63/63 [==============================] - 0s 1ms/step - loss: 0.1226 - mse: 0.1226 - val_loss: 0.2889 - val_mse: 0.2889\n",
      "Epoch 30/50\n",
      "63/63 [==============================] - 0s 2ms/step - loss: 0.1157 - mse: 0.1157 - val_loss: 0.2855 - val_mse: 0.2855\n",
      "Epoch 31/50\n",
      "63/63 [==============================] - 0s 2ms/step - loss: 0.1110 - mse: 0.1110 - val_loss: 0.3204 - val_mse: 0.3204\n",
      "Epoch 32/50\n",
      "63/63 [==============================] - 0s 2ms/step - loss: 0.1057 - mse: 0.1057 - val_loss: 0.3416 - val_mse: 0.3416\n",
      "Epoch 33/50\n",
      "63/63 [==============================] - 0s 2ms/step - loss: 0.1005 - mse: 0.1005 - val_loss: 0.3914 - val_mse: 0.3914\n",
      "Epoch 34/50\n",
      "63/63 [==============================] - 0s 2ms/step - loss: 0.0974 - mse: 0.0974 - val_loss: 0.3294 - val_mse: 0.3294\n",
      "Epoch 35/50\n",
      "63/63 [==============================] - 0s 2ms/step - loss: 0.0937 - mse: 0.0937 - val_loss: 0.3832 - val_mse: 0.3832\n",
      "Epoch 36/50\n",
      "63/63 [==============================] - 0s 2ms/step - loss: 0.0917 - mse: 0.0917 - val_loss: 0.3105 - val_mse: 0.3105\n",
      "Epoch 37/50\n",
      "63/63 [==============================] - 0s 2ms/step - loss: 0.0883 - mse: 0.0883 - val_loss: 0.3532 - val_mse: 0.3532\n",
      "Epoch 38/50\n",
      "63/63 [==============================] - 0s 2ms/step - loss: 0.0858 - mse: 0.0858 - val_loss: 0.4264 - val_mse: 0.4264\n",
      "Epoch 39/50\n",
      "63/63 [==============================] - 0s 2ms/step - loss: 0.0835 - mse: 0.0835 - val_loss: 0.3670 - val_mse: 0.3670\n",
      "Epoch 40/50\n",
      "63/63 [==============================] - 0s 2ms/step - loss: 0.0807 - mse: 0.0807 - val_loss: 0.3910 - val_mse: 0.3910\n",
      "Epoch 41/50\n",
      "63/63 [==============================] - 0s 2ms/step - loss: 0.0793 - mse: 0.0793 - val_loss: 0.3691 - val_mse: 0.3691\n",
      "Epoch 42/50\n",
      "63/63 [==============================] - 0s 2ms/step - loss: 0.0769 - mse: 0.0769 - val_loss: 0.3601 - val_mse: 0.3601\n",
      "Epoch 43/50\n",
      "63/63 [==============================] - 0s 2ms/step - loss: 0.0759 - mse: 0.0759 - val_loss: 0.3899 - val_mse: 0.3899\n",
      "Epoch 44/50\n",
      "63/63 [==============================] - 0s 2ms/step - loss: 0.0746 - mse: 0.0746 - val_loss: 0.4182 - val_mse: 0.4182\n",
      "Epoch 45/50\n",
      "63/63 [==============================] - 0s 2ms/step - loss: 0.0729 - mse: 0.0729 - val_loss: 0.4235 - val_mse: 0.4235\n",
      "Epoch 46/50\n",
      "63/63 [==============================] - 0s 1ms/step - loss: 0.0723 - mse: 0.0723 - val_loss: 0.4460 - val_mse: 0.4460\n",
      "Epoch 47/50\n",
      "63/63 [==============================] - 0s 2ms/step - loss: 0.0709 - mse: 0.0709 - val_loss: 0.4406 - val_mse: 0.4406\n",
      "Epoch 48/50\n",
      "63/63 [==============================] - 0s 2ms/step - loss: 0.0707 - mse: 0.0707 - val_loss: 0.3938 - val_mse: 0.3938\n",
      "Epoch 49/50\n",
      "63/63 [==============================] - 0s 2ms/step - loss: 0.0684 - mse: 0.0684 - val_loss: 0.3515 - val_mse: 0.3515\n",
      "Epoch 50/50\n",
      "63/63 [==============================] - 0s 2ms/step - loss: 0.0677 - mse: 0.0677 - val_loss: 0.3951 - val_mse: 0.3951\n"
     ]
    }
   ],
   "source": [
    "# fit the model using training dataset\n",
    "# over 10 epochs of 32 batch size each\n",
    "# report training progress against validation data\n",
    "history1 = model1.fit(x=x_train, y=y_train,batch_size=32, \n",
    "          epochs=50, \n",
    "          shuffle=True, # a good idea is to shuffle input before at each epoch\n",
    "          validation_data=(x_valid,y_valid))"
   ]
  },
  {
   "cell_type": "code",
   "execution_count": 160,
   "metadata": {
    "colab": {
     "base_uri": "https://localhost:8080/",
     "height": 295
    },
    "executionInfo": {
     "elapsed": 453,
     "status": "ok",
     "timestamp": 1630424522349,
     "user": {
      "displayName": "Massimiliano Matteucci",
      "photoUrl": "",
      "userId": "10645043906402067426"
     },
     "user_tz": -120
    },
    "id": "2DT6bPjq_5sl",
    "outputId": "fd07560b-51ef-4c6f-d019-fe4a321d76e5"
   },
   "outputs": [
    {
     "data": {
      "image/png": "[encoded data removed]",
      "text/plain": [
       "<Figure size 432x288 with 1 Axes>"
      ]
     },
     "metadata": {
      "needs_background": "light"
     },
     "output_type": "display_data"
    }
   ],
   "source": [
    "# look into training history\n",
    "# Plot training & validation loss values\n",
    "plt.plot(history1.history['loss'])\n",
    "plt.plot(history1.history['val_loss'])\n",
    "plt.title('Model loss')\n",
    "plt.ylabel('Loss')\n",
    "plt.xlabel('Epoch')\n",
    "plt.legend(['Train', 'Test'], loc='best')\n",
    "plt.show()"
   ]
  },
  {
   "cell_type": "code",
   "execution_count": 161,
   "metadata": {
    "colab": {
     "base_uri": "https://localhost:8080/",
     "height": 284
    },
    "executionInfo": {
     "elapsed": 828,
     "status": "ok",
     "timestamp": 1630424530252,
     "user": {
      "displayName": "Massimiliano Matteucci",
      "photoUrl": "",
      "userId": "10645043906402067426"
     },
     "user_tz": -120
    },
    "id": "5bGkizso_5sn",
    "outputId": "91976c69-3644-4eb1-c0a4-11e38486c224"
   },
   "outputs": [
    {
     "data": {
      "text/plain": [
       "[]"
      ]
     },
     "execution_count": 161,
     "metadata": {},
     "output_type": "execute_result"
    },
    {
     "data": {
      "image/png": "[encoded data removed]",
      "text/plain": [
       "<Figure size 432x288 with 1 Axes>"
      ]
     },
     "metadata": {
      "needs_background": "light"
     },
     "output_type": "display_data"
    }
   ],
   "source": [
    "Grafici(model1)\n",
    "plt.plot()"
   ]
  },
  {
   "cell_type": "code",
   "execution_count": 175,
   "metadata": {
    "executionInfo": {
     "elapsed": 647,
     "status": "ok",
     "timestamp": 1630424895537,
     "user": {
      "displayName": "Massimiliano Matteucci",
      "photoUrl": "",
      "userId": "10645043906402067426"
     },
     "user_tz": -120
    },
    "id": "VASOntHcKffo"
   },
   "outputs": [],
   "source": [
    "# compose the NN model\n",
    "\n",
    "model2 = tf.keras.Sequential()\n",
    "model2.add(Dense(4,activation='elu', input_shape=(1,)))\n",
    "model2.add(Dense(4,activation='elu'))\n",
    "model2.add(Dense(4,activation='elu'))\n",
    "model2.add(Dense(4,activation='elu'))\n",
    "model2.add(Dense(1))\n",
    "\n",
    "\n",
    "# compile the model choosing optimizer, loss and metrics objects\n",
    "model2.compile(optimizer='sgd', loss='mse', metrics=['mse'])"
   ]
  },
  {
   "cell_type": "code",
   "execution_count": 176,
   "metadata": {
    "colab": {
     "base_uri": "https://localhost:8080/"
    },
    "executionInfo": {
     "elapsed": 6670,
     "status": "ok",
     "timestamp": 1630424907864,
     "user": {
      "displayName": "Massimiliano Matteucci",
      "photoUrl": "",
      "userId": "10645043906402067426"
     },
     "user_tz": -120
    },
    "id": "ys1UzjuAKff-",
    "outputId": "620cd5bd-7dc0-48af-b8e8-ee20314e44fc"
   },
   "outputs": [
    {
     "name": "stdout",
     "output_type": "stream",
     "text": [
      "Epoch 1/50\n",
      "63/63 [==============================] - 1s 4ms/step - loss: 1.5149 - mse: 1.5149 - val_loss: 0.4614 - val_mse: 0.4614\n",
      "Epoch 2/50\n",
      "63/63 [==============================] - 0s 2ms/step - loss: 0.4253 - mse: 0.4253 - val_loss: 0.4794 - val_mse: 0.4794\n",
      "Epoch 3/50\n",
      "63/63 [==============================] - 0s 2ms/step - loss: 0.4104 - mse: 0.4104 - val_loss: 0.4813 - val_mse: 0.4813\n",
      "Epoch 4/50\n",
      "63/63 [==============================] - 0s 2ms/step - loss: 0.4014 - mse: 0.4014 - val_loss: 0.4670 - val_mse: 0.4670\n",
      "Epoch 5/50\n",
      "63/63 [==============================] - 0s 2ms/step - loss: 0.3939 - mse: 0.3939 - val_loss: 0.4750 - val_mse: 0.4750\n",
      "Epoch 6/50\n",
      "63/63 [==============================] - 0s 2ms/step - loss: 0.3859 - mse: 0.3859 - val_loss: 0.4487 - val_mse: 0.4487\n",
      "Epoch 7/50\n",
      "63/63 [==============================] - 0s 2ms/step - loss: 0.3732 - mse: 0.3732 - val_loss: 0.4262 - val_mse: 0.4262\n",
      "Epoch 8/50\n",
      "63/63 [==============================] - 0s 2ms/step - loss: 0.3423 - mse: 0.3423 - val_loss: 0.3656 - val_mse: 0.3656\n",
      "Epoch 9/50\n",
      "63/63 [==============================] - 0s 2ms/step - loss: 0.2745 - mse: 0.2745 - val_loss: 0.3213 - val_mse: 0.3213\n",
      "Epoch 10/50\n",
      "63/63 [==============================] - 0s 2ms/step - loss: 0.2188 - mse: 0.2188 - val_loss: 0.2524 - val_mse: 0.2524\n",
      "Epoch 11/50\n",
      "63/63 [==============================] - 0s 2ms/step - loss: 0.1721 - mse: 0.1721 - val_loss: 0.2246 - val_mse: 0.2246\n",
      "Epoch 12/50\n",
      "63/63 [==============================] - 0s 2ms/step - loss: 0.1367 - mse: 0.1367 - val_loss: 0.2561 - val_mse: 0.2561\n",
      "Epoch 13/50\n",
      "63/63 [==============================] - 0s 2ms/step - loss: 0.1128 - mse: 0.1128 - val_loss: 0.2873 - val_mse: 0.2873\n",
      "Epoch 14/50\n",
      "63/63 [==============================] - 0s 2ms/step - loss: 0.0989 - mse: 0.0989 - val_loss: 0.3298 - val_mse: 0.3298\n",
      "Epoch 15/50\n",
      "63/63 [==============================] - 0s 2ms/step - loss: 0.0877 - mse: 0.0877 - val_loss: 0.3230 - val_mse: 0.3230\n",
      "Epoch 16/50\n",
      "63/63 [==============================] - 0s 2ms/step - loss: 0.0813 - mse: 0.0813 - val_loss: 0.2719 - val_mse: 0.2719\n",
      "Epoch 17/50\n",
      "63/63 [==============================] - 0s 2ms/step - loss: 0.0760 - mse: 0.0760 - val_loss: 0.2997 - val_mse: 0.2997\n",
      "Epoch 18/50\n",
      "63/63 [==============================] - 0s 2ms/step - loss: 0.0724 - mse: 0.0724 - val_loss: 0.3504 - val_mse: 0.3504\n",
      "Epoch 19/50\n",
      "63/63 [==============================] - 0s 2ms/step - loss: 0.0693 - mse: 0.0693 - val_loss: 0.3669 - val_mse: 0.3669\n",
      "Epoch 20/50\n",
      "63/63 [==============================] - 0s 2ms/step - loss: 0.0663 - mse: 0.0663 - val_loss: 0.3662 - val_mse: 0.3662\n",
      "Epoch 21/50\n",
      "63/63 [==============================] - 0s 2ms/step - loss: 0.0638 - mse: 0.0638 - val_loss: 0.3632 - val_mse: 0.3632\n",
      "Epoch 22/50\n",
      "63/63 [==============================] - 0s 2ms/step - loss: 0.0620 - mse: 0.0620 - val_loss: 0.3383 - val_mse: 0.3383\n",
      "Epoch 23/50\n",
      "63/63 [==============================] - 0s 2ms/step - loss: 0.0598 - mse: 0.0598 - val_loss: 0.4144 - val_mse: 0.4144\n",
      "Epoch 24/50\n",
      "63/63 [==============================] - 0s 2ms/step - loss: 0.0588 - mse: 0.0588 - val_loss: 0.3953 - val_mse: 0.3953\n",
      "Epoch 25/50\n",
      "63/63 [==============================] - 0s 2ms/step - loss: 0.0573 - mse: 0.0573 - val_loss: 0.4196 - val_mse: 0.4196\n",
      "Epoch 26/50\n",
      "63/63 [==============================] - 0s 2ms/step - loss: 0.0564 - mse: 0.0564 - val_loss: 0.4493 - val_mse: 0.4493\n",
      "Epoch 27/50\n",
      "63/63 [==============================] - 0s 2ms/step - loss: 0.0554 - mse: 0.0554 - val_loss: 0.4924 - val_mse: 0.4924\n",
      "Epoch 28/50\n",
      "63/63 [==============================] - 0s 2ms/step - loss: 0.0542 - mse: 0.0542 - val_loss: 0.4084 - val_mse: 0.4084\n",
      "Epoch 29/50\n",
      "63/63 [==============================] - 0s 2ms/step - loss: 0.0536 - mse: 0.0536 - val_loss: 0.3873 - val_mse: 0.3873\n",
      "Epoch 30/50\n",
      "63/63 [==============================] - 0s 2ms/step - loss: 0.0529 - mse: 0.0529 - val_loss: 0.5055 - val_mse: 0.5055\n",
      "Epoch 31/50\n",
      "63/63 [==============================] - 0s 2ms/step - loss: 0.0522 - mse: 0.0522 - val_loss: 0.5473 - val_mse: 0.5473\n",
      "Epoch 32/50\n",
      "63/63 [==============================] - 0s 2ms/step - loss: 0.0512 - mse: 0.0512 - val_loss: 0.4272 - val_mse: 0.4272\n",
      "Epoch 33/50\n",
      "63/63 [==============================] - 0s 2ms/step - loss: 0.0510 - mse: 0.0510 - val_loss: 0.4276 - val_mse: 0.4276\n",
      "Epoch 34/50\n",
      "63/63 [==============================] - 0s 2ms/step - loss: 0.0503 - mse: 0.0503 - val_loss: 0.5265 - val_mse: 0.5265\n",
      "Epoch 35/50\n",
      "63/63 [==============================] - 0s 2ms/step - loss: 0.0498 - mse: 0.0498 - val_loss: 0.4582 - val_mse: 0.4582\n",
      "Epoch 36/50\n",
      "63/63 [==============================] - 0s 2ms/step - loss: 0.0494 - mse: 0.0494 - val_loss: 0.4376 - val_mse: 0.4376\n",
      "Epoch 37/50\n",
      "63/63 [==============================] - 0s 2ms/step - loss: 0.0485 - mse: 0.0485 - val_loss: 0.4810 - val_mse: 0.4810\n",
      "Epoch 38/50\n",
      "63/63 [==============================] - 0s 2ms/step - loss: 0.0484 - mse: 0.0484 - val_loss: 0.5691 - val_mse: 0.5691\n",
      "Epoch 39/50\n",
      "63/63 [==============================] - 0s 2ms/step - loss: 0.0484 - mse: 0.0484 - val_loss: 0.4928 - val_mse: 0.4928\n",
      "Epoch 40/50\n",
      "63/63 [==============================] - 0s 2ms/step - loss: 0.0481 - mse: 0.0481 - val_loss: 0.5046 - val_mse: 0.5046\n",
      "Epoch 41/50\n",
      "63/63 [==============================] - 0s 2ms/step - loss: 0.0477 - mse: 0.0477 - val_loss: 0.4883 - val_mse: 0.4883\n",
      "Epoch 42/50\n",
      "63/63 [==============================] - 0s 2ms/step - loss: 0.0471 - mse: 0.0471 - val_loss: 0.5310 - val_mse: 0.5310\n",
      "Epoch 43/50\n",
      "63/63 [==============================] - 0s 2ms/step - loss: 0.0469 - mse: 0.0469 - val_loss: 0.6823 - val_mse: 0.6823\n",
      "Epoch 44/50\n",
      "63/63 [==============================] - 0s 2ms/step - loss: 0.0470 - mse: 0.0470 - val_loss: 0.5526 - val_mse: 0.5526\n",
      "Epoch 45/50\n",
      "63/63 [==============================] - 0s 2ms/step - loss: 0.0464 - mse: 0.0464 - val_loss: 0.4696 - val_mse: 0.4696\n",
      "Epoch 46/50\n",
      "63/63 [==============================] - 0s 2ms/step - loss: 0.0462 - mse: 0.0462 - val_loss: 0.5043 - val_mse: 0.5043\n",
      "Epoch 47/50\n",
      "63/63 [==============================] - 0s 2ms/step - loss: 0.0459 - mse: 0.0459 - val_loss: 0.5334 - val_mse: 0.5334\n",
      "Epoch 48/50\n",
      "63/63 [==============================] - 0s 2ms/step - loss: 0.0460 - mse: 0.0460 - val_loss: 0.5165 - val_mse: 0.5165\n",
      "Epoch 49/50\n",
      "63/63 [==============================] - 0s 2ms/step - loss: 0.0453 - mse: 0.0453 - val_loss: 0.5805 - val_mse: 0.5805\n",
      "Epoch 50/50\n",
      "63/63 [==============================] - 0s 2ms/step - loss: 0.0456 - mse: 0.0456 - val_loss: 0.6487 - val_mse: 0.6487\n"
     ]
    }
   ],
   "source": [
    "# fit the model using training dataset\n",
    "# over 10 epochs of 32 batch size each\n",
    "# report training progress against validation data\n",
    "history2 = model2.fit(x=x_train, y=y_train,batch_size=32, \n",
    "          epochs=50, \n",
    "          shuffle=True, # a good idea is to shuffle input before at each epoch\n",
    "          validation_data=(x_valid,y_valid))"
   ]
  },
  {
   "cell_type": "code",
   "execution_count": 173,
   "metadata": {
    "colab": {
     "base_uri": "https://localhost:8080/",
     "height": 295
    },
    "executionInfo": {
     "elapsed": 360,
     "status": "ok",
     "timestamp": 1630424864616,
     "user": {
      "displayName": "Massimiliano Matteucci",
      "photoUrl": "",
      "userId": "10645043906402067426"
     },
     "user_tz": -120
    },
    "id": "eo10cQopKff_",
    "outputId": "903d16ab-14ea-44c0-d77e-73cbcb7fed70"
   },
   "outputs": [
    {
     "data": {
      "image/png": "[encoded data removed]",
      "text/plain": [
       "<Figure size 432x288 with 1 Axes>"
      ]
     },
     "metadata": {
      "needs_background": "light"
     },
     "output_type": "display_data"
    }
   ],
   "source": [
    "# look into training history\n",
    "# Plot training & validation loss values\n",
    "plt.plot(history2.history['loss'])\n",
    "plt.plot(history2.history['val_loss'])\n",
    "plt.title('Model loss')\n",
    "plt.ylabel('Loss')\n",
    "plt.xlabel('Epoch')\n",
    "plt.legend(['Train', 'Test'], loc='best')\n",
    "plt.show()"
   ]
  },
  {
   "cell_type": "code",
   "execution_count": 174,
   "metadata": {
    "colab": {
     "base_uri": "https://localhost:8080/",
     "height": 284
    },
    "executionInfo": {
     "elapsed": 858,
     "status": "ok",
     "timestamp": 1630424869674,
     "user": {
      "displayName": "Massimiliano Matteucci",
      "photoUrl": "",
      "userId": "10645043906402067426"
     },
     "user_tz": -120
    },
    "id": "FYpEZaZnKfgA",
    "outputId": "be253c1b-bee8-402c-fd4f-bdc79395932a"
   },
   "outputs": [
    {
     "data": {
      "text/plain": [
       "[]"
      ]
     },
     "execution_count": 174,
     "metadata": {},
     "output_type": "execute_result"
    },
    {
     "data": {
      "image/png": "[encoded data removed]",
      "text/plain": [
       "<Figure size 432x288 with 1 Axes>"
      ]
     },
     "metadata": {
      "needs_background": "light"
     },
     "output_type": "display_data"
    }
   ],
   "source": [
    "Grafici(model2)\n",
    "plt.plot()"
   ]
  },
  {
   "cell_type": "code",
   "execution_count": 185,
   "metadata": {
    "executionInfo": {
     "elapsed": 280,
     "status": "ok",
     "timestamp": 1630425075603,
     "user": {
      "displayName": "Massimiliano Matteucci",
      "photoUrl": "",
      "userId": "10645043906402067426"
     },
     "user_tz": -120
    },
    "id": "o-OYUDCGKgkD"
   },
   "outputs": [],
   "source": [
    "# compose the NN model\n",
    "\n",
    "model3 = tf.keras.Sequential()\n",
    "model3.add(Dense(4,activation='relu', input_shape=(1,)))\n",
    "model3.add(Dense(4,activation='relu'))\n",
    "model3.add(Dense(4,activation='relu'))\n",
    "model3.add(Dense(4,activation='relu'))\n",
    "model3.add(Dense(1))\n",
    "\n",
    "# compile the model choosing optimizer, loss and metrics objects\n",
    "model3.compile(optimizer='sgd', loss='mse', metrics=['mse'])"
   ]
  },
  {
   "cell_type": "code",
   "execution_count": 186,
   "metadata": {
    "colab": {
     "base_uri": "https://localhost:8080/"
    },
    "executionInfo": {
     "elapsed": 11109,
     "status": "ok",
     "timestamp": 1630425094771,
     "user": {
      "displayName": "Massimiliano Matteucci",
      "photoUrl": "",
      "userId": "10645043906402067426"
     },
     "user_tz": -120
    },
    "id": "yi7ygDyLKgkE",
    "outputId": "4e05226a-06ca-44c5-8c2d-9bd72f200d37"
   },
   "outputs": [
    {
     "name": "stdout",
     "output_type": "stream",
     "text": [
      "Epoch 1/50\n",
      "63/63 [==============================] - 1s 3ms/step - loss: 4.4806 - mse: 4.4806 - val_loss: 1.0994 - val_mse: 1.0994\n",
      "Epoch 2/50\n",
      "63/63 [==============================] - 0s 2ms/step - loss: 0.9815 - mse: 0.9815 - val_loss: 0.8296 - val_mse: 0.8296\n",
      "Epoch 3/50\n",
      "63/63 [==============================] - 0s 2ms/step - loss: 0.7331 - mse: 0.7331 - val_loss: 0.5764 - val_mse: 0.5764\n",
      "Epoch 4/50\n",
      "63/63 [==============================] - 0s 2ms/step - loss: 0.5175 - mse: 0.5175 - val_loss: 0.4410 - val_mse: 0.4410\n",
      "Epoch 5/50\n",
      "63/63 [==============================] - 0s 2ms/step - loss: 0.3832 - mse: 0.3832 - val_loss: 0.3269 - val_mse: 0.3269\n",
      "Epoch 6/50\n",
      "63/63 [==============================] - 0s 2ms/step - loss: 0.2630 - mse: 0.2630 - val_loss: 0.2645 - val_mse: 0.2645\n",
      "Epoch 7/50\n",
      "63/63 [==============================] - 0s 2ms/step - loss: 0.1958 - mse: 0.1958 - val_loss: 0.2100 - val_mse: 0.2100\n",
      "Epoch 8/50\n",
      "63/63 [==============================] - 0s 2ms/step - loss: 0.1505 - mse: 0.1505 - val_loss: 0.2327 - val_mse: 0.2327\n",
      "Epoch 9/50\n",
      "63/63 [==============================] - 0s 2ms/step - loss: 0.1195 - mse: 0.1195 - val_loss: 0.2143 - val_mse: 0.2143\n",
      "Epoch 10/50\n",
      "63/63 [==============================] - 0s 2ms/step - loss: 0.0966 - mse: 0.0966 - val_loss: 0.2258 - val_mse: 0.2258\n",
      "Epoch 11/50\n",
      "63/63 [==============================] - 0s 2ms/step - loss: 0.0825 - mse: 0.0825 - val_loss: 0.2467 - val_mse: 0.2467\n",
      "Epoch 12/50\n",
      "63/63 [==============================] - 0s 2ms/step - loss: 0.0718 - mse: 0.0718 - val_loss: 0.3377 - val_mse: 0.3377\n",
      "Epoch 13/50\n",
      "63/63 [==============================] - 0s 2ms/step - loss: 0.0639 - mse: 0.0639 - val_loss: 0.2761 - val_mse: 0.2761\n",
      "Epoch 14/50\n",
      "63/63 [==============================] - 0s 2ms/step - loss: 0.0591 - mse: 0.0591 - val_loss: 0.3686 - val_mse: 0.3686\n",
      "Epoch 15/50\n",
      "63/63 [==============================] - 0s 2ms/step - loss: 0.0554 - mse: 0.0554 - val_loss: 0.3685 - val_mse: 0.3685\n",
      "Epoch 16/50\n",
      "63/63 [==============================] - 0s 2ms/step - loss: 0.0522 - mse: 0.0522 - val_loss: 0.3662 - val_mse: 0.3662\n",
      "Epoch 17/50\n",
      "63/63 [==============================] - 0s 2ms/step - loss: 0.0507 - mse: 0.0507 - val_loss: 0.4133 - val_mse: 0.4133\n",
      "Epoch 18/50\n",
      "63/63 [==============================] - 0s 2ms/step - loss: 0.0487 - mse: 0.0487 - val_loss: 0.3973 - val_mse: 0.3973\n",
      "Epoch 19/50\n",
      "63/63 [==============================] - 0s 2ms/step - loss: 0.0474 - mse: 0.0474 - val_loss: 0.3915 - val_mse: 0.3915\n",
      "Epoch 20/50\n",
      "63/63 [==============================] - 0s 2ms/step - loss: 0.0476 - mse: 0.0476 - val_loss: 0.4262 - val_mse: 0.4262\n",
      "Epoch 21/50\n",
      "63/63 [==============================] - 0s 2ms/step - loss: 0.0466 - mse: 0.0466 - val_loss: 0.3849 - val_mse: 0.3849\n",
      "Epoch 22/50\n",
      "63/63 [==============================] - 0s 2ms/step - loss: 0.0454 - mse: 0.0454 - val_loss: 0.4780 - val_mse: 0.4780\n",
      "Epoch 23/50\n",
      "63/63 [==============================] - 0s 2ms/step - loss: 0.0450 - mse: 0.0450 - val_loss: 0.3798 - val_mse: 0.3798\n",
      "Epoch 24/50\n",
      "63/63 [==============================] - 0s 2ms/step - loss: 0.0446 - mse: 0.0446 - val_loss: 0.4825 - val_mse: 0.4825\n",
      "Epoch 25/50\n",
      "63/63 [==============================] - 0s 2ms/step - loss: 0.0441 - mse: 0.0441 - val_loss: 0.4458 - val_mse: 0.4458\n",
      "Epoch 26/50\n",
      "63/63 [==============================] - 0s 2ms/step - loss: 0.0444 - mse: 0.0444 - val_loss: 0.3972 - val_mse: 0.3972\n",
      "Epoch 27/50\n",
      "63/63 [==============================] - 0s 2ms/step - loss: 0.0448 - mse: 0.0448 - val_loss: 0.4653 - val_mse: 0.4653\n",
      "Epoch 28/50\n",
      "63/63 [==============================] - 0s 2ms/step - loss: 0.0446 - mse: 0.0446 - val_loss: 0.5068 - val_mse: 0.5068\n",
      "Epoch 29/50\n",
      "63/63 [==============================] - 0s 2ms/step - loss: 0.0444 - mse: 0.0444 - val_loss: 0.4385 - val_mse: 0.4385\n",
      "Epoch 30/50\n",
      "63/63 [==============================] - 0s 2ms/step - loss: 0.0438 - mse: 0.0438 - val_loss: 0.4773 - val_mse: 0.4773\n",
      "Epoch 31/50\n",
      "63/63 [==============================] - 0s 2ms/step - loss: 0.0432 - mse: 0.0432 - val_loss: 0.4134 - val_mse: 0.4134\n",
      "Epoch 32/50\n",
      "63/63 [==============================] - 0s 2ms/step - loss: 0.0440 - mse: 0.0440 - val_loss: 0.4892 - val_mse: 0.4892\n",
      "Epoch 33/50\n",
      "63/63 [==============================] - 0s 2ms/step - loss: 0.0430 - mse: 0.0430 - val_loss: 0.4352 - val_mse: 0.4352\n",
      "Epoch 34/50\n",
      "63/63 [==============================] - 0s 2ms/step - loss: 0.0441 - mse: 0.0441 - val_loss: 0.4298 - val_mse: 0.4298\n",
      "Epoch 35/50\n",
      "63/63 [==============================] - 0s 2ms/step - loss: 0.0436 - mse: 0.0436 - val_loss: 0.4585 - val_mse: 0.4585\n",
      "Epoch 36/50\n",
      "63/63 [==============================] - 0s 2ms/step - loss: 0.0431 - mse: 0.0431 - val_loss: 0.4528 - val_mse: 0.4528\n",
      "Epoch 37/50\n",
      "63/63 [==============================] - 0s 2ms/step - loss: 0.0425 - mse: 0.0425 - val_loss: 0.4889 - val_mse: 0.4889\n",
      "Epoch 38/50\n",
      "63/63 [==============================] - 0s 2ms/step - loss: 0.0440 - mse: 0.0440 - val_loss: 0.4515 - val_mse: 0.4515\n",
      "Epoch 39/50\n",
      "63/63 [==============================] - 0s 2ms/step - loss: 0.0431 - mse: 0.0431 - val_loss: 0.4372 - val_mse: 0.4372\n",
      "Epoch 40/50\n",
      "63/63 [==============================] - 0s 2ms/step - loss: 0.0436 - mse: 0.0436 - val_loss: 0.4475 - val_mse: 0.4475\n",
      "Epoch 41/50\n",
      "63/63 [==============================] - 0s 2ms/step - loss: 0.0429 - mse: 0.0429 - val_loss: 0.4975 - val_mse: 0.4975\n",
      "Epoch 42/50\n",
      "63/63 [==============================] - 0s 2ms/step - loss: 0.0422 - mse: 0.0422 - val_loss: 0.4471 - val_mse: 0.4471\n",
      "Epoch 43/50\n",
      "63/63 [==============================] - 0s 2ms/step - loss: 0.0440 - mse: 0.0440 - val_loss: 0.4420 - val_mse: 0.4420\n",
      "Epoch 44/50\n",
      "63/63 [==============================] - 0s 2ms/step - loss: 0.0426 - mse: 0.0426 - val_loss: 0.4657 - val_mse: 0.4657\n",
      "Epoch 45/50\n",
      "63/63 [==============================] - 0s 2ms/step - loss: 0.0422 - mse: 0.0422 - val_loss: 0.4379 - val_mse: 0.4379\n",
      "Epoch 46/50\n",
      "63/63 [==============================] - 0s 2ms/step - loss: 0.0432 - mse: 0.0432 - val_loss: 0.4367 - val_mse: 0.4367\n",
      "Epoch 47/50\n",
      "63/63 [==============================] - 0s 2ms/step - loss: 0.0426 - mse: 0.0426 - val_loss: 0.4438 - val_mse: 0.4438\n",
      "Epoch 48/50\n",
      "63/63 [==============================] - 0s 2ms/step - loss: 0.0425 - mse: 0.0425 - val_loss: 0.4466 - val_mse: 0.4466\n",
      "Epoch 49/50\n",
      "63/63 [==============================] - 0s 2ms/step - loss: 0.0427 - mse: 0.0427 - val_loss: 0.4476 - val_mse: 0.4476\n",
      "Epoch 50/50\n",
      "63/63 [==============================] - 0s 2ms/step - loss: 0.0428 - mse: 0.0428 - val_loss: 0.4311 - val_mse: 0.4311\n"
     ]
    }
   ],
   "source": [
    "# fit the model using training dataset\n",
    "# over 10 epochs of 32 batch size each\n",
    "# report training progress against validation data\n",
    "history3 = model3.fit(x=x_train, y=y_train,batch_size=32, \n",
    "          epochs=50, \n",
    "          shuffle=True, # a good idea is to shuffle input before at each epoch\n",
    "          validation_data=(x_valid,y_valid))"
   ]
  },
  {
   "cell_type": "code",
   "execution_count": 187,
   "metadata": {
    "colab": {
     "base_uri": "https://localhost:8080/",
     "height": 295
    },
    "executionInfo": {
     "elapsed": 469,
     "status": "ok",
     "timestamp": 1630425097189,
     "user": {
      "displayName": "Massimiliano Matteucci",
      "photoUrl": "",
      "userId": "10645043906402067426"
     },
     "user_tz": -120
    },
    "id": "lI6xFQt6KgkF",
    "outputId": "151fda4e-72e3-4dd9-d0e4-3a3457a9ca10"
   },
   "outputs": [
    {
     "data": {
      "image/png": "[encoded data removed]",
      "text/plain": [
       "<Figure size 432x288 with 1 Axes>"
      ]
     },
     "metadata": {
      "needs_background": "light"
     },
     "output_type": "display_data"
    }
   ],
   "source": [
    "# look into training history\n",
    "# Plot training & validation loss values\n",
    "plt.plot(history3.history['loss'])\n",
    "plt.plot(history3.history['val_loss'])\n",
    "plt.title('Model loss')\n",
    "plt.ylabel('Loss')\n",
    "plt.xlabel('Epoch')\n",
    "plt.legend(['Train', 'Test'], loc='best')\n",
    "plt.show()"
   ]
  },
  {
   "cell_type": "code",
   "execution_count": 188,
   "metadata": {
    "colab": {
     "base_uri": "https://localhost:8080/",
     "height": 267
    },
    "executionInfo": {
     "elapsed": 867,
     "status": "ok",
     "timestamp": 1630425101835,
     "user": {
      "displayName": "Massimiliano Matteucci",
      "photoUrl": "",
      "userId": "10645043906402067426"
     },
     "user_tz": -120
    },
    "id": "28_mXmzyKgkG",
    "outputId": "840aaf7f-b7cd-43c5-e135-808ee5394bf4"
   },
   "outputs": [
    {
     "data": {
      "image/png": "[encoded data removed]",
      "text/plain": [
       "<Figure size 432x288 with 1 Axes>"
      ]
     },
     "metadata": {
      "needs_background": "light"
     },
     "output_type": "display_data"
    }
   ],
   "source": [
    "Grafici(model3)\n",
    "plt.show()"
   ]
  },
  {
   "cell_type": "code",
   "execution_count": 221,
   "metadata": {
    "executionInfo": {
     "elapsed": 255,
     "status": "ok",
     "timestamp": 1630426221817,
     "user": {
      "displayName": "Massimiliano Matteucci",
      "photoUrl": "",
      "userId": "10645043906402067426"
     },
     "user_tz": -120
    },
    "id": "BdJ0Ix3a6RXM"
   },
   "outputs": [],
   "source": [
    "# compose the NN model\n",
    "\n",
    "model4 = tf.keras.Sequential()\n",
    "model4.add(Dense(4,activation='exponential', input_shape=(1,)))\n",
    "model4.add(Dense(4,activation='exponential'))\n",
    "model4.add(Dense(4,activation='exponential'))\n",
    "model4.add(Dense(4,activation='exponential'))\n",
    "model4.add(Dense(1))\n",
    "\n",
    "# compile the model choosing optimizer, loss and metrics objects\n",
    "model4.compile(optimizer='sgd', loss='mse', metrics=['mse'])"
   ]
  },
  {
   "cell_type": "code",
   "execution_count": 222,
   "metadata": {
    "colab": {
     "base_uri": "https://localhost:8080/"
    },
    "executionInfo": {
     "elapsed": 6223,
     "status": "ok",
     "timestamp": 1630426230411,
     "user": {
      "displayName": "Massimiliano Matteucci",
      "photoUrl": "",
      "userId": "10645043906402067426"
     },
     "user_tz": -120
    },
    "id": "HglkwNje6iL-",
    "outputId": "dbd97416-6fa0-42b0-bce7-6b2a5a0ab70b"
   },
   "outputs": [
    {
     "name": "stdout",
     "output_type": "stream",
     "text": [
      "Epoch 1/50\n",
      "63/63 [==============================] - 1s 4ms/step - loss: 1.4912 - mse: 1.4912 - val_loss: 0.8811 - val_mse: 0.8811\n",
      "Epoch 2/50\n",
      "63/63 [==============================] - 0s 2ms/step - loss: 0.6855 - mse: 0.6855 - val_loss: 0.9517 - val_mse: 0.9517\n",
      "Epoch 3/50\n",
      "63/63 [==============================] - 0s 2ms/step - loss: 0.6350 - mse: 0.6350 - val_loss: 0.8108 - val_mse: 0.8108\n",
      "Epoch 4/50\n",
      "63/63 [==============================] - 0s 2ms/step - loss: 0.5490 - mse: 0.5490 - val_loss: 0.4838 - val_mse: 0.4838\n",
      "Epoch 5/50\n",
      "63/63 [==============================] - 0s 2ms/step - loss: 0.4756 - mse: 0.4756 - val_loss: 0.3978 - val_mse: 0.3978\n",
      "Epoch 6/50\n",
      "63/63 [==============================] - 0s 2ms/step - loss: 0.3638 - mse: 0.3638 - val_loss: 0.2976 - val_mse: 0.2976\n",
      "Epoch 7/50\n",
      "63/63 [==============================] - 0s 2ms/step - loss: 0.3499 - mse: 0.3499 - val_loss: 0.3664 - val_mse: 0.3664\n",
      "Epoch 8/50\n",
      "63/63 [==============================] - 0s 2ms/step - loss: 0.2941 - mse: 0.2941 - val_loss: 0.2109 - val_mse: 0.2109\n",
      "Epoch 9/50\n",
      "63/63 [==============================] - 0s 2ms/step - loss: 0.2448 - mse: 0.2448 - val_loss: 0.2287 - val_mse: 0.2287\n",
      "Epoch 10/50\n",
      "63/63 [==============================] - 0s 2ms/step - loss: 0.1947 - mse: 0.1947 - val_loss: 0.2489 - val_mse: 0.2489\n",
      "Epoch 11/50\n",
      "63/63 [==============================] - 0s 2ms/step - loss: 0.1742 - mse: 0.1742 - val_loss: 0.2879 - val_mse: 0.2879\n",
      "Epoch 12/50\n",
      "63/63 [==============================] - 0s 2ms/step - loss: 0.1554 - mse: 0.1554 - val_loss: 0.1865 - val_mse: 0.1865\n",
      "Epoch 13/50\n",
      "63/63 [==============================] - 0s 2ms/step - loss: 0.1384 - mse: 0.1384 - val_loss: 0.4325 - val_mse: 0.4325\n",
      "Epoch 14/50\n",
      "63/63 [==============================] - 0s 2ms/step - loss: 0.1378 - mse: 0.1378 - val_loss: 0.1967 - val_mse: 0.1967\n",
      "Epoch 15/50\n",
      "63/63 [==============================] - 0s 2ms/step - loss: 0.1189 - mse: 0.1189 - val_loss: 0.2003 - val_mse: 0.2003\n",
      "Epoch 16/50\n",
      "63/63 [==============================] - 0s 2ms/step - loss: 0.1199 - mse: 0.1199 - val_loss: 0.1993 - val_mse: 0.1993\n",
      "Epoch 17/50\n",
      "63/63 [==============================] - 0s 2ms/step - loss: 0.1488 - mse: 0.1488 - val_loss: 0.2653 - val_mse: 0.2653\n",
      "Epoch 18/50\n",
      "63/63 [==============================] - 0s 2ms/step - loss: 0.1094 - mse: 0.1094 - val_loss: 0.2886 - val_mse: 0.2886\n",
      "Epoch 19/50\n",
      "63/63 [==============================] - 0s 2ms/step - loss: 0.1141 - mse: 0.1141 - val_loss: 0.2026 - val_mse: 0.2026\n",
      "Epoch 20/50\n",
      "63/63 [==============================] - 0s 2ms/step - loss: 0.0955 - mse: 0.0955 - val_loss: 0.4239 - val_mse: 0.4239\n",
      "Epoch 21/50\n",
      "63/63 [==============================] - 0s 2ms/step - loss: 0.1103 - mse: 0.1103 - val_loss: 0.4098 - val_mse: 0.4098\n",
      "Epoch 22/50\n",
      "63/63 [==============================] - 0s 2ms/step - loss: 0.1221 - mse: 0.1221 - val_loss: 0.3794 - val_mse: 0.3794\n",
      "Epoch 23/50\n",
      "63/63 [==============================] - 0s 2ms/step - loss: 0.1039 - mse: 0.1039 - val_loss: 0.4499 - val_mse: 0.4499\n",
      "Epoch 24/50\n",
      "63/63 [==============================] - 0s 2ms/step - loss: 0.0972 - mse: 0.0972 - val_loss: 0.2511 - val_mse: 0.2511\n",
      "Epoch 25/50\n",
      "63/63 [==============================] - 0s 2ms/step - loss: 0.0968 - mse: 0.0968 - val_loss: 0.2396 - val_mse: 0.2396\n",
      "Epoch 26/50\n",
      "63/63 [==============================] - 0s 2ms/step - loss: 0.0974 - mse: 0.0974 - val_loss: 0.2868 - val_mse: 0.2868\n",
      "Epoch 27/50\n",
      "63/63 [==============================] - 0s 2ms/step - loss: 0.0984 - mse: 0.0984 - val_loss: 0.2760 - val_mse: 0.2760\n",
      "Epoch 28/50\n",
      "63/63 [==============================] - 0s 2ms/step - loss: 0.0967 - mse: 0.0967 - val_loss: 0.2933 - val_mse: 0.2933\n",
      "Epoch 29/50\n",
      "63/63 [==============================] - 0s 2ms/step - loss: 0.1030 - mse: 0.1030 - val_loss: 0.3621 - val_mse: 0.3621\n",
      "Epoch 30/50\n",
      "63/63 [==============================] - 0s 2ms/step - loss: 0.1001 - mse: 0.1001 - val_loss: 0.2776 - val_mse: 0.2776\n",
      "Epoch 31/50\n",
      "63/63 [==============================] - 0s 2ms/step - loss: 0.0978 - mse: 0.0978 - val_loss: 0.2785 - val_mse: 0.2785\n",
      "Epoch 32/50\n",
      "63/63 [==============================] - 0s 2ms/step - loss: 0.0831 - mse: 0.0831 - val_loss: 0.2306 - val_mse: 0.2306\n",
      "Epoch 33/50\n",
      "63/63 [==============================] - 0s 2ms/step - loss: 0.0990 - mse: 0.0990 - val_loss: 0.4329 - val_mse: 0.4329\n",
      "Epoch 34/50\n",
      "63/63 [==============================] - 0s 2ms/step - loss: 0.1064 - mse: 0.1064 - val_loss: 0.2618 - val_mse: 0.2618\n",
      "Epoch 35/50\n",
      "63/63 [==============================] - 0s 2ms/step - loss: 0.0840 - mse: 0.0840 - val_loss: 0.2448 - val_mse: 0.2448\n",
      "Epoch 36/50\n",
      "63/63 [==============================] - 0s 2ms/step - loss: 0.0857 - mse: 0.0857 - val_loss: 0.3738 - val_mse: 0.3738\n",
      "Epoch 37/50\n",
      "63/63 [==============================] - 0s 2ms/step - loss: 0.0865 - mse: 0.0865 - val_loss: 0.3200 - val_mse: 0.3200\n",
      "Epoch 38/50\n",
      "63/63 [==============================] - 0s 2ms/step - loss: 0.0730 - mse: 0.0730 - val_loss: 0.2612 - val_mse: 0.2612\n",
      "Epoch 39/50\n",
      "63/63 [==============================] - 0s 2ms/step - loss: 0.0725 - mse: 0.0725 - val_loss: 0.2793 - val_mse: 0.2793\n",
      "Epoch 40/50\n",
      "63/63 [==============================] - 0s 2ms/step - loss: 0.0777 - mse: 0.0777 - val_loss: 0.2651 - val_mse: 0.2651\n",
      "Epoch 41/50\n",
      "63/63 [==============================] - 0s 2ms/step - loss: 0.0842 - mse: 0.0842 - val_loss: 0.6163 - val_mse: 0.6163\n",
      "Epoch 42/50\n",
      "63/63 [==============================] - 0s 2ms/step - loss: 0.0759 - mse: 0.0759 - val_loss: 0.3000 - val_mse: 0.3000\n",
      "Epoch 43/50\n",
      "63/63 [==============================] - 0s 2ms/step - loss: 0.0994 - mse: 0.0994 - val_loss: 0.2878 - val_mse: 0.2878\n",
      "Epoch 44/50\n",
      "63/63 [==============================] - 0s 2ms/step - loss: 0.0880 - mse: 0.0880 - val_loss: 0.2303 - val_mse: 0.2303\n",
      "Epoch 45/50\n",
      "63/63 [==============================] - 0s 2ms/step - loss: 0.0740 - mse: 0.0740 - val_loss: 0.2882 - val_mse: 0.2882\n",
      "Epoch 46/50\n",
      "63/63 [==============================] - 0s 2ms/step - loss: 0.0878 - mse: 0.0878 - val_loss: 0.2555 - val_mse: 0.2555\n",
      "Epoch 47/50\n",
      "63/63 [==============================] - 0s 2ms/step - loss: 0.0809 - mse: 0.0809 - val_loss: 0.3680 - val_mse: 0.3680\n",
      "Epoch 48/50\n",
      "63/63 [==============================] - 0s 2ms/step - loss: 0.0763 - mse: 0.0763 - val_loss: 0.3392 - val_mse: 0.3392\n",
      "Epoch 49/50\n",
      "63/63 [==============================] - 0s 2ms/step - loss: 0.0713 - mse: 0.0713 - val_loss: 0.2663 - val_mse: 0.2663\n",
      "Epoch 50/50\n",
      "63/63 [==============================] - 0s 2ms/step - loss: 0.0845 - mse: 0.0845 - val_loss: 0.2713 - val_mse: 0.2713\n"
     ]
    }
   ],
   "source": [
    "# fit the model using training dataset\n",
    "# over 10 epochs of 32 batch size each\n",
    "# report training progress against validation data\n",
    "history4 = model4.fit(x=x_train, y=y_train,batch_size=32, \n",
    "          epochs=50, \n",
    "          shuffle=True, # a good idea is to shuffle input before at each epoch\n",
    "          validation_data=(x_valid,y_valid))"
   ]
  },
  {
   "cell_type": "code",
   "execution_count": 223,
   "metadata": {
    "colab": {
     "base_uri": "https://localhost:8080/",
     "height": 295
    },
    "executionInfo": {
     "elapsed": 384,
     "status": "ok",
     "timestamp": 1630426236021,
     "user": {
      "displayName": "Massimiliano Matteucci",
      "photoUrl": "",
      "userId": "10645043906402067426"
     },
     "user_tz": -120
    },
    "id": "wTQ6RJEX6nyF",
    "outputId": "2f143840-487d-4746-e94e-e3c6322beb3e"
   },
   "outputs": [
    {
     "data": {
      "image/png": "[encoded data removed]",
      "text/plain": [
       "<Figure size 432x288 with 1 Axes>"
      ]
     },
     "metadata": {
      "needs_background": "light"
     },
     "output_type": "display_data"
    }
   ],
   "source": [
    "# look into training history\n",
    "# Plot training & validation loss values\n",
    "plt.plot(history4.history['loss'])\n",
    "plt.plot(history4.history['val_loss'])\n",
    "plt.title('Model loss')\n",
    "plt.ylabel('Loss')\n",
    "plt.xlabel('Epoch')\n",
    "plt.legend(['Train', 'Test'], loc='best')\n",
    "plt.show()"
   ]
  },
  {
   "cell_type": "code",
   "execution_count": 224,
   "metadata": {
    "colab": {
     "base_uri": "https://localhost:8080/",
     "height": 282
    },
    "executionInfo": {
     "elapsed": 755,
     "status": "ok",
     "timestamp": 1630426242940,
     "user": {
      "displayName": "Massimiliano Matteucci",
      "photoUrl": "",
      "userId": "10645043906402067426"
     },
     "user_tz": -120
    },
    "id": "2aqNQ_jI9M85",
    "outputId": "164c79c3-2633-409d-bea3-62f005dfd702"
   },
   "outputs": [
    {
     "data": {
      "text/plain": [
       "[]"
      ]
     },
     "execution_count": 224,
     "metadata": {},
     "output_type": "execute_result"
    },
    {
     "data": {
      "image/png": "[encoded data removed]",
      "text/plain": [
       "<Figure size 432x288 with 1 Axes>"
      ]
     },
     "metadata": {
      "needs_background": "light"
     },
     "output_type": "display_data"
    }
   ],
   "source": [
    "Grafici(model4)\n",
    "plt.plot()"
   ]
  },
  {
   "cell_type": "code",
   "execution_count": 209,
   "metadata": {
    "executionInfo": {
     "elapsed": 1608,
     "status": "ok",
     "timestamp": 1630426029915,
     "user": {
      "displayName": "Massimiliano Matteucci",
      "photoUrl": "",
      "userId": "10645043906402067426"
     },
     "user_tz": -120
    },
    "id": "v2xvYxbp7IN9"
   },
   "outputs": [],
   "source": [
    "# compose the NN model\n",
    "\n",
    "model5 = tf.keras.Sequential()\n",
    "model5.add(Dense(4,activation='elu', input_shape=(1,)))\n",
    "model5.add(Dense(4,activation='elu'))\n",
    "model5.add(Dense(4,activation='elu'))\n",
    "model5.add(Dense(4,activation='elu'))\n",
    "model5.add(Dense(1))\n",
    "\n",
    "\n",
    "# compile the model choosing optimizer, loss and metrics objects\n",
    "model5.compile(optimizer='adam', loss='mse', metrics=['mse'])"
   ]
  },
  {
   "cell_type": "code",
   "execution_count": 210,
   "metadata": {
    "colab": {
     "base_uri": "https://localhost:8080/"
    },
    "executionInfo": {
     "elapsed": 4677,
     "status": "ok",
     "timestamp": 1630426042325,
     "user": {
      "displayName": "Massimiliano Matteucci",
      "photoUrl": "",
      "userId": "10645043906402067426"
     },
     "user_tz": -120
    },
    "id": "qFLuw4Mm7yrP",
    "outputId": "e9c7bc33-5dc9-40e4-8656-cd472cdad022"
   },
   "outputs": [
    {
     "name": "stdout",
     "output_type": "stream",
     "text": [
      "Epoch 1/50\n",
      "63/63 [==============================] - 1s 4ms/step - loss: 10.4637 - mse: 10.4637 - val_loss: 9.1294 - val_mse: 9.1294\n",
      "Epoch 2/50\n",
      "63/63 [==============================] - 0s 2ms/step - loss: 7.3725 - mse: 7.3725 - val_loss: 5.8942 - val_mse: 5.8942\n",
      "Epoch 3/50\n",
      "63/63 [==============================] - 0s 2ms/step - loss: 4.4074 - mse: 4.4074 - val_loss: 3.2661 - val_mse: 3.2661\n",
      "Epoch 4/50\n",
      "63/63 [==============================] - 0s 2ms/step - loss: 2.3344 - mse: 2.3344 - val_loss: 1.6853 - val_mse: 1.6853\n",
      "Epoch 5/50\n",
      "63/63 [==============================] - 0s 2ms/step - loss: 1.2158 - mse: 1.2158 - val_loss: 0.8911 - val_mse: 0.8911\n",
      "Epoch 6/50\n",
      "63/63 [==============================] - 0s 2ms/step - loss: 0.6748 - mse: 0.6748 - val_loss: 0.6737 - val_mse: 0.6737\n",
      "Epoch 7/50\n",
      "63/63 [==============================] - 0s 2ms/step - loss: 0.4845 - mse: 0.4845 - val_loss: 0.6387 - val_mse: 0.6387\n",
      "Epoch 8/50\n",
      "63/63 [==============================] - 0s 2ms/step - loss: 0.4374 - mse: 0.4374 - val_loss: 0.6315 - val_mse: 0.6315\n",
      "Epoch 9/50\n",
      "63/63 [==============================] - 0s 2ms/step - loss: 0.4237 - mse: 0.4237 - val_loss: 0.6224 - val_mse: 0.6224\n",
      "Epoch 10/50\n",
      "63/63 [==============================] - 0s 2ms/step - loss: 0.4153 - mse: 0.4153 - val_loss: 0.5741 - val_mse: 0.5741\n",
      "Epoch 11/50\n",
      "63/63 [==============================] - 0s 2ms/step - loss: 0.4090 - mse: 0.4090 - val_loss: 0.5015 - val_mse: 0.5015\n",
      "Epoch 12/50\n",
      "63/63 [==============================] - 0s 2ms/step - loss: 0.4018 - mse: 0.4018 - val_loss: 0.5359 - val_mse: 0.5359\n",
      "Epoch 13/50\n",
      "63/63 [==============================] - 0s 2ms/step - loss: 0.3967 - mse: 0.3967 - val_loss: 0.4969 - val_mse: 0.4969\n",
      "Epoch 14/50\n",
      "63/63 [==============================] - 0s 2ms/step - loss: 0.3921 - mse: 0.3921 - val_loss: 0.5192 - val_mse: 0.5192\n",
      "Epoch 15/50\n",
      "63/63 [==============================] - 0s 2ms/step - loss: 0.3880 - mse: 0.3880 - val_loss: 0.4688 - val_mse: 0.4688\n",
      "Epoch 16/50\n",
      "63/63 [==============================] - 0s 2ms/step - loss: 0.3832 - mse: 0.3832 - val_loss: 0.4636 - val_mse: 0.4636\n",
      "Epoch 17/50\n",
      "63/63 [==============================] - 0s 2ms/step - loss: 0.3800 - mse: 0.3800 - val_loss: 0.4632 - val_mse: 0.4632\n",
      "Epoch 18/50\n",
      "63/63 [==============================] - 0s 3ms/step - loss: 0.3762 - mse: 0.3762 - val_loss: 0.4625 - val_mse: 0.4625\n",
      "Epoch 19/50\n",
      "63/63 [==============================] - 0s 2ms/step - loss: 0.3736 - mse: 0.3736 - val_loss: 0.4309 - val_mse: 0.4309\n",
      "Epoch 20/50\n",
      "63/63 [==============================] - 0s 2ms/step - loss: 0.3695 - mse: 0.3695 - val_loss: 0.4247 - val_mse: 0.4247\n",
      "Epoch 21/50\n",
      "63/63 [==============================] - 0s 2ms/step - loss: 0.3666 - mse: 0.3666 - val_loss: 0.4383 - val_mse: 0.4383\n",
      "Epoch 22/50\n",
      "63/63 [==============================] - 0s 3ms/step - loss: 0.3626 - mse: 0.3626 - val_loss: 0.4223 - val_mse: 0.4223\n",
      "Epoch 23/50\n",
      "63/63 [==============================] - 0s 2ms/step - loss: 0.3588 - mse: 0.3588 - val_loss: 0.4235 - val_mse: 0.4235\n",
      "Epoch 24/50\n",
      "63/63 [==============================] - 0s 2ms/step - loss: 0.3546 - mse: 0.3546 - val_loss: 0.4056 - val_mse: 0.4056\n",
      "Epoch 25/50\n",
      "63/63 [==============================] - 0s 2ms/step - loss: 0.3497 - mse: 0.3497 - val_loss: 0.4017 - val_mse: 0.4017\n",
      "Epoch 26/50\n",
      "63/63 [==============================] - 0s 2ms/step - loss: 0.3438 - mse: 0.3438 - val_loss: 0.3904 - val_mse: 0.3904\n",
      "Epoch 27/50\n",
      "63/63 [==============================] - 0s 2ms/step - loss: 0.3360 - mse: 0.3360 - val_loss: 0.3662 - val_mse: 0.3662\n",
      "Epoch 28/50\n",
      "63/63 [==============================] - 0s 2ms/step - loss: 0.3245 - mse: 0.3245 - val_loss: 0.3485 - val_mse: 0.3485\n",
      "Epoch 29/50\n",
      "63/63 [==============================] - 0s 2ms/step - loss: 0.3081 - mse: 0.3081 - val_loss: 0.3412 - val_mse: 0.3412\n",
      "Epoch 30/50\n",
      "63/63 [==============================] - 0s 2ms/step - loss: 0.2819 - mse: 0.2819 - val_loss: 0.2894 - val_mse: 0.2894\n",
      "Epoch 31/50\n",
      "63/63 [==============================] - 0s 2ms/step - loss: 0.2375 - mse: 0.2375 - val_loss: 0.2457 - val_mse: 0.2457\n",
      "Epoch 32/50\n",
      "63/63 [==============================] - 0s 2ms/step - loss: 0.1801 - mse: 0.1801 - val_loss: 0.2157 - val_mse: 0.2157\n",
      "Epoch 33/50\n",
      "63/63 [==============================] - 0s 2ms/step - loss: 0.1389 - mse: 0.1389 - val_loss: 0.2209 - val_mse: 0.2209\n",
      "Epoch 34/50\n",
      "63/63 [==============================] - 0s 2ms/step - loss: 0.1131 - mse: 0.1131 - val_loss: 0.2733 - val_mse: 0.2733\n",
      "Epoch 35/50\n",
      "63/63 [==============================] - 0s 2ms/step - loss: 0.0967 - mse: 0.0967 - val_loss: 0.2817 - val_mse: 0.2817\n",
      "Epoch 36/50\n",
      "63/63 [==============================] - 0s 2ms/step - loss: 0.0855 - mse: 0.0855 - val_loss: 0.2896 - val_mse: 0.2896\n",
      "Epoch 37/50\n",
      "63/63 [==============================] - 0s 2ms/step - loss: 0.0776 - mse: 0.0776 - val_loss: 0.3448 - val_mse: 0.3448\n",
      "Epoch 38/50\n",
      "63/63 [==============================] - 0s 2ms/step - loss: 0.0718 - mse: 0.0718 - val_loss: 0.3479 - val_mse: 0.3479\n",
      "Epoch 39/50\n",
      "63/63 [==============================] - 0s 2ms/step - loss: 0.0671 - mse: 0.0671 - val_loss: 0.3621 - val_mse: 0.3621\n",
      "Epoch 40/50\n",
      "63/63 [==============================] - 0s 2ms/step - loss: 0.0630 - mse: 0.0630 - val_loss: 0.3758 - val_mse: 0.3758\n",
      "Epoch 41/50\n",
      "63/63 [==============================] - 0s 2ms/step - loss: 0.0588 - mse: 0.0588 - val_loss: 0.4094 - val_mse: 0.4094\n",
      "Epoch 42/50\n",
      "63/63 [==============================] - 0s 2ms/step - loss: 0.0560 - mse: 0.0560 - val_loss: 0.4374 - val_mse: 0.4374\n",
      "Epoch 43/50\n",
      "63/63 [==============================] - 0s 2ms/step - loss: 0.0542 - mse: 0.0542 - val_loss: 0.4814 - val_mse: 0.4814\n",
      "Epoch 44/50\n",
      "63/63 [==============================] - 0s 2ms/step - loss: 0.0517 - mse: 0.0517 - val_loss: 0.5090 - val_mse: 0.5090\n",
      "Epoch 45/50\n",
      "63/63 [==============================] - 0s 2ms/step - loss: 0.0501 - mse: 0.0501 - val_loss: 0.5247 - val_mse: 0.5247\n",
      "Epoch 46/50\n",
      "63/63 [==============================] - 0s 2ms/step - loss: 0.0484 - mse: 0.0484 - val_loss: 0.5453 - val_mse: 0.5453\n",
      "Epoch 47/50\n",
      "63/63 [==============================] - 0s 2ms/step - loss: 0.0473 - mse: 0.0473 - val_loss: 0.6006 - val_mse: 0.6006\n",
      "Epoch 48/50\n",
      "63/63 [==============================] - 0s 2ms/step - loss: 0.0460 - mse: 0.0460 - val_loss: 0.5958 - val_mse: 0.5958\n",
      "Epoch 49/50\n",
      "63/63 [==============================] - 0s 2ms/step - loss: 0.0454 - mse: 0.0454 - val_loss: 0.5754 - val_mse: 0.5754\n",
      "Epoch 50/50\n",
      "63/63 [==============================] - 0s 2ms/step - loss: 0.0447 - mse: 0.0447 - val_loss: 0.6820 - val_mse: 0.6820\n"
     ]
    }
   ],
   "source": [
    "# fit the model using training dataset\n",
    "# over 10 epochs of 32 batch size each\n",
    "# report training progress against validation data\n",
    "history5 = model5.fit(x=x_train, y=y_train,batch_size=32, \n",
    "          epochs=50, \n",
    "          shuffle=True, # a good idea is to shuffle input before at each epoch\n",
    "          validation_data=(x_valid,y_valid))"
   ]
  },
  {
   "cell_type": "code",
   "execution_count": 211,
   "metadata": {
    "colab": {
     "base_uri": "https://localhost:8080/",
     "height": 295
    },
    "executionInfo": {
     "elapsed": 347,
     "status": "ok",
     "timestamp": 1630426048124,
     "user": {
      "displayName": "Massimiliano Matteucci",
      "photoUrl": "",
      "userId": "10645043906402067426"
     },
     "user_tz": -120
    },
    "id": "aFQTM5ng7y0H",
    "outputId": "ab1402f2-7e27-4cf3-fee5-6fb6f2592e21"
   },
   "outputs": [
    {
     "data": {
      "image/png": "[encoded data removed]",
      "text/plain": [
       "<Figure size 432x288 with 1 Axes>"
      ]
     },
     "metadata": {
      "needs_background": "light"
     },
     "output_type": "display_data"
    }
   ],
   "source": [
    "# look into training history\n",
    "# Plot training & validation loss values\n",
    "plt.plot(history5.history['loss'])\n",
    "plt.plot(history5.history['val_loss'])\n",
    "plt.title('Model loss')\n",
    "plt.ylabel('Loss')\n",
    "plt.xlabel('Epoch')\n",
    "plt.legend(['Train', 'Test'], loc='best')\n",
    "plt.show()"
   ]
  },
  {
   "cell_type": "code",
   "execution_count": 212,
   "metadata": {
    "colab": {
     "base_uri": "https://localhost:8080/",
     "height": 286
    },
    "executionInfo": {
     "elapsed": 1712,
     "status": "ok",
     "timestamp": 1630426081806,
     "user": {
      "displayName": "Massimiliano Matteucci",
      "photoUrl": "",
      "userId": "10645043906402067426"
     },
     "user_tz": -120
    },
    "id": "HcaPz0mz94Si",
    "outputId": "9f536b9e-5594-400b-b579-108c2ee284af"
   },
   "outputs": [
    {
     "data": {
      "text/plain": [
       "[]"
      ]
     },
     "execution_count": 212,
     "metadata": {},
     "output_type": "execute_result"
    },
    {
     "data": {
      "image/png": "[encoded data removed]",
      "text/plain": [
       "<Figure size 432x288 with 1 Axes>"
      ]
     },
     "metadata": {
      "needs_background": "light"
     },
     "output_type": "display_data"
    }
   ],
   "source": [
    "Grafici(model5)\n",
    "plt.plot()"
   ]
  },
  {
   "cell_type": "code",
   "execution_count": 248,
   "metadata": {
    "executionInfo": {
     "elapsed": 373,
     "status": "ok",
     "timestamp": 1630426844968,
     "user": {
      "displayName": "Massimiliano Matteucci",
      "photoUrl": "",
      "userId": "10645043906402067426"
     },
     "user_tz": -120
    },
    "id": "l_RL4tLu7Qw-"
   },
   "outputs": [],
   "source": [
    "# compose the NN model\n",
    "\n",
    "model6 = tf.keras.Sequential()\n",
    "model6.add(Dense(4,activation='elu', input_shape=(1,)))\n",
    "model6.add(Dense(4,activation='elu'))\n",
    "model6.add(Dense(4,activation='elu'))\n",
    "model6.add(Dense(4,activation='elu'))\n",
    "model6.add(Dense(1))\n",
    "\n",
    "\n",
    "# compile the model choosing optimizer, loss and metrics objects\n",
    "model6.compile(optimizer='sgd', loss='mean_absolute_percentage_error', metrics=['mean_absolute_percentage_error'])"
   ]
  },
  {
   "cell_type": "code",
   "execution_count": 249,
   "metadata": {
    "colab": {
     "base_uri": "https://localhost:8080/"
    },
    "executionInfo": {
     "elapsed": 8288,
     "status": "ok",
     "timestamp": 1630426855695,
     "user": {
      "displayName": "Massimiliano Matteucci",
      "photoUrl": "",
      "userId": "10645043906402067426"
     },
     "user_tz": -120
    },
    "id": "gJnkuxaq8Xpg",
    "outputId": "796e36f4-0c2c-4336-cc8d-5a4132c99836"
   },
   "outputs": [
    {
     "name": "stdout",
     "output_type": "stream",
     "text": [
      "Epoch 1/50\n",
      "63/63 [==============================] - 1s 4ms/step - loss: 29.5784 - mean_absolute_percentage_error: 29.5784 - val_loss: 16.5297 - val_mean_absolute_percentage_error: 16.5297\n",
      "Epoch 2/50\n",
      "63/63 [==============================] - 0s 2ms/step - loss: 16.1353 - mean_absolute_percentage_error: 16.1353 - val_loss: 17.2527 - val_mean_absolute_percentage_error: 17.2527\n",
      "Epoch 3/50\n",
      "63/63 [==============================] - 0s 2ms/step - loss: 15.3075 - mean_absolute_percentage_error: 15.3075 - val_loss: 14.3083 - val_mean_absolute_percentage_error: 14.3083\n",
      "Epoch 4/50\n",
      "63/63 [==============================] - 0s 2ms/step - loss: 15.0330 - mean_absolute_percentage_error: 15.0330 - val_loss: 14.9439 - val_mean_absolute_percentage_error: 14.9439\n",
      "Epoch 5/50\n",
      "63/63 [==============================] - 0s 2ms/step - loss: 14.2798 - mean_absolute_percentage_error: 14.2798 - val_loss: 13.0298 - val_mean_absolute_percentage_error: 13.0298\n",
      "Epoch 6/50\n",
      "63/63 [==============================] - 0s 2ms/step - loss: 14.9773 - mean_absolute_percentage_error: 14.9773 - val_loss: 27.9412 - val_mean_absolute_percentage_error: 27.9412\n",
      "Epoch 7/50\n",
      "63/63 [==============================] - 0s 2ms/step - loss: 14.5281 - mean_absolute_percentage_error: 14.5281 - val_loss: 17.1435 - val_mean_absolute_percentage_error: 17.1435\n",
      "Epoch 8/50\n",
      "63/63 [==============================] - 0s 2ms/step - loss: 14.4271 - mean_absolute_percentage_error: 14.4271 - val_loss: 14.8061 - val_mean_absolute_percentage_error: 14.8061\n",
      "Epoch 9/50\n",
      "63/63 [==============================] - 0s 2ms/step - loss: 13.8699 - mean_absolute_percentage_error: 13.8699 - val_loss: 12.1408 - val_mean_absolute_percentage_error: 12.1408\n",
      "Epoch 10/50\n",
      "63/63 [==============================] - 0s 2ms/step - loss: 13.4254 - mean_absolute_percentage_error: 13.4254 - val_loss: 13.1940 - val_mean_absolute_percentage_error: 13.1940\n",
      "Epoch 11/50\n",
      "63/63 [==============================] - 0s 2ms/step - loss: 12.4657 - mean_absolute_percentage_error: 12.4657 - val_loss: 17.4613 - val_mean_absolute_percentage_error: 17.4613\n",
      "Epoch 12/50\n",
      "63/63 [==============================] - 0s 2ms/step - loss: 12.4297 - mean_absolute_percentage_error: 12.4297 - val_loss: 11.9054 - val_mean_absolute_percentage_error: 11.9054\n",
      "Epoch 13/50\n",
      "63/63 [==============================] - 0s 2ms/step - loss: 11.2704 - mean_absolute_percentage_error: 11.2704 - val_loss: 26.5102 - val_mean_absolute_percentage_error: 26.5102\n",
      "Epoch 14/50\n",
      "63/63 [==============================] - 0s 2ms/step - loss: 12.5021 - mean_absolute_percentage_error: 12.5021 - val_loss: 14.4729 - val_mean_absolute_percentage_error: 14.4729\n",
      "Epoch 15/50\n",
      "63/63 [==============================] - 0s 2ms/step - loss: 11.1085 - mean_absolute_percentage_error: 11.1085 - val_loss: 14.6105 - val_mean_absolute_percentage_error: 14.6105\n",
      "Epoch 16/50\n",
      "63/63 [==============================] - 0s 2ms/step - loss: 11.3913 - mean_absolute_percentage_error: 11.3913 - val_loss: 11.8482 - val_mean_absolute_percentage_error: 11.8482\n",
      "Epoch 17/50\n",
      "63/63 [==============================] - 0s 2ms/step - loss: 10.8713 - mean_absolute_percentage_error: 10.8713 - val_loss: 15.5848 - val_mean_absolute_percentage_error: 15.5848\n",
      "Epoch 18/50\n",
      "63/63 [==============================] - 0s 2ms/step - loss: 11.0597 - mean_absolute_percentage_error: 11.0597 - val_loss: 12.9373 - val_mean_absolute_percentage_error: 12.9373\n",
      "Epoch 19/50\n",
      "63/63 [==============================] - 0s 2ms/step - loss: 11.1033 - mean_absolute_percentage_error: 11.1033 - val_loss: 12.0233 - val_mean_absolute_percentage_error: 12.0233\n",
      "Epoch 20/50\n",
      "63/63 [==============================] - 0s 2ms/step - loss: 10.2199 - mean_absolute_percentage_error: 10.2199 - val_loss: 20.9083 - val_mean_absolute_percentage_error: 20.9083\n",
      "Epoch 21/50\n",
      "63/63 [==============================] - 0s 2ms/step - loss: 10.7924 - mean_absolute_percentage_error: 10.7924 - val_loss: 20.0509 - val_mean_absolute_percentage_error: 20.0509\n",
      "Epoch 22/50\n",
      "63/63 [==============================] - 0s 2ms/step - loss: 10.7478 - mean_absolute_percentage_error: 10.7478 - val_loss: 18.6538 - val_mean_absolute_percentage_error: 18.6538\n",
      "Epoch 23/50\n",
      "63/63 [==============================] - 0s 2ms/step - loss: 10.1363 - mean_absolute_percentage_error: 10.1363 - val_loss: 21.0309 - val_mean_absolute_percentage_error: 21.0309\n",
      "Epoch 24/50\n",
      "63/63 [==============================] - 0s 2ms/step - loss: 10.1096 - mean_absolute_percentage_error: 10.1096 - val_loss: 18.6266 - val_mean_absolute_percentage_error: 18.6266\n",
      "Epoch 25/50\n",
      "63/63 [==============================] - 0s 2ms/step - loss: 9.5121 - mean_absolute_percentage_error: 9.5121 - val_loss: 13.4159 - val_mean_absolute_percentage_error: 13.4159\n",
      "Epoch 26/50\n",
      "63/63 [==============================] - 0s 2ms/step - loss: 9.2141 - mean_absolute_percentage_error: 9.2141 - val_loss: 11.6277 - val_mean_absolute_percentage_error: 11.6277\n",
      "Epoch 27/50\n",
      "63/63 [==============================] - 0s 2ms/step - loss: 8.8109 - mean_absolute_percentage_error: 8.8109 - val_loss: 15.4802 - val_mean_absolute_percentage_error: 15.4802\n",
      "Epoch 28/50\n",
      "63/63 [==============================] - 0s 2ms/step - loss: 8.8470 - mean_absolute_percentage_error: 8.8470 - val_loss: 14.8854 - val_mean_absolute_percentage_error: 14.8854\n",
      "Epoch 29/50\n",
      "63/63 [==============================] - 0s 2ms/step - loss: 8.8791 - mean_absolute_percentage_error: 8.8791 - val_loss: 16.5988 - val_mean_absolute_percentage_error: 16.5988\n",
      "Epoch 30/50\n",
      "63/63 [==============================] - 0s 2ms/step - loss: 9.0325 - mean_absolute_percentage_error: 9.0325 - val_loss: 11.0382 - val_mean_absolute_percentage_error: 11.0382\n",
      "Epoch 31/50\n",
      "63/63 [==============================] - 0s 2ms/step - loss: 8.6811 - mean_absolute_percentage_error: 8.6811 - val_loss: 10.5928 - val_mean_absolute_percentage_error: 10.5928\n",
      "Epoch 32/50\n",
      "63/63 [==============================] - 0s 2ms/step - loss: 8.7261 - mean_absolute_percentage_error: 8.7261 - val_loss: 25.3316 - val_mean_absolute_percentage_error: 25.3316\n",
      "Epoch 33/50\n",
      "63/63 [==============================] - 0s 2ms/step - loss: 8.7569 - mean_absolute_percentage_error: 8.7569 - val_loss: 17.0094 - val_mean_absolute_percentage_error: 17.0094\n",
      "Epoch 34/50\n",
      "63/63 [==============================] - 0s 2ms/step - loss: 9.2420 - mean_absolute_percentage_error: 9.2420 - val_loss: 12.6680 - val_mean_absolute_percentage_error: 12.6680\n",
      "Epoch 35/50\n",
      "63/63 [==============================] - 0s 2ms/step - loss: 8.7453 - mean_absolute_percentage_error: 8.7453 - val_loss: 16.7586 - val_mean_absolute_percentage_error: 16.7586\n",
      "Epoch 36/50\n",
      "63/63 [==============================] - 0s 2ms/step - loss: 8.4581 - mean_absolute_percentage_error: 8.4581 - val_loss: 15.1824 - val_mean_absolute_percentage_error: 15.1824\n",
      "Epoch 37/50\n",
      "63/63 [==============================] - 0s 2ms/step - loss: 8.6079 - mean_absolute_percentage_error: 8.6079 - val_loss: 16.6850 - val_mean_absolute_percentage_error: 16.6850\n",
      "Epoch 38/50\n",
      "63/63 [==============================] - 0s 2ms/step - loss: 8.1434 - mean_absolute_percentage_error: 8.1434 - val_loss: 14.9731 - val_mean_absolute_percentage_error: 14.9731\n",
      "Epoch 39/50\n",
      "63/63 [==============================] - 0s 2ms/step - loss: 8.5644 - mean_absolute_percentage_error: 8.5644 - val_loss: 15.3995 - val_mean_absolute_percentage_error: 15.3995\n",
      "Epoch 40/50\n",
      "63/63 [==============================] - 0s 2ms/step - loss: 8.5974 - mean_absolute_percentage_error: 8.5974 - val_loss: 19.5214 - val_mean_absolute_percentage_error: 19.5214\n",
      "Epoch 41/50\n",
      "63/63 [==============================] - 0s 2ms/step - loss: 8.2606 - mean_absolute_percentage_error: 8.2606 - val_loss: 14.8330 - val_mean_absolute_percentage_error: 14.8330\n",
      "Epoch 42/50\n",
      "63/63 [==============================] - 0s 2ms/step - loss: 8.5672 - mean_absolute_percentage_error: 8.5672 - val_loss: 15.9744 - val_mean_absolute_percentage_error: 15.9744\n",
      "Epoch 43/50\n",
      "63/63 [==============================] - 0s 2ms/step - loss: 8.8193 - mean_absolute_percentage_error: 8.8193 - val_loss: 18.8457 - val_mean_absolute_percentage_error: 18.8457\n",
      "Epoch 44/50\n",
      "63/63 [==============================] - 0s 2ms/step - loss: 8.7548 - mean_absolute_percentage_error: 8.7548 - val_loss: 10.8316 - val_mean_absolute_percentage_error: 10.8316\n",
      "Epoch 45/50\n",
      "63/63 [==============================] - 0s 2ms/step - loss: 8.2559 - mean_absolute_percentage_error: 8.2559 - val_loss: 14.0043 - val_mean_absolute_percentage_error: 14.0043\n",
      "Epoch 46/50\n",
      "63/63 [==============================] - 0s 2ms/step - loss: 8.3700 - mean_absolute_percentage_error: 8.3700 - val_loss: 12.7590 - val_mean_absolute_percentage_error: 12.7590\n",
      "Epoch 47/50\n",
      "63/63 [==============================] - 0s 2ms/step - loss: 8.4950 - mean_absolute_percentage_error: 8.4950 - val_loss: 22.9185 - val_mean_absolute_percentage_error: 22.9185\n",
      "Epoch 48/50\n",
      "63/63 [==============================] - 0s 2ms/step - loss: 8.4874 - mean_absolute_percentage_error: 8.4874 - val_loss: 9.5185 - val_mean_absolute_percentage_error: 9.5185\n",
      "Epoch 49/50\n",
      "63/63 [==============================] - 0s 2ms/step - loss: 8.3175 - mean_absolute_percentage_error: 8.3175 - val_loss: 21.0516 - val_mean_absolute_percentage_error: 21.0516\n",
      "Epoch 50/50\n",
      "63/63 [==============================] - 0s 2ms/step - loss: 8.7007 - mean_absolute_percentage_error: 8.7007 - val_loss: 10.8936 - val_mean_absolute_percentage_error: 10.8936\n"
     ]
    }
   ],
   "source": [
    "# fit the model using training dataset\n",
    "# over 10 epochs of 32 batch size each\n",
    "# report training progress against validation data\n",
    "history6 = model6.fit(x=x_train, y=y_train,batch_size=32, \n",
    "          epochs=50, \n",
    "          shuffle=True, # a good idea is to shuffle input before at each epoch\n",
    "          validation_data=(x_valid,y_valid))"
   ]
  },
  {
   "cell_type": "code",
   "execution_count": 250,
   "metadata": {
    "colab": {
     "base_uri": "https://localhost:8080/",
     "height": 295
    },
    "executionInfo": {
     "elapsed": 438,
     "status": "ok",
     "timestamp": 1630426860002,
     "user": {
      "displayName": "Massimiliano Matteucci",
      "photoUrl": "",
      "userId": "10645043906402067426"
     },
     "user_tz": -120
    },
    "id": "5MYESxFX8STW",
    "outputId": "f88fc23e-bfee-46f6-9be3-122e96fa6ad4"
   },
   "outputs": [
    {
     "data": {
      "image/png": "[encoded data removed]",
      "text/plain": [
       "<Figure size 432x288 with 1 Axes>"
      ]
     },
     "metadata": {
      "needs_background": "light"
     },
     "output_type": "display_data"
    }
   ],
   "source": [
    "# look into training history\n",
    "# Plot training & validation loss values\n",
    "plt.plot(history6.history['loss'])\n",
    "plt.plot(history6.history['val_loss'])\n",
    "plt.title('Model loss')\n",
    "plt.ylabel('Loss')\n",
    "plt.xlabel('Epoch')\n",
    "plt.legend(['Train', 'Test'], loc='best')\n",
    "plt.show()"
   ]
  },
  {
   "cell_type": "code",
   "execution_count": 251,
   "metadata": {
    "colab": {
     "base_uri": "https://localhost:8080/",
     "height": 286
    },
    "executionInfo": {
     "elapsed": 823,
     "status": "ok",
     "timestamp": 1630426865024,
     "user": {
      "displayName": "Massimiliano Matteucci",
      "photoUrl": "",
      "userId": "10645043906402067426"
     },
     "user_tz": -120
    },
    "id": "DqJhZwLp-Df-",
    "outputId": "2efb3e6f-83ae-4ca0-9617-f9ffead0ec37"
   },
   "outputs": [
    {
     "data": {
      "text/plain": [
       "[]"
      ]
     },
     "execution_count": 251,
     "metadata": {},
     "output_type": "execute_result"
    },
    {
     "data": {
      "image/png": "[encoded data removed]",
      "text/plain": [
       "<Figure size 432x288 with 1 Axes>"
      ]
     },
     "metadata": {
      "needs_background": "light"
     },
     "output_type": "display_data"
    }
   ],
   "source": [
    "Grafici(model6)\n",
    "plt.plot()"
   ]
  },
  {
   "cell_type": "markdown",
   "metadata": {
    "id": "QDeax4ZDA99O"
   },
   "source": [
    "Dalle diverse reti neurali sopra esposte vediamo come in linea generale all'aumentare del numero di nodi e della dimensione degli stessi si hanno approssimazioni migliori della funzione in esame.\n",
    "Osserviamo anche che le reti neurali approssimano bene la funzione nell'intervallo di training (punti in rosso) mentre uscendo al di fuori di esso non si ha alcuna correlazione tra i punti proposti (in giallo) e quelli effettivamente della funzione.   "
   ]
  },
  {
   "cell_type": "markdown",
   "metadata": {
    "id": "ePDNN-zQ0t4M"
   },
   "source": [
    "## <span style=\"color:green\"> Esercizio 3 </span>\n",
    "  \n",
    "Try to extend the model to fit a simple trigonometric 2D function such as $f(x,y) = \\sin(x^2+y^2)$ in the range $x \\in [-3/2,3/2]$ and $y \\in [-3/2,3/2]$."
   ]
  },
  {
   "cell_type": "code",
   "execution_count": 259,
   "metadata": {
    "executionInfo": {
     "elapsed": 2348,
     "status": "ok",
     "timestamp": 1630428035373,
     "user": {
      "displayName": "Massimiliano Matteucci",
      "photoUrl": "",
      "userId": "10645043906402067426"
     },
     "user_tz": -120
    },
    "id": "x44JRTYOKvrA"
   },
   "outputs": [],
   "source": [
    "\n",
    "n_train = 5000\n",
    "n_valid = 500\n",
    "# generate synthetic training dataset\n",
    "x_train = np.random.uniform(-1.5, 1.5, (n_train, 2))\n",
    "y_train = np.zeros(n_train)\n",
    "# generate synthetic validation data\n",
    "x_valid = np.random.uniform(-1.5, 1.5, (n_valid, 2))\n",
    "y_valid = np.zeros((n_valid))\n",
    "\n",
    "\n",
    "for i in range(n_train):\n",
    "  y_train[i]= np.sin(x_train[i,0]**2 + x_train[i,1]**2)\n",
    "\n",
    "for i in range(n_valid):\n",
    "  y_valid[i]= np.sin(x_valid[i,0]**2 + x_valid[i,1]**2)"
   ]
  },
  {
   "cell_type": "code",
   "execution_count": 280,
   "metadata": {
    "executionInfo": {
     "elapsed": 306,
     "status": "ok",
     "timestamp": 1630428986158,
     "user": {
      "displayName": "Massimiliano Matteucci",
      "photoUrl": "",
      "userId": "10645043906402067426"
     },
     "user_tz": -120
    },
    "id": "IVsSnUPLK1LB"
   },
   "outputs": [],
   "source": [
    "\n",
    "#from tensorflow.keras.callbaks import EarlyStopping\n",
    "\n",
    "model = tf.keras.Sequential()\n",
    "model.add(Dense(4, input_shape=(2,)))\n",
    "model.add(Dense(8, activation='elu'))\n",
    "model.add(Dense(8, activation='elu'))\n",
    "model.add(Dense(8, activation='elu'))\n",
    "\n",
    "\n",
    "model.add(Dense(1))\n",
    "\n",
    "# compile the model choosing optimizer, loss and metrics objects\n",
    "model.compile(optimizer='sgd', loss='mse', metrics=['mse'])"
   ]
  },
  {
   "cell_type": "code",
   "execution_count": 281,
   "metadata": {
    "colab": {
     "base_uri": "https://localhost:8080/"
    },
    "executionInfo": {
     "elapsed": 46962,
     "status": "ok",
     "timestamp": 1630429038336,
     "user": {
      "displayName": "Massimiliano Matteucci",
      "photoUrl": "",
      "userId": "10645043906402067426"
     },
     "user_tz": -120
    },
    "id": "0o5CiP_6K6Z3",
    "outputId": "3f94308b-8f43-47fb-92cf-72711b45511b"
   },
   "outputs": [
    {
     "name": "stdout",
     "output_type": "stream",
     "text": [
      "Epoch 1/300\n",
      "157/157 [==============================] - 1s 2ms/step - loss: 0.1685 - mse: 0.1685 - val_loss: 0.1414 - val_mse: 0.1414\n",
      "Epoch 2/300\n",
      "157/157 [==============================] - 0s 1ms/step - loss: 0.1427 - mse: 0.1427 - val_loss: 0.1420 - val_mse: 0.1420\n",
      "Epoch 3/300\n",
      "157/157 [==============================] - 0s 1ms/step - loss: 0.1418 - mse: 0.1418 - val_loss: 0.1397 - val_mse: 0.1397\n",
      "Epoch 4/300\n",
      "157/157 [==============================] - 0s 1ms/step - loss: 0.1415 - mse: 0.1415 - val_loss: 0.1395 - val_mse: 0.1395\n",
      "Epoch 5/300\n",
      "157/157 [==============================] - 0s 1ms/step - loss: 0.1410 - mse: 0.1410 - val_loss: 0.1393 - val_mse: 0.1393\n",
      "Epoch 6/300\n",
      "157/157 [==============================] - 0s 1ms/step - loss: 0.1407 - mse: 0.1407 - val_loss: 0.1383 - val_mse: 0.1383\n",
      "Epoch 7/300\n",
      "157/157 [==============================] - 0s 1ms/step - loss: 0.1405 - mse: 0.1405 - val_loss: 0.1382 - val_mse: 0.1382\n",
      "Epoch 8/300\n",
      "157/157 [==============================] - 0s 2ms/step - loss: 0.1401 - mse: 0.1401 - val_loss: 0.1376 - val_mse: 0.1376\n",
      "Epoch 9/300\n",
      "157/157 [==============================] - 0s 1ms/step - loss: 0.1398 - mse: 0.1398 - val_loss: 0.1377 - val_mse: 0.1377\n",
      "Epoch 10/300\n",
      "157/157 [==============================] - 0s 1ms/step - loss: 0.1396 - mse: 0.1396 - val_loss: 0.1385 - val_mse: 0.1385\n",
      "Epoch 11/300\n",
      "157/157 [==============================] - 0s 1ms/step - loss: 0.1392 - mse: 0.1392 - val_loss: 0.1375 - val_mse: 0.1375\n",
      "Epoch 12/300\n",
      "157/157 [==============================] - 0s 1ms/step - loss: 0.1391 - mse: 0.1391 - val_loss: 0.1369 - val_mse: 0.1369\n",
      "Epoch 13/300\n",
      "157/157 [==============================] - 0s 1ms/step - loss: 0.1388 - mse: 0.1388 - val_loss: 0.1363 - val_mse: 0.1363\n",
      "Epoch 14/300\n",
      "157/157 [==============================] - 0s 1ms/step - loss: 0.1385 - mse: 0.1385 - val_loss: 0.1362 - val_mse: 0.1362\n",
      "Epoch 15/300\n",
      "157/157 [==============================] - 0s 1ms/step - loss: 0.1383 - mse: 0.1383 - val_loss: 0.1362 - val_mse: 0.1362\n",
      "Epoch 16/300\n",
      "157/157 [==============================] - 0s 1ms/step - loss: 0.1379 - mse: 0.1379 - val_loss: 0.1356 - val_mse: 0.1356\n",
      "Epoch 17/300\n",
      "157/157 [==============================] - 0s 2ms/step - loss: 0.1376 - mse: 0.1376 - val_loss: 0.1362 - val_mse: 0.1362\n",
      "Epoch 18/300\n",
      "157/157 [==============================] - 0s 1ms/step - loss: 0.1375 - mse: 0.1375 - val_loss: 0.1355 - val_mse: 0.1355\n",
      "Epoch 19/300\n",
      "157/157 [==============================] - 0s 1ms/step - loss: 0.1372 - mse: 0.1372 - val_loss: 0.1350 - val_mse: 0.1350\n",
      "Epoch 20/300\n",
      "157/157 [==============================] - 0s 1ms/step - loss: 0.1368 - mse: 0.1368 - val_loss: 0.1351 - val_mse: 0.1351\n",
      "Epoch 21/300\n",
      "157/157 [==============================] - 0s 1ms/step - loss: 0.1366 - mse: 0.1366 - val_loss: 0.1361 - val_mse: 0.1361\n",
      "Epoch 22/300\n",
      "157/157 [==============================] - 0s 1ms/step - loss: 0.1364 - mse: 0.1364 - val_loss: 0.1339 - val_mse: 0.1339\n",
      "Epoch 23/300\n",
      "157/157 [==============================] - 0s 1ms/step - loss: 0.1361 - mse: 0.1361 - val_loss: 0.1340 - val_mse: 0.1340\n",
      "Epoch 24/300\n",
      "157/157 [==============================] - 0s 1ms/step - loss: 0.1358 - mse: 0.1358 - val_loss: 0.1336 - val_mse: 0.1336\n",
      "Epoch 25/300\n",
      "157/157 [==============================] - 0s 1ms/step - loss: 0.1355 - mse: 0.1355 - val_loss: 0.1332 - val_mse: 0.1332\n",
      "Epoch 26/300\n",
      "157/157 [==============================] - 0s 1ms/step - loss: 0.1351 - mse: 0.1351 - val_loss: 0.1330 - val_mse: 0.1330\n",
      "Epoch 27/300\n",
      "157/157 [==============================] - 0s 1ms/step - loss: 0.1348 - mse: 0.1348 - val_loss: 0.1330 - val_mse: 0.1330\n",
      "Epoch 28/300\n",
      "157/157 [==============================] - 0s 1ms/step - loss: 0.1343 - mse: 0.1343 - val_loss: 0.1321 - val_mse: 0.1321\n",
      "Epoch 29/300\n",
      "157/157 [==============================] - 0s 1ms/step - loss: 0.1342 - mse: 0.1342 - val_loss: 0.1321 - val_mse: 0.1321\n",
      "Epoch 30/300\n",
      "157/157 [==============================] - 0s 1ms/step - loss: 0.1336 - mse: 0.1336 - val_loss: 0.1314 - val_mse: 0.1314\n",
      "Epoch 31/300\n",
      "157/157 [==============================] - 0s 1ms/step - loss: 0.1332 - mse: 0.1332 - val_loss: 0.1312 - val_mse: 0.1312\n",
      "Epoch 32/300\n",
      "157/157 [==============================] - 0s 1ms/step - loss: 0.1328 - mse: 0.1328 - val_loss: 0.1304 - val_mse: 0.1304\n",
      "Epoch 33/300\n",
      "157/157 [==============================] - 0s 1ms/step - loss: 0.1323 - mse: 0.1323 - val_loss: 0.1328 - val_mse: 0.1328\n",
      "Epoch 34/300\n",
      "157/157 [==============================] - 0s 1ms/step - loss: 0.1319 - mse: 0.1319 - val_loss: 0.1307 - val_mse: 0.1307\n",
      "Epoch 35/300\n",
      "157/157 [==============================] - 0s 1ms/step - loss: 0.1311 - mse: 0.1311 - val_loss: 0.1297 - val_mse: 0.1297\n",
      "Epoch 36/300\n",
      "157/157 [==============================] - 0s 1ms/step - loss: 0.1307 - mse: 0.1307 - val_loss: 0.1283 - val_mse: 0.1283\n",
      "Epoch 37/300\n",
      "157/157 [==============================] - 0s 1ms/step - loss: 0.1301 - mse: 0.1301 - val_loss: 0.1284 - val_mse: 0.1284\n",
      "Epoch 38/300\n",
      "157/157 [==============================] - 0s 1ms/step - loss: 0.1293 - mse: 0.1293 - val_loss: 0.1271 - val_mse: 0.1271\n",
      "Epoch 39/300\n",
      "157/157 [==============================] - 0s 1ms/step - loss: 0.1284 - mse: 0.1284 - val_loss: 0.1269 - val_mse: 0.1269\n",
      "Epoch 40/300\n",
      "157/157 [==============================] - 0s 1ms/step - loss: 0.1277 - mse: 0.1277 - val_loss: 0.1252 - val_mse: 0.1252\n",
      "Epoch 41/300\n",
      "157/157 [==============================] - 0s 1ms/step - loss: 0.1268 - mse: 0.1268 - val_loss: 0.1242 - val_mse: 0.1242\n",
      "Epoch 42/300\n",
      "157/157 [==============================] - 0s 1ms/step - loss: 0.1257 - mse: 0.1257 - val_loss: 0.1241 - val_mse: 0.1241\n",
      "Epoch 43/300\n",
      "157/157 [==============================] - 0s 1ms/step - loss: 0.1249 - mse: 0.1249 - val_loss: 0.1221 - val_mse: 0.1221\n",
      "Epoch 44/300\n",
      "157/157 [==============================] - 0s 1ms/step - loss: 0.1237 - mse: 0.1237 - val_loss: 0.1221 - val_mse: 0.1221\n",
      "Epoch 45/300\n",
      "157/157 [==============================] - 0s 1ms/step - loss: 0.1224 - mse: 0.1224 - val_loss: 0.1189 - val_mse: 0.1189\n",
      "Epoch 46/300\n",
      "157/157 [==============================] - 0s 1ms/step - loss: 0.1208 - mse: 0.1208 - val_loss: 0.1188 - val_mse: 0.1188\n",
      "Epoch 47/300\n",
      "157/157 [==============================] - 0s 1ms/step - loss: 0.1195 - mse: 0.1195 - val_loss: 0.1160 - val_mse: 0.1160\n",
      "Epoch 48/300\n",
      "157/157 [==============================] - 0s 1ms/step - loss: 0.1182 - mse: 0.1182 - val_loss: 0.1155 - val_mse: 0.1155\n",
      "Epoch 49/300\n",
      "157/157 [==============================] - 0s 1ms/step - loss: 0.1168 - mse: 0.1168 - val_loss: 0.1135 - val_mse: 0.1135\n",
      "Epoch 50/300\n",
      "157/157 [==============================] - 0s 1ms/step - loss: 0.1154 - mse: 0.1154 - val_loss: 0.1111 - val_mse: 0.1111\n",
      "Epoch 51/300\n",
      "157/157 [==============================] - 0s 1ms/step - loss: 0.1139 - mse: 0.1139 - val_loss: 0.1122 - val_mse: 0.1122\n",
      "Epoch 52/300\n",
      "157/157 [==============================] - 0s 1ms/step - loss: 0.1127 - mse: 0.1127 - val_loss: 0.1103 - val_mse: 0.1103\n",
      "Epoch 53/300\n",
      "157/157 [==============================] - 0s 1ms/step - loss: 0.1115 - mse: 0.1115 - val_loss: 0.1066 - val_mse: 0.1066\n",
      "Epoch 54/300\n",
      "157/157 [==============================] - 0s 1ms/step - loss: 0.1102 - mse: 0.1102 - val_loss: 0.1053 - val_mse: 0.1053\n",
      "Epoch 55/300\n",
      "157/157 [==============================] - 0s 1ms/step - loss: 0.1090 - mse: 0.1090 - val_loss: 0.1075 - val_mse: 0.1075\n",
      "Epoch 56/300\n",
      "157/157 [==============================] - 0s 1ms/step - loss: 0.1084 - mse: 0.1084 - val_loss: 0.1032 - val_mse: 0.1032\n",
      "Epoch 57/300\n",
      "157/157 [==============================] - 0s 2ms/step - loss: 0.1071 - mse: 0.1071 - val_loss: 0.1149 - val_mse: 0.1149\n",
      "Epoch 58/300\n",
      "157/157 [==============================] - 0s 2ms/step - loss: 0.1069 - mse: 0.1069 - val_loss: 0.1072 - val_mse: 0.1072\n",
      "Epoch 59/300\n",
      "157/157 [==============================] - 0s 1ms/step - loss: 0.1060 - mse: 0.1060 - val_loss: 0.1007 - val_mse: 0.1007\n",
      "Epoch 60/300\n",
      "157/157 [==============================] - 0s 1ms/step - loss: 0.1053 - mse: 0.1053 - val_loss: 0.1005 - val_mse: 0.1005\n",
      "Epoch 61/300\n",
      "157/157 [==============================] - 0s 1ms/step - loss: 0.1047 - mse: 0.1047 - val_loss: 0.1030 - val_mse: 0.1030\n",
      "Epoch 62/300\n",
      "157/157 [==============================] - 0s 1ms/step - loss: 0.1042 - mse: 0.1042 - val_loss: 0.0984 - val_mse: 0.0984\n",
      "Epoch 63/300\n",
      "157/157 [==============================] - 0s 1ms/step - loss: 0.1035 - mse: 0.1035 - val_loss: 0.0979 - val_mse: 0.0979\n",
      "Epoch 64/300\n",
      "157/157 [==============================] - 0s 1ms/step - loss: 0.1033 - mse: 0.1033 - val_loss: 0.0976 - val_mse: 0.0976\n",
      "Epoch 65/300\n",
      "157/157 [==============================] - 0s 1ms/step - loss: 0.1027 - mse: 0.1027 - val_loss: 0.0975 - val_mse: 0.0975\n",
      "Epoch 66/300\n",
      "157/157 [==============================] - 0s 1ms/step - loss: 0.1024 - mse: 0.1024 - val_loss: 0.0963 - val_mse: 0.0963\n",
      "Epoch 67/300\n",
      "157/157 [==============================] - 0s 2ms/step - loss: 0.1020 - mse: 0.1020 - val_loss: 0.0991 - val_mse: 0.0991\n",
      "Epoch 68/300\n",
      "157/157 [==============================] - 0s 1ms/step - loss: 0.1013 - mse: 0.1013 - val_loss: 0.0962 - val_mse: 0.0962\n",
      "Epoch 69/300\n",
      "157/157 [==============================] - 0s 1ms/step - loss: 0.1012 - mse: 0.1012 - val_loss: 0.0950 - val_mse: 0.0950\n",
      "Epoch 70/300\n",
      "157/157 [==============================] - 0s 1ms/step - loss: 0.1007 - mse: 0.1007 - val_loss: 0.0962 - val_mse: 0.0962\n",
      "Epoch 71/300\n",
      "157/157 [==============================] - 0s 2ms/step - loss: 0.1002 - mse: 0.1002 - val_loss: 0.0957 - val_mse: 0.0957\n",
      "Epoch 72/300\n",
      "157/157 [==============================] - 0s 1ms/step - loss: 0.0996 - mse: 0.0996 - val_loss: 0.0943 - val_mse: 0.0943\n",
      "Epoch 73/300\n",
      "157/157 [==============================] - 0s 1ms/step - loss: 0.0991 - mse: 0.0991 - val_loss: 0.0923 - val_mse: 0.0923\n",
      "Epoch 74/300\n",
      "157/157 [==============================] - 0s 1ms/step - loss: 0.0985 - mse: 0.0985 - val_loss: 0.0946 - val_mse: 0.0946\n",
      "Epoch 75/300\n",
      "157/157 [==============================] - 0s 1ms/step - loss: 0.0980 - mse: 0.0980 - val_loss: 0.0916 - val_mse: 0.0916\n",
      "Epoch 76/300\n",
      "157/157 [==============================] - 0s 1ms/step - loss: 0.0974 - mse: 0.0974 - val_loss: 0.0917 - val_mse: 0.0917\n",
      "Epoch 77/300\n",
      "157/157 [==============================] - 0s 1ms/step - loss: 0.0965 - mse: 0.0965 - val_loss: 0.0915 - val_mse: 0.0915\n",
      "Epoch 78/300\n",
      "157/157 [==============================] - 0s 2ms/step - loss: 0.0959 - mse: 0.0959 - val_loss: 0.0895 - val_mse: 0.0895\n",
      "Epoch 79/300\n",
      "157/157 [==============================] - 0s 1ms/step - loss: 0.0950 - mse: 0.0950 - val_loss: 0.0880 - val_mse: 0.0880\n",
      "Epoch 80/300\n",
      "157/157 [==============================] - 0s 1ms/step - loss: 0.0942 - mse: 0.0942 - val_loss: 0.0875 - val_mse: 0.0875\n",
      "Epoch 81/300\n",
      "157/157 [==============================] - 0s 2ms/step - loss: 0.0933 - mse: 0.0933 - val_loss: 0.0865 - val_mse: 0.0865\n",
      "Epoch 82/300\n",
      "157/157 [==============================] - 0s 1ms/step - loss: 0.0922 - mse: 0.0922 - val_loss: 0.0863 - val_mse: 0.0863\n",
      "Epoch 83/300\n",
      "157/157 [==============================] - 0s 1ms/step - loss: 0.0915 - mse: 0.0915 - val_loss: 0.0844 - val_mse: 0.0844\n",
      "Epoch 84/300\n",
      "157/157 [==============================] - 0s 1ms/step - loss: 0.0904 - mse: 0.0904 - val_loss: 0.0830 - val_mse: 0.0830\n",
      "Epoch 85/300\n",
      "157/157 [==============================] - 0s 2ms/step - loss: 0.0896 - mse: 0.0896 - val_loss: 0.0831 - val_mse: 0.0831\n",
      "Epoch 86/300\n",
      "157/157 [==============================] - 0s 1ms/step - loss: 0.0882 - mse: 0.0882 - val_loss: 0.0808 - val_mse: 0.0808\n",
      "Epoch 87/300\n",
      "157/157 [==============================] - 0s 2ms/step - loss: 0.0872 - mse: 0.0872 - val_loss: 0.0797 - val_mse: 0.0797\n",
      "Epoch 88/300\n",
      "157/157 [==============================] - 0s 2ms/step - loss: 0.0858 - mse: 0.0858 - val_loss: 0.0790 - val_mse: 0.0790\n",
      "Epoch 89/300\n",
      "157/157 [==============================] - 0s 1ms/step - loss: 0.0847 - mse: 0.0847 - val_loss: 0.0792 - val_mse: 0.0792\n",
      "Epoch 90/300\n",
      "157/157 [==============================] - 0s 1ms/step - loss: 0.0834 - mse: 0.0834 - val_loss: 0.0787 - val_mse: 0.0787\n",
      "Epoch 91/300\n",
      "157/157 [==============================] - 0s 2ms/step - loss: 0.0822 - mse: 0.0822 - val_loss: 0.0757 - val_mse: 0.0757\n",
      "Epoch 92/300\n",
      "157/157 [==============================] - 0s 1ms/step - loss: 0.0807 - mse: 0.0807 - val_loss: 0.0754 - val_mse: 0.0754\n",
      "Epoch 93/300\n",
      "157/157 [==============================] - 0s 1ms/step - loss: 0.0797 - mse: 0.0797 - val_loss: 0.0752 - val_mse: 0.0752\n",
      "Epoch 94/300\n",
      "157/157 [==============================] - 0s 1ms/step - loss: 0.0783 - mse: 0.0783 - val_loss: 0.0720 - val_mse: 0.0720\n",
      "Epoch 95/300\n",
      "157/157 [==============================] - 0s 1ms/step - loss: 0.0773 - mse: 0.0773 - val_loss: 0.0708 - val_mse: 0.0708\n",
      "Epoch 96/300\n",
      "157/157 [==============================] - 0s 1ms/step - loss: 0.0761 - mse: 0.0761 - val_loss: 0.0698 - val_mse: 0.0698\n",
      "Epoch 97/300\n",
      "157/157 [==============================] - 0s 1ms/step - loss: 0.0750 - mse: 0.0750 - val_loss: 0.0689 - val_mse: 0.0689\n",
      "Epoch 98/300\n",
      "157/157 [==============================] - 0s 1ms/step - loss: 0.0740 - mse: 0.0740 - val_loss: 0.0718 - val_mse: 0.0718\n",
      "Epoch 99/300\n",
      "157/157 [==============================] - 0s 1ms/step - loss: 0.0730 - mse: 0.0730 - val_loss: 0.0674 - val_mse: 0.0674\n",
      "Epoch 100/300\n",
      "157/157 [==============================] - 0s 1ms/step - loss: 0.0718 - mse: 0.0718 - val_loss: 0.0669 - val_mse: 0.0669\n",
      "Epoch 101/300\n",
      "157/157 [==============================] - 0s 1ms/step - loss: 0.0709 - mse: 0.0709 - val_loss: 0.0664 - val_mse: 0.0664\n",
      "Epoch 102/300\n",
      "157/157 [==============================] - 0s 1ms/step - loss: 0.0703 - mse: 0.0703 - val_loss: 0.0657 - val_mse: 0.0657\n",
      "Epoch 103/300\n",
      "157/157 [==============================] - 0s 1ms/step - loss: 0.0695 - mse: 0.0695 - val_loss: 0.0654 - val_mse: 0.0654\n",
      "Epoch 104/300\n",
      "157/157 [==============================] - 0s 1ms/step - loss: 0.0687 - mse: 0.0687 - val_loss: 0.0650 - val_mse: 0.0650\n",
      "Epoch 105/300\n",
      "157/157 [==============================] - 0s 1ms/step - loss: 0.0682 - mse: 0.0682 - val_loss: 0.0689 - val_mse: 0.0689\n",
      "Epoch 106/300\n",
      "157/157 [==============================] - 0s 1ms/step - loss: 0.0676 - mse: 0.0676 - val_loss: 0.0625 - val_mse: 0.0625\n",
      "Epoch 107/300\n",
      "157/157 [==============================] - 0s 1ms/step - loss: 0.0666 - mse: 0.0666 - val_loss: 0.0621 - val_mse: 0.0621\n",
      "Epoch 108/300\n",
      "157/157 [==============================] - 0s 1ms/step - loss: 0.0658 - mse: 0.0658 - val_loss: 0.0627 - val_mse: 0.0627\n",
      "Epoch 109/300\n",
      "157/157 [==============================] - 0s 1ms/step - loss: 0.0651 - mse: 0.0651 - val_loss: 0.0607 - val_mse: 0.0607\n",
      "Epoch 110/300\n",
      "157/157 [==============================] - 0s 2ms/step - loss: 0.0645 - mse: 0.0645 - val_loss: 0.0609 - val_mse: 0.0609\n",
      "Epoch 111/300\n",
      "157/157 [==============================] - 0s 1ms/step - loss: 0.0638 - mse: 0.0638 - val_loss: 0.0618 - val_mse: 0.0618\n",
      "Epoch 112/300\n",
      "157/157 [==============================] - 0s 1ms/step - loss: 0.0629 - mse: 0.0629 - val_loss: 0.0593 - val_mse: 0.0593\n",
      "Epoch 113/300\n",
      "157/157 [==============================] - 0s 1ms/step - loss: 0.0624 - mse: 0.0624 - val_loss: 0.0584 - val_mse: 0.0584\n",
      "Epoch 114/300\n",
      "157/157 [==============================] - 0s 1ms/step - loss: 0.0614 - mse: 0.0614 - val_loss: 0.0580 - val_mse: 0.0580\n",
      "Epoch 115/300\n",
      "157/157 [==============================] - 0s 1ms/step - loss: 0.0605 - mse: 0.0605 - val_loss: 0.0604 - val_mse: 0.0604\n",
      "Epoch 116/300\n",
      "157/157 [==============================] - 0s 2ms/step - loss: 0.0600 - mse: 0.0600 - val_loss: 0.0568 - val_mse: 0.0568\n",
      "Epoch 117/300\n",
      "157/157 [==============================] - 0s 1ms/step - loss: 0.0591 - mse: 0.0591 - val_loss: 0.0559 - val_mse: 0.0559\n",
      "Epoch 118/300\n",
      "157/157 [==============================] - 0s 1ms/step - loss: 0.0587 - mse: 0.0587 - val_loss: 0.0549 - val_mse: 0.0549\n",
      "Epoch 119/300\n",
      "157/157 [==============================] - 0s 2ms/step - loss: 0.0579 - mse: 0.0579 - val_loss: 0.0549 - val_mse: 0.0549\n",
      "Epoch 120/300\n",
      "157/157 [==============================] - 0s 1ms/step - loss: 0.0571 - mse: 0.0571 - val_loss: 0.0552 - val_mse: 0.0552\n",
      "Epoch 121/300\n",
      "157/157 [==============================] - 0s 2ms/step - loss: 0.0558 - mse: 0.0558 - val_loss: 0.0528 - val_mse: 0.0528\n",
      "Epoch 122/300\n",
      "157/157 [==============================] - 0s 1ms/step - loss: 0.0551 - mse: 0.0551 - val_loss: 0.0542 - val_mse: 0.0542\n",
      "Epoch 123/300\n",
      "157/157 [==============================] - 0s 1ms/step - loss: 0.0542 - mse: 0.0542 - val_loss: 0.0503 - val_mse: 0.0503\n",
      "Epoch 124/300\n",
      "157/157 [==============================] - 0s 1ms/step - loss: 0.0536 - mse: 0.0536 - val_loss: 0.0518 - val_mse: 0.0518\n",
      "Epoch 125/300\n",
      "157/157 [==============================] - 0s 1ms/step - loss: 0.0522 - mse: 0.0522 - val_loss: 0.0553 - val_mse: 0.0553\n",
      "Epoch 126/300\n",
      "157/157 [==============================] - 0s 1ms/step - loss: 0.0514 - mse: 0.0514 - val_loss: 0.0511 - val_mse: 0.0511\n",
      "Epoch 127/300\n",
      "157/157 [==============================] - 0s 1ms/step - loss: 0.0508 - mse: 0.0508 - val_loss: 0.0469 - val_mse: 0.0469\n",
      "Epoch 128/300\n",
      "157/157 [==============================] - 0s 1ms/step - loss: 0.0492 - mse: 0.0492 - val_loss: 0.0867 - val_mse: 0.0867\n",
      "Epoch 129/300\n",
      "157/157 [==============================] - 0s 1ms/step - loss: 0.0483 - mse: 0.0483 - val_loss: 0.0483 - val_mse: 0.0483\n",
      "Epoch 130/300\n",
      "157/157 [==============================] - 0s 1ms/step - loss: 0.0472 - mse: 0.0472 - val_loss: 0.0744 - val_mse: 0.0744\n",
      "Epoch 131/300\n",
      "157/157 [==============================] - 0s 1ms/step - loss: 0.0461 - mse: 0.0461 - val_loss: 0.0437 - val_mse: 0.0437\n",
      "Epoch 132/300\n",
      "157/157 [==============================] - 0s 1ms/step - loss: 0.0450 - mse: 0.0450 - val_loss: 0.0873 - val_mse: 0.0873\n",
      "Epoch 133/300\n",
      "157/157 [==============================] - 0s 1ms/step - loss: 0.0437 - mse: 0.0437 - val_loss: 0.0424 - val_mse: 0.0424\n",
      "Epoch 134/300\n",
      "157/157 [==============================] - 0s 1ms/step - loss: 0.0423 - mse: 0.0423 - val_loss: 0.0435 - val_mse: 0.0435\n",
      "Epoch 135/300\n",
      "157/157 [==============================] - 0s 1ms/step - loss: 0.0409 - mse: 0.0409 - val_loss: 0.0381 - val_mse: 0.0381\n",
      "Epoch 136/300\n",
      "157/157 [==============================] - 0s 1ms/step - loss: 0.0398 - mse: 0.0398 - val_loss: 0.0414 - val_mse: 0.0414\n",
      "Epoch 137/300\n",
      "157/157 [==============================] - 0s 1ms/step - loss: 0.0381 - mse: 0.0381 - val_loss: 0.0365 - val_mse: 0.0365\n",
      "Epoch 138/300\n",
      "157/157 [==============================] - 0s 1ms/step - loss: 0.0376 - mse: 0.0376 - val_loss: 0.0463 - val_mse: 0.0463\n",
      "Epoch 139/300\n",
      "157/157 [==============================] - 0s 1ms/step - loss: 0.0361 - mse: 0.0361 - val_loss: 0.0349 - val_mse: 0.0349\n",
      "Epoch 140/300\n",
      "157/157 [==============================] - 0s 1ms/step - loss: 0.0348 - mse: 0.0348 - val_loss: 0.0328 - val_mse: 0.0328\n",
      "Epoch 141/300\n",
      "157/157 [==============================] - 0s 1ms/step - loss: 0.0334 - mse: 0.0334 - val_loss: 0.0899 - val_mse: 0.0899\n",
      "Epoch 142/300\n",
      "157/157 [==============================] - 0s 1ms/step - loss: 0.0326 - mse: 0.0326 - val_loss: 0.0308 - val_mse: 0.0308\n",
      "Epoch 143/300\n",
      "157/157 [==============================] - 0s 1ms/step - loss: 0.0306 - mse: 0.0306 - val_loss: 0.0351 - val_mse: 0.0351\n",
      "Epoch 144/300\n",
      "157/157 [==============================] - 0s 1ms/step - loss: 0.0291 - mse: 0.0291 - val_loss: 0.0275 - val_mse: 0.0275\n",
      "Epoch 145/300\n",
      "157/157 [==============================] - 0s 1ms/step - loss: 0.0275 - mse: 0.0275 - val_loss: 0.0252 - val_mse: 0.0252\n",
      "Epoch 146/300\n",
      "157/157 [==============================] - 0s 1ms/step - loss: 0.0261 - mse: 0.0261 - val_loss: 0.0236 - val_mse: 0.0236\n",
      "Epoch 147/300\n",
      "157/157 [==============================] - 0s 1ms/step - loss: 0.0247 - mse: 0.0247 - val_loss: 0.0224 - val_mse: 0.0224\n",
      "Epoch 148/300\n",
      "157/157 [==============================] - 0s 1ms/step - loss: 0.0231 - mse: 0.0231 - val_loss: 0.0217 - val_mse: 0.0217\n",
      "Epoch 149/300\n",
      "157/157 [==============================] - 0s 1ms/step - loss: 0.0217 - mse: 0.0217 - val_loss: 0.0202 - val_mse: 0.0202\n",
      "Epoch 150/300\n",
      "157/157 [==============================] - 0s 2ms/step - loss: 0.0205 - mse: 0.0205 - val_loss: 0.0196 - val_mse: 0.0196\n",
      "Epoch 151/300\n",
      "157/157 [==============================] - 0s 1ms/step - loss: 0.0191 - mse: 0.0191 - val_loss: 0.0219 - val_mse: 0.0219\n",
      "Epoch 152/300\n",
      "157/157 [==============================] - 0s 1ms/step - loss: 0.0172 - mse: 0.0172 - val_loss: 0.0259 - val_mse: 0.0259\n",
      "Epoch 153/300\n",
      "157/157 [==============================] - 0s 1ms/step - loss: 0.0158 - mse: 0.0158 - val_loss: 0.0141 - val_mse: 0.0141\n",
      "Epoch 154/300\n",
      "157/157 [==============================] - 0s 1ms/step - loss: 0.0147 - mse: 0.0147 - val_loss: 0.0130 - val_mse: 0.0130\n",
      "Epoch 155/300\n",
      "157/157 [==============================] - 0s 1ms/step - loss: 0.0132 - mse: 0.0132 - val_loss: 0.0167 - val_mse: 0.0167\n",
      "Epoch 156/300\n",
      "157/157 [==============================] - 0s 1ms/step - loss: 0.0121 - mse: 0.0121 - val_loss: 0.0111 - val_mse: 0.0111\n",
      "Epoch 157/300\n",
      "157/157 [==============================] - 0s 1ms/step - loss: 0.0108 - mse: 0.0108 - val_loss: 0.0129 - val_mse: 0.0129\n",
      "Epoch 158/300\n",
      "157/157 [==============================] - 0s 1ms/step - loss: 0.0100 - mse: 0.0100 - val_loss: 0.0089 - val_mse: 0.0089\n",
      "Epoch 159/300\n",
      "157/157 [==============================] - 0s 1ms/step - loss: 0.0087 - mse: 0.0087 - val_loss: 0.0087 - val_mse: 0.0087\n",
      "Epoch 160/300\n",
      "157/157 [==============================] - 0s 1ms/step - loss: 0.0081 - mse: 0.0081 - val_loss: 0.0177 - val_mse: 0.0177\n",
      "Epoch 161/300\n",
      "157/157 [==============================] - 0s 1ms/step - loss: 0.0074 - mse: 0.0074 - val_loss: 0.0084 - val_mse: 0.0084\n",
      "Epoch 162/300\n",
      "157/157 [==============================] - 0s 2ms/step - loss: 0.0066 - mse: 0.0066 - val_loss: 0.0059 - val_mse: 0.0059\n",
      "Epoch 163/300\n",
      "157/157 [==============================] - 0s 1ms/step - loss: 0.0060 - mse: 0.0060 - val_loss: 0.0061 - val_mse: 0.0061\n",
      "Epoch 164/300\n",
      "157/157 [==============================] - 0s 1ms/step - loss: 0.0054 - mse: 0.0054 - val_loss: 0.0049 - val_mse: 0.0049\n",
      "Epoch 165/300\n",
      "157/157 [==============================] - 0s 1ms/step - loss: 0.0050 - mse: 0.0050 - val_loss: 0.0048 - val_mse: 0.0048\n",
      "Epoch 166/300\n",
      "157/157 [==============================] - 0s 1ms/step - loss: 0.0046 - mse: 0.0046 - val_loss: 0.0045 - val_mse: 0.0045\n",
      "Epoch 167/300\n",
      "157/157 [==============================] - 0s 2ms/step - loss: 0.0043 - mse: 0.0043 - val_loss: 0.0044 - val_mse: 0.0044\n",
      "Epoch 168/300\n",
      "157/157 [==============================] - 0s 1ms/step - loss: 0.0040 - mse: 0.0040 - val_loss: 0.0041 - val_mse: 0.0041\n",
      "Epoch 169/300\n",
      "157/157 [==============================] - 0s 1ms/step - loss: 0.0038 - mse: 0.0038 - val_loss: 0.0054 - val_mse: 0.0054\n",
      "Epoch 170/300\n",
      "157/157 [==============================] - 0s 1ms/step - loss: 0.0036 - mse: 0.0036 - val_loss: 0.0036 - val_mse: 0.0036\n",
      "Epoch 171/300\n",
      "157/157 [==============================] - 0s 1ms/step - loss: 0.0034 - mse: 0.0034 - val_loss: 0.0057 - val_mse: 0.0057\n",
      "Epoch 172/300\n",
      "157/157 [==============================] - 0s 1ms/step - loss: 0.0033 - mse: 0.0033 - val_loss: 0.0039 - val_mse: 0.0039\n",
      "Epoch 173/300\n",
      "157/157 [==============================] - 0s 2ms/step - loss: 0.0031 - mse: 0.0031 - val_loss: 0.0036 - val_mse: 0.0036\n",
      "Epoch 174/300\n",
      "157/157 [==============================] - 0s 2ms/step - loss: 0.0030 - mse: 0.0030 - val_loss: 0.0031 - val_mse: 0.0031\n",
      "Epoch 175/300\n",
      "157/157 [==============================] - 0s 2ms/step - loss: 0.0029 - mse: 0.0029 - val_loss: 0.0030 - val_mse: 0.0030\n",
      "Epoch 176/300\n",
      "157/157 [==============================] - 0s 1ms/step - loss: 0.0028 - mse: 0.0028 - val_loss: 0.0041 - val_mse: 0.0041\n",
      "Epoch 177/300\n",
      "157/157 [==============================] - 0s 1ms/step - loss: 0.0027 - mse: 0.0027 - val_loss: 0.0035 - val_mse: 0.0035\n",
      "Epoch 178/300\n",
      "157/157 [==============================] - 0s 1ms/step - loss: 0.0027 - mse: 0.0027 - val_loss: 0.0027 - val_mse: 0.0027\n",
      "Epoch 179/300\n",
      "157/157 [==============================] - 0s 1ms/step - loss: 0.0026 - mse: 0.0026 - val_loss: 0.0025 - val_mse: 0.0025\n",
      "Epoch 180/300\n",
      "157/157 [==============================] - 0s 1ms/step - loss: 0.0026 - mse: 0.0026 - val_loss: 0.0033 - val_mse: 0.0033\n",
      "Epoch 181/300\n",
      "157/157 [==============================] - 0s 1ms/step - loss: 0.0025 - mse: 0.0025 - val_loss: 0.0030 - val_mse: 0.0030\n",
      "Epoch 182/300\n",
      "157/157 [==============================] - 0s 1ms/step - loss: 0.0024 - mse: 0.0024 - val_loss: 0.0029 - val_mse: 0.0029\n",
      "Epoch 183/300\n",
      "157/157 [==============================] - 0s 1ms/step - loss: 0.0024 - mse: 0.0024 - val_loss: 0.0025 - val_mse: 0.0025\n",
      "Epoch 184/300\n",
      "157/157 [==============================] - 0s 2ms/step - loss: 0.0024 - mse: 0.0024 - val_loss: 0.0024 - val_mse: 0.0024\n",
      "Epoch 185/300\n",
      "157/157 [==============================] - 0s 2ms/step - loss: 0.0023 - mse: 0.0023 - val_loss: 0.0028 - val_mse: 0.0028\n",
      "Epoch 186/300\n",
      "157/157 [==============================] - 0s 2ms/step - loss: 0.0023 - mse: 0.0023 - val_loss: 0.0024 - val_mse: 0.0024\n",
      "Epoch 187/300\n",
      "157/157 [==============================] - 0s 2ms/step - loss: 0.0023 - mse: 0.0023 - val_loss: 0.0026 - val_mse: 0.0026\n",
      "Epoch 188/300\n",
      "157/157 [==============================] - 0s 1ms/step - loss: 0.0023 - mse: 0.0023 - val_loss: 0.0025 - val_mse: 0.0025\n",
      "Epoch 189/300\n",
      "157/157 [==============================] - 0s 1ms/step - loss: 0.0022 - mse: 0.0022 - val_loss: 0.0023 - val_mse: 0.0023\n",
      "Epoch 190/300\n",
      "157/157 [==============================] - 0s 1ms/step - loss: 0.0022 - mse: 0.0022 - val_loss: 0.0025 - val_mse: 0.0025\n",
      "Epoch 191/300\n",
      "157/157 [==============================] - 0s 2ms/step - loss: 0.0022 - mse: 0.0022 - val_loss: 0.0083 - val_mse: 0.0083\n",
      "Epoch 192/300\n",
      "157/157 [==============================] - 0s 1ms/step - loss: 0.0023 - mse: 0.0023 - val_loss: 0.0023 - val_mse: 0.0023\n",
      "Epoch 193/300\n",
      "157/157 [==============================] - 0s 1ms/step - loss: 0.0021 - mse: 0.0021 - val_loss: 0.0035 - val_mse: 0.0035\n",
      "Epoch 194/300\n",
      "157/157 [==============================] - 0s 1ms/step - loss: 0.0022 - mse: 0.0022 - val_loss: 0.0023 - val_mse: 0.0023\n",
      "Epoch 195/300\n",
      "157/157 [==============================] - 0s 2ms/step - loss: 0.0021 - mse: 0.0021 - val_loss: 0.0021 - val_mse: 0.0021\n",
      "Epoch 196/300\n",
      "157/157 [==============================] - 0s 1ms/step - loss: 0.0021 - mse: 0.0021 - val_loss: 0.0022 - val_mse: 0.0022\n",
      "Epoch 197/300\n",
      "157/157 [==============================] - 0s 1ms/step - loss: 0.0020 - mse: 0.0020 - val_loss: 0.0039 - val_mse: 0.0039\n",
      "Epoch 198/300\n",
      "157/157 [==============================] - 0s 1ms/step - loss: 0.0021 - mse: 0.0021 - val_loss: 0.0022 - val_mse: 0.0022\n",
      "Epoch 199/300\n",
      "157/157 [==============================] - 0s 2ms/step - loss: 0.0020 - mse: 0.0020 - val_loss: 0.0023 - val_mse: 0.0023\n",
      "Epoch 200/300\n",
      "157/157 [==============================] - 0s 2ms/step - loss: 0.0020 - mse: 0.0020 - val_loss: 0.0025 - val_mse: 0.0025\n"
     ]
    }
   ],
   "source": [
    "\n",
    "callback = tf.keras.callbacks.EarlyStopping(monitor='val_loss', patience=5)\n",
    "\n",
    "bsize = 32\n",
    "# fit the model using training dataset\n",
    "# over 50 epochs of 32 batch size each\n",
    "# report training progress against validation data\n",
    "history = model.fit(x=x_train, y=y_train, \n",
    "          batch_size=bsize, epochs=300, callbacks= [callback], \n",
    "          validation_data=(x_valid, y_valid))"
   ]
  },
  {
   "cell_type": "code",
   "execution_count": 282,
   "metadata": {
    "colab": {
     "base_uri": "https://localhost:8080/"
    },
    "executionInfo": {
     "elapsed": 261,
     "status": "ok",
     "timestamp": 1630429044705,
     "user": {
      "displayName": "Massimiliano Matteucci",
      "photoUrl": "",
      "userId": "10645043906402067426"
     },
     "user_tz": -120
    },
    "id": "B0ozBX0PK-sb",
    "outputId": "16452f6b-20f0-4fa4-b45d-107b1faf172b"
   },
   "outputs": [
    {
     "name": "stdout",
     "output_type": "stream",
     "text": [
      "16/16 [==============================] - 0s 2ms/step - loss: 0.0025 - mse: 0.0025\n",
      "\n",
      "Test loss: 0.00248598656617105\n",
      "Test accuracy: 0.00248598656617105\n"
     ]
    }
   ],
   "source": [
    "# evaluate model\n",
    "score = model.evaluate(x_valid, y_valid, batch_size=32, verbose=1)\n",
    "\n",
    "# print performance\n",
    "print()\n",
    "print('Test loss:', score[0])\n",
    "print('Test accuracy:', score[1])"
   ]
  },
  {
   "cell_type": "code",
   "execution_count": 283,
   "metadata": {
    "colab": {
     "base_uri": "https://localhost:8080/",
     "height": 295
    },
    "executionInfo": {
     "elapsed": 397,
     "status": "ok",
     "timestamp": 1630429048199,
     "user": {
      "displayName": "Massimiliano Matteucci",
      "photoUrl": "",
      "userId": "10645043906402067426"
     },
     "user_tz": -120
    },
    "id": "EOjWfHMuLBdD",
    "outputId": "5bd493d3-3107-4bac-cb78-13f2f9654313"
   },
   "outputs": [
    {
     "data": {
      "image/png": "[encoded data removed]",
      "text/plain": [
       "<Figure size 432x288 with 1 Axes>"
      ]
     },
     "metadata": {
      "needs_background": "light"
     },
     "output_type": "display_data"
    }
   ],
   "source": [
    "# look into training history\n",
    "# Plot training & validation loss values\n",
    "plt.plot(history.history['loss'])\n",
    "plt.plot(history.history['val_loss'])\n",
    "plt.title('Model loss')\n",
    "plt.ylabel('Loss')\n",
    "plt.xlabel('Epoch')\n",
    "plt.legend(['Train', 'Test'], loc='best')\n",
    "plt.show()"
   ]
  },
  {
   "cell_type": "code",
   "execution_count": 284,
   "metadata": {
    "colab": {
     "base_uri": "https://localhost:8080/",
     "height": 479
    },
    "executionInfo": {
     "elapsed": 6137,
     "status": "ok",
     "timestamp": 1630429062426,
     "user": {
      "displayName": "Massimiliano Matteucci",
      "photoUrl": "",
      "userId": "10645043906402067426"
     },
     "user_tz": -120
    },
    "id": "CPYS4qQ_LGkq",
    "outputId": "d153cb10-5580-4a13-bf06-7cefb19adea0"
   },
   "outputs": [
    {
     "data": {
      "image/png": "[encoded data removed]",
      "text/plain": [
       "<Figure size 432x288 with 1 Axes>"
      ]
     },
     "metadata": {
      "needs_background": "light"
     },
     "output_type": "display_data"
    },
    {
     "data": {
      "image/png": "[encoded data removed]",
      "text/plain": [
       "<Figure size 432x288 with 1 Axes>"
      ]
     },
     "metadata": {
      "needs_background": "light"
     },
     "output_type": "display_data"
    }
   ],
   "source": [
    "\n",
    "x_predicted = np.random.uniform(-1.5, 1.5, (n_valid, 2))\n",
    "y_predicted = model.predict(x_predicted)\n",
    "y_target = np.zeros(n_valid)\n",
    "for i in range(n_valid):\n",
    "  y_target[i]= np.sin(x_predicted[i,0]**2 + x_predicted[i,1]**2)\n",
    "\n",
    "\n",
    "ax1 = plt.axes(projection='3d')\n",
    "ax1.scatter3D(x_predicted[:,0], x_predicted[:,1], y_predicted, label='predicted')\n",
    "plt.grid(True)\n",
    "plt.legend()\n",
    "plt.show()\n",
    "\n",
    "ax2 = plt.axes(projection='3d')\n",
    "ax2.scatter3D(x_predicted[:,0], x_predicted[:,1], y_target, label = 'exact')\n",
    "\n",
    "plt.grid(True)\n",
    "plt.legend()\n",
    "plt.show()"
   ]
  }
 ],
 "metadata": {
  "colab": {
   "collapsed_sections": [],
   "name": "Copia di Esercizio11.ipynb",
   "provenance": [
    {
     "file_id": "1Wtpi7i31cJ36WfnsFd3GT9iCq_pBH_X2",
     "timestamp": 1630429078937
    }
   ]
  },
  "kernelspec": {
   "display_name": "Python 3",
   "language": "python",
   "name": "python3"
  },
  "language_info": {
   "codemirror_mode": {
    "name": "ipython",
    "version": 3
   },
   "file_extension": ".py",
   "mimetype": "text/x-python",
   "name": "python",
   "nbconvert_exporter": "python",
   "pygments_lexer": "ipython3",
   "version": "3.8.5"
  }
 },
 "nbformat": 4,
 "nbformat_minor": 1
}
